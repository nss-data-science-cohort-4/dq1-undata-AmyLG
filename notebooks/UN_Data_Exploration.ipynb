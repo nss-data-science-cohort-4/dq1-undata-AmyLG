{
 "cells": [
  {
   "cell_type": "markdown",
   "metadata": {},
   "source": [
    "# Data Question 1: An Exploration of UN data"
   ]
  },
  {
   "cell_type": "markdown",
   "metadata": {},
   "source": [
    "##Guided Practice:\n",
    "\n",
    "1. Download two CSV files and place them in the data folder of your local \n",
    "Data Question 1 repository: \n",
    "a. Gross Domestic Product (GDP) per capita: \n",
    "http://data.un.org/Data.aspx?d=WDI&f=Indicator_Code%3aNY \n",
    ".GDP.PCAP.PP.KD \n",
    "• DO NOT APPLY ANY FILTERS \n",
    "• rename the file to gdp_per_capita.csv \n",
    "• open it with a text editor (not Excel) and take a look \n",
    "\n",
    "b. Percentage of Individuals using the Internet: \n",
    "http://data.un.org/Data.aspx?d=ITU&f=ind1Code%3aI99H \n",
    "• DO NOT APPLY ANY FILTERS \n",
    "• rename the file to internet_use.csv \n",
    "• open it with a text editor (not Excel) and take a look \n",
    "\n",
    "2. Create a Jupyter Notebook in the notebooks folder and name it UN_Data_Exploration.\n",
    "\n",
    "• You are likely to get errors along the way. When you do, read the errors to try to understand what is happening and how to correct it. \n",
    "• Use markdown cells to record your answers to any questions asked in this exercise. On the menu bar, you can toggle the cell type from ‘Code’ to ‘Markdown’. Here is a link to a cheat sheet showing the basics of styling text using Markdown."
   ]
  },
  {
   "cell_type": "code",
   "execution_count": 2,
   "metadata": {},
   "outputs": [],
   "source": [
    "### 3.Import packages\n",
    "import pandas as pd\n",
    "import numpy as np\n",
    "import matplotlib.pyplot as plt\n",
    "import seaborn as sns\n",
    "import scipy.stats as stats\n",
    "import statsmodels.api as sm\n",
    "\n",
    "### 4. plots show in the notebook without having to call plt.show() every time\n",
    "\n",
    "%matplotlib inline"
   ]
  },
  {
   "cell_type": "code",
   "execution_count": 3,
   "metadata": {},
   "outputs": [],
   "source": [
    "###5. Using the pandas read_csv() function, read the GDP dataset into your notebook as a DataFrame called gdp_df.\n",
    "gdp_df = pd.read_csv('../data/gdp_per_capita.csv')"
   ]
  },
  {
   "cell_type": "code",
   "execution_count": 4,
   "metadata": {},
   "outputs": [
    {
     "data": {
      "text/html": [
       "<div>\n",
       "<style scoped>\n",
       "    .dataframe tbody tr th:only-of-type {\n",
       "        vertical-align: middle;\n",
       "    }\n",
       "\n",
       "    .dataframe tbody tr th {\n",
       "        vertical-align: top;\n",
       "    }\n",
       "\n",
       "    .dataframe thead th {\n",
       "        text-align: right;\n",
       "    }\n",
       "</style>\n",
       "<table border=\"1\" class=\"dataframe\">\n",
       "  <thead>\n",
       "    <tr style=\"text-align: right;\">\n",
       "      <th></th>\n",
       "      <th>Country or Area</th>\n",
       "      <th>Year</th>\n",
       "      <th>Value</th>\n",
       "      <th>Value Footnotes</th>\n",
       "    </tr>\n",
       "  </thead>\n",
       "  <tbody>\n",
       "    <tr>\n",
       "      <th>0</th>\n",
       "      <td>Afghanistan</td>\n",
       "      <td>2018</td>\n",
       "      <td>1734.723214</td>\n",
       "      <td>NaN</td>\n",
       "    </tr>\n",
       "    <tr>\n",
       "      <th>1</th>\n",
       "      <td>Afghanistan</td>\n",
       "      <td>2017</td>\n",
       "      <td>1758.465636</td>\n",
       "      <td>NaN</td>\n",
       "    </tr>\n",
       "    <tr>\n",
       "      <th>2</th>\n",
       "      <td>Afghanistan</td>\n",
       "      <td>2016</td>\n",
       "      <td>1757.023490</td>\n",
       "      <td>NaN</td>\n",
       "    </tr>\n",
       "    <tr>\n",
       "      <th>3</th>\n",
       "      <td>Afghanistan</td>\n",
       "      <td>2015</td>\n",
       "      <td>1766.593077</td>\n",
       "      <td>NaN</td>\n",
       "    </tr>\n",
       "    <tr>\n",
       "      <th>4</th>\n",
       "      <td>Afghanistan</td>\n",
       "      <td>2014</td>\n",
       "      <td>1795.735834</td>\n",
       "      <td>NaN</td>\n",
       "    </tr>\n",
       "    <tr>\n",
       "      <th>5</th>\n",
       "      <td>Afghanistan</td>\n",
       "      <td>2013</td>\n",
       "      <td>1807.762344</td>\n",
       "      <td>NaN</td>\n",
       "    </tr>\n",
       "    <tr>\n",
       "      <th>6</th>\n",
       "      <td>Afghanistan</td>\n",
       "      <td>2012</td>\n",
       "      <td>1772.764974</td>\n",
       "      <td>NaN</td>\n",
       "    </tr>\n",
       "    <tr>\n",
       "      <th>7</th>\n",
       "      <td>Afghanistan</td>\n",
       "      <td>2011</td>\n",
       "      <td>1626.764793</td>\n",
       "      <td>NaN</td>\n",
       "    </tr>\n",
       "    <tr>\n",
       "      <th>8</th>\n",
       "      <td>Afghanistan</td>\n",
       "      <td>2010</td>\n",
       "      <td>1671.581238</td>\n",
       "      <td>NaN</td>\n",
       "    </tr>\n",
       "    <tr>\n",
       "      <th>9</th>\n",
       "      <td>Afghanistan</td>\n",
       "      <td>2009</td>\n",
       "      <td>1502.354073</td>\n",
       "      <td>NaN</td>\n",
       "    </tr>\n",
       "  </tbody>\n",
       "</table>\n",
       "</div>"
      ],
      "text/plain": [
       "  Country or Area  Year        Value  Value Footnotes\n",
       "0     Afghanistan  2018  1734.723214              NaN\n",
       "1     Afghanistan  2017  1758.465636              NaN\n",
       "2     Afghanistan  2016  1757.023490              NaN\n",
       "3     Afghanistan  2015  1766.593077              NaN\n",
       "4     Afghanistan  2014  1795.735834              NaN\n",
       "5     Afghanistan  2013  1807.762344              NaN\n",
       "6     Afghanistan  2012  1772.764974              NaN\n",
       "7     Afghanistan  2011  1626.764793              NaN\n",
       "8     Afghanistan  2010  1671.581238              NaN\n",
       "9     Afghanistan  2009  1502.354073              NaN"
      ]
     },
     "execution_count": 4,
     "metadata": {},
     "output_type": "execute_result"
    }
   ],
   "source": [
    "## Take a look at the first 10 rows.\n",
    "gdp_df.head(10)"
   ]
  },
  {
   "cell_type": "code",
   "execution_count": 5,
   "metadata": {},
   "outputs": [
    {
     "data": {
      "text/html": [
       "<div>\n",
       "<style scoped>\n",
       "    .dataframe tbody tr th:only-of-type {\n",
       "        vertical-align: middle;\n",
       "    }\n",
       "\n",
       "    .dataframe tbody tr th {\n",
       "        vertical-align: top;\n",
       "    }\n",
       "\n",
       "    .dataframe thead th {\n",
       "        text-align: right;\n",
       "    }\n",
       "</style>\n",
       "<table border=\"1\" class=\"dataframe\">\n",
       "  <thead>\n",
       "    <tr style=\"text-align: right;\">\n",
       "      <th></th>\n",
       "      <th>Country or Area</th>\n",
       "      <th>Year</th>\n",
       "      <th>Value</th>\n",
       "      <th>Value Footnotes</th>\n",
       "    </tr>\n",
       "  </thead>\n",
       "  <tbody>\n",
       "    <tr>\n",
       "      <th>6726</th>\n",
       "      <td>Zimbabwe</td>\n",
       "      <td>1992</td>\n",
       "      <td>2591.007534</td>\n",
       "      <td>NaN</td>\n",
       "    </tr>\n",
       "    <tr>\n",
       "      <th>6727</th>\n",
       "      <td>Zimbabwe</td>\n",
       "      <td>1991</td>\n",
       "      <td>2906.272849</td>\n",
       "      <td>NaN</td>\n",
       "    </tr>\n",
       "    <tr>\n",
       "      <th>6728</th>\n",
       "      <td>Zimbabwe</td>\n",
       "      <td>1990</td>\n",
       "      <td>2819.549467</td>\n",
       "      <td>NaN</td>\n",
       "    </tr>\n",
       "    <tr>\n",
       "      <th>6729</th>\n",
       "      <td>footnoteSeqID</td>\n",
       "      <td>Footnote</td>\n",
       "      <td>NaN</td>\n",
       "      <td>NaN</td>\n",
       "    </tr>\n",
       "    <tr>\n",
       "      <th>6730</th>\n",
       "      <td>2</td>\n",
       "      <td>Excludes South Sudan after July 9, 2011.</td>\n",
       "      <td>NaN</td>\n",
       "      <td>NaN</td>\n",
       "    </tr>\n",
       "  </tbody>\n",
       "</table>\n",
       "</div>"
      ],
      "text/plain": [
       "     Country or Area                                      Year        Value  \\\n",
       "6726        Zimbabwe                                      1992  2591.007534   \n",
       "6727        Zimbabwe                                      1991  2906.272849   \n",
       "6728        Zimbabwe                                      1990  2819.549467   \n",
       "6729   footnoteSeqID                                  Footnote          NaN   \n",
       "6730               2  Excludes South Sudan after July 9, 2011.          NaN   \n",
       "\n",
       "      Value Footnotes  \n",
       "6726              NaN  \n",
       "6727              NaN  \n",
       "6728              NaN  \n",
       "6729              NaN  \n",
       "6730              NaN  "
      ]
     },
     "execution_count": 5,
     "metadata": {},
     "output_type": "execute_result"
    }
   ],
   "source": [
    "## Look at the last 5 rows. Do you see a problem?\n",
    "gdp_df.tail(5)"
   ]
  },
  {
   "cell_type": "code",
   "execution_count": 6,
   "metadata": {},
   "outputs": [],
   "source": [
    "## Redo the read_csv() call to correct this issue - do not modify the original csv file.\n",
    "gdp_df = pd.read_csv('../data/gdp_per_capita.csv')[:-2]"
   ]
  },
  {
   "cell_type": "code",
   "execution_count": 7,
   "metadata": {},
   "outputs": [
    {
     "data": {
      "text/html": [
       "<div>\n",
       "<style scoped>\n",
       "    .dataframe tbody tr th:only-of-type {\n",
       "        vertical-align: middle;\n",
       "    }\n",
       "\n",
       "    .dataframe tbody tr th {\n",
       "        vertical-align: top;\n",
       "    }\n",
       "\n",
       "    .dataframe thead th {\n",
       "        text-align: right;\n",
       "    }\n",
       "</style>\n",
       "<table border=\"1\" class=\"dataframe\">\n",
       "  <thead>\n",
       "    <tr style=\"text-align: right;\">\n",
       "      <th></th>\n",
       "      <th>Country or Area</th>\n",
       "      <th>Year</th>\n",
       "      <th>Value</th>\n",
       "      <th>Value Footnotes</th>\n",
       "    </tr>\n",
       "  </thead>\n",
       "  <tbody>\n",
       "    <tr>\n",
       "      <th>6724</th>\n",
       "      <td>Zimbabwe</td>\n",
       "      <td>1994</td>\n",
       "      <td>2768.309953</td>\n",
       "      <td>NaN</td>\n",
       "    </tr>\n",
       "    <tr>\n",
       "      <th>6725</th>\n",
       "      <td>Zimbabwe</td>\n",
       "      <td>1993</td>\n",
       "      <td>2572.870395</td>\n",
       "      <td>NaN</td>\n",
       "    </tr>\n",
       "    <tr>\n",
       "      <th>6726</th>\n",
       "      <td>Zimbabwe</td>\n",
       "      <td>1992</td>\n",
       "      <td>2591.007534</td>\n",
       "      <td>NaN</td>\n",
       "    </tr>\n",
       "    <tr>\n",
       "      <th>6727</th>\n",
       "      <td>Zimbabwe</td>\n",
       "      <td>1991</td>\n",
       "      <td>2906.272849</td>\n",
       "      <td>NaN</td>\n",
       "    </tr>\n",
       "    <tr>\n",
       "      <th>6728</th>\n",
       "      <td>Zimbabwe</td>\n",
       "      <td>1990</td>\n",
       "      <td>2819.549467</td>\n",
       "      <td>NaN</td>\n",
       "    </tr>\n",
       "  </tbody>\n",
       "</table>\n",
       "</div>"
      ],
      "text/plain": [
       "     Country or Area  Year        Value  Value Footnotes\n",
       "6724        Zimbabwe  1994  2768.309953              NaN\n",
       "6725        Zimbabwe  1993  2572.870395              NaN\n",
       "6726        Zimbabwe  1992  2591.007534              NaN\n",
       "6727        Zimbabwe  1991  2906.272849              NaN\n",
       "6728        Zimbabwe  1990  2819.549467              NaN"
      ]
     },
     "execution_count": 7,
     "metadata": {},
     "output_type": "execute_result"
    }
   ],
   "source": [
    "gdp_df.tail(5)"
   ]
  },
  {
   "cell_type": "code",
   "execution_count": 8,
   "metadata": {},
   "outputs": [
    {
     "data": {
      "text/html": [
       "<div>\n",
       "<style scoped>\n",
       "    .dataframe tbody tr th:only-of-type {\n",
       "        vertical-align: middle;\n",
       "    }\n",
       "\n",
       "    .dataframe tbody tr th {\n",
       "        vertical-align: top;\n",
       "    }\n",
       "\n",
       "    .dataframe thead th {\n",
       "        text-align: right;\n",
       "    }\n",
       "</style>\n",
       "<table border=\"1\" class=\"dataframe\">\n",
       "  <thead>\n",
       "    <tr style=\"text-align: right;\">\n",
       "      <th></th>\n",
       "      <th>Country or Area</th>\n",
       "      <th>Year</th>\n",
       "      <th>Value</th>\n",
       "    </tr>\n",
       "  </thead>\n",
       "  <tbody>\n",
       "    <tr>\n",
       "      <th>0</th>\n",
       "      <td>Afghanistan</td>\n",
       "      <td>2018</td>\n",
       "      <td>1734.723214</td>\n",
       "    </tr>\n",
       "    <tr>\n",
       "      <th>1</th>\n",
       "      <td>Afghanistan</td>\n",
       "      <td>2017</td>\n",
       "      <td>1758.465636</td>\n",
       "    </tr>\n",
       "    <tr>\n",
       "      <th>2</th>\n",
       "      <td>Afghanistan</td>\n",
       "      <td>2016</td>\n",
       "      <td>1757.023490</td>\n",
       "    </tr>\n",
       "    <tr>\n",
       "      <th>3</th>\n",
       "      <td>Afghanistan</td>\n",
       "      <td>2015</td>\n",
       "      <td>1766.593077</td>\n",
       "    </tr>\n",
       "    <tr>\n",
       "      <th>4</th>\n",
       "      <td>Afghanistan</td>\n",
       "      <td>2014</td>\n",
       "      <td>1795.735834</td>\n",
       "    </tr>\n",
       "  </tbody>\n",
       "</table>\n",
       "</div>"
      ],
      "text/plain": [
       "  Country or Area  Year        Value\n",
       "0     Afghanistan  2018  1734.723214\n",
       "1     Afghanistan  2017  1758.465636\n",
       "2     Afghanistan  2016  1757.023490\n",
       "3     Afghanistan  2015  1766.593077\n",
       "4     Afghanistan  2014  1795.735834"
      ]
     },
     "execution_count": 8,
     "metadata": {},
     "output_type": "execute_result"
    }
   ],
   "source": [
    "### 5. Drop the ‘Value Footnotes’ column (axis=1 for columns and axis=0 for rows)\n",
    "gdp_df =gdp_df.drop(['Value Footnotes'], axis=1)\n",
    "gdp_df.head(5)"
   ]
  },
  {
   "cell_type": "code",
   "execution_count": 9,
   "metadata": {},
   "outputs": [
    {
     "data": {
      "text/html": [
       "<div>\n",
       "<style scoped>\n",
       "    .dataframe tbody tr th:only-of-type {\n",
       "        vertical-align: middle;\n",
       "    }\n",
       "\n",
       "    .dataframe tbody tr th {\n",
       "        vertical-align: top;\n",
       "    }\n",
       "\n",
       "    .dataframe thead th {\n",
       "        text-align: right;\n",
       "    }\n",
       "</style>\n",
       "<table border=\"1\" class=\"dataframe\">\n",
       "  <thead>\n",
       "    <tr style=\"text-align: right;\">\n",
       "      <th></th>\n",
       "      <th>Country</th>\n",
       "      <th>Year</th>\n",
       "      <th>GDP_Per_Capita</th>\n",
       "    </tr>\n",
       "  </thead>\n",
       "  <tbody>\n",
       "    <tr>\n",
       "      <th>0</th>\n",
       "      <td>Afghanistan</td>\n",
       "      <td>2018</td>\n",
       "      <td>1734.723214</td>\n",
       "    </tr>\n",
       "    <tr>\n",
       "      <th>1</th>\n",
       "      <td>Afghanistan</td>\n",
       "      <td>2017</td>\n",
       "      <td>1758.465636</td>\n",
       "    </tr>\n",
       "    <tr>\n",
       "      <th>2</th>\n",
       "      <td>Afghanistan</td>\n",
       "      <td>2016</td>\n",
       "      <td>1757.023490</td>\n",
       "    </tr>\n",
       "    <tr>\n",
       "      <th>3</th>\n",
       "      <td>Afghanistan</td>\n",
       "      <td>2015</td>\n",
       "      <td>1766.593077</td>\n",
       "    </tr>\n",
       "    <tr>\n",
       "      <th>4</th>\n",
       "      <td>Afghanistan</td>\n",
       "      <td>2014</td>\n",
       "      <td>1795.735834</td>\n",
       "    </tr>\n",
       "  </tbody>\n",
       "</table>\n",
       "</div>"
      ],
      "text/plain": [
       "       Country  Year  GDP_Per_Capita\n",
       "0  Afghanistan  2018     1734.723214\n",
       "1  Afghanistan  2017     1758.465636\n",
       "2  Afghanistan  2016     1757.023490\n",
       "3  Afghanistan  2015     1766.593077\n",
       "4  Afghanistan  2014     1795.735834"
      ]
     },
     "execution_count": 9,
     "metadata": {},
     "output_type": "execute_result"
    }
   ],
   "source": [
    "## 6. and rename the remaining columns to ‘Country’, ‘Year’, and ‘GDP_Per_Capita’.\n",
    "gdp_df.rename(columns = {'Country or Area':'Country', 'Year':'Year', 'Value':'GDP_Per_Capita'}, inplace = True)\n",
    "gdp_df.head(5)"
   ]
  },
  {
   "cell_type": "code",
   "execution_count": 10,
   "metadata": {},
   "outputs": [
    {
     "data": {
      "text/plain": [
       "(6729, 3)"
      ]
     },
     "execution_count": 10,
     "metadata": {},
     "output_type": "execute_result"
    }
   ],
   "source": [
    "### 7. How many rows and columns does gdp_df have?\n",
    "gdp_df.shape"
   ]
  },
  {
   "cell_type": "code",
   "execution_count": 11,
   "metadata": {},
   "outputs": [
    {
     "name": "stdout",
     "output_type": "stream",
     "text": [
      "<class 'pandas.core.frame.DataFrame'>\n",
      "RangeIndex: 6729 entries, 0 to 6728\n",
      "Data columns (total 3 columns):\n",
      "Country           6729 non-null object\n",
      "Year              6729 non-null object\n",
      "GDP_Per_Capita    6729 non-null float64\n",
      "dtypes: float64(1), object(2)\n",
      "memory usage: 157.8+ KB\n"
     ]
    }
   ],
   "source": [
    "gdp_df.info()"
   ]
  },
  {
   "cell_type": "code",
   "execution_count": 12,
   "metadata": {},
   "outputs": [
    {
     "data": {
      "text/plain": [
       "Country            object\n",
       "Year               object\n",
       "GDP_Per_Capita    float64\n",
       "dtype: object"
      ]
     },
     "execution_count": 12,
     "metadata": {},
     "output_type": "execute_result"
    }
   ],
   "source": [
    "## What are the data types of its columns?\n",
    "gdp_df.dtypes"
   ]
  },
  {
   "cell_type": "code",
   "execution_count": 13,
   "metadata": {},
   "outputs": [],
   "source": [
    "## If any of the columns are not the expected types, figure out why and fix it.\n",
    "gdp_df['Year'] = pd.to_numeric(gdp_df['Year'])"
   ]
  },
  {
   "cell_type": "code",
   "execution_count": 14,
   "metadata": {},
   "outputs": [
    {
     "data": {
      "text/plain": [
       "Country            object\n",
       "Year                int64\n",
       "GDP_Per_Capita    float64\n",
       "dtype: object"
      ]
     },
     "execution_count": 14,
     "metadata": {},
     "output_type": "execute_result"
    }
   ],
   "source": [
    "gdp_df.dtypes"
   ]
  },
  {
   "cell_type": "code",
   "execution_count": 15,
   "metadata": {
    "scrolled": true
   },
   "outputs": [
    {
     "data": {
      "text/plain": [
       "1990    210\n",
       "1991    211\n",
       "1992    213\n",
       "1993    215\n",
       "1994    218\n",
       "1995    224\n",
       "1996    224\n",
       "1997    226\n",
       "1998    227\n",
       "1999    228\n",
       "2000    236\n",
       "2001    237\n",
       "2002    238\n",
       "2003    238\n",
       "2004    238\n",
       "2005    238\n",
       "2006    238\n",
       "2007    239\n",
       "2008    240\n",
       "2009    241\n",
       "2010    241\n",
       "2011    243\n",
       "2012    241\n",
       "2013    241\n",
       "2014    240\n",
       "2015    240\n",
       "2016    239\n",
       "2017    239\n",
       "2018    226\n",
       "Name: Year, dtype: int64"
      ]
     },
     "execution_count": 15,
     "metadata": {},
     "output_type": "execute_result"
    }
   ],
   "source": [
    "### 8. Which years are represented in this dataset? Take a look at the number of observations per year. What do you notice?\n",
    "gdp_df['Year'].value_counts().sort_index()"
   ]
  },
  {
   "cell_type": "markdown",
   "metadata": {},
   "source": [
    "Years goes from 1990 to 2018 and the number of observations per year are not the same and range from 210 to 243."
   ]
  },
  {
   "cell_type": "code",
   "execution_count": 16,
   "metadata": {},
   "outputs": [
    {
     "data": {
      "text/plain": [
       "World                                                29\n",
       "Puerto Rico                                          29\n",
       "The Gambia                                           29\n",
       "Low & middle income                                  29\n",
       "Arab World                                           29\n",
       "Kazakhstan                                           29\n",
       "Kiribati                                             29\n",
       "Romania                                              29\n",
       "United Kingdom                                       29\n",
       "Ecuador                                              29\n",
       "Singapore                                            29\n",
       "Pacific island small states                          29\n",
       "Bhutan                                               29\n",
       "Namibia                                              29\n",
       "Pakistan                                             29\n",
       "Sweden                                               29\n",
       "Lesotho                                              29\n",
       "United Arab Emirates                                 29\n",
       "IDA & IBRD total                                     29\n",
       "Ethiopia                                             29\n",
       "Late-demographic dividend                            29\n",
       "South Asia                                           29\n",
       "Mexico                                               29\n",
       "Mauritania                                           29\n",
       "Europe & Central Asia (IDA & IBRD)                   29\n",
       "OECD members                                         29\n",
       "Norway                                               29\n",
       "Pre-demographic dividend                             29\n",
       "Latin America & Caribbean (excluding high income)    29\n",
       "Senegal                                              29\n",
       "                                                     ..\n",
       "Bosnia and Herzegovina                               25\n",
       "Latvia                                               25\n",
       "West Bank and Gaza                                   25\n",
       "Kuwait                                               24\n",
       "Serbia                                               24\n",
       "Lithuania                                            24\n",
       "Maldives                                             24\n",
       "Croatia                                              24\n",
       "Moldova                                              24\n",
       "Bermuda                                              24\n",
       "Montenegro                                           22\n",
       "San Marino                                           21\n",
       "Libya                                                20\n",
       "Cayman Islands                                       20\n",
       "Eritrea                                              20\n",
       "Kosovo                                               19\n",
       "Qatar                                                19\n",
       "Other small states                                   19\n",
       "Liberia                                              19\n",
       "Timor-Leste                                          19\n",
       "Small states                                         19\n",
       "CuraÃ§ao                                             19\n",
       "Palau                                                19\n",
       "SÃ£o TomÃ© and Principe                              18\n",
       "Afghanistan                                          17\n",
       "Nauru                                                12\n",
       "Sint Maarten (Dutch part)                             9\n",
       "Turks and Caicos Islands                              8\n",
       "South Sudan                                           8\n",
       "Djibouti                                              1\n",
       "Name: Country, Length: 243, dtype: int64"
      ]
     },
     "execution_count": 16,
     "metadata": {},
     "output_type": "execute_result"
    }
   ],
   "source": [
    "### 9. How many countries are represented in this dataset? Which countries are least represented in the dataset? Why do you think these countries have so few observations?\n",
    "gdp_df['Country'].value_counts()"
   ]
  },
  {
   "cell_type": "markdown",
   "metadata": {},
   "source": [
    "There is 243 different countries represented in this dataset and the least represented are Djibouti, South Sudan, Turks and caicos Islands and Sint Maaten. These 4 last are less represented which means several GDP per capita per years are missing from these countries. For example Djibouti gave only one and from question 8. I can say the year given was 2011.\n"
   ]
  },
  {
   "cell_type": "code",
   "execution_count": 17,
   "metadata": {},
   "outputs": [],
   "source": [
    "### 10. Create a new dataframe by subsetting gdp_df to just the year 2014. Call this new dataframe gdp_2014.\n",
    "gdp_2014 = gdp_df.loc[gdp_df['Year'] == 2014]"
   ]
  },
  {
   "cell_type": "code",
   "execution_count": 18,
   "metadata": {},
   "outputs": [
    {
     "data": {
      "text/html": [
       "<div>\n",
       "<style scoped>\n",
       "    .dataframe tbody tr th:only-of-type {\n",
       "        vertical-align: middle;\n",
       "    }\n",
       "\n",
       "    .dataframe tbody tr th {\n",
       "        vertical-align: top;\n",
       "    }\n",
       "\n",
       "    .dataframe thead th {\n",
       "        text-align: right;\n",
       "    }\n",
       "</style>\n",
       "<table border=\"1\" class=\"dataframe\">\n",
       "  <thead>\n",
       "    <tr style=\"text-align: right;\">\n",
       "      <th></th>\n",
       "      <th>Country</th>\n",
       "      <th>Year</th>\n",
       "      <th>GDP_Per_Capita</th>\n",
       "    </tr>\n",
       "  </thead>\n",
       "  <tbody>\n",
       "    <tr>\n",
       "      <th>4</th>\n",
       "      <td>Afghanistan</td>\n",
       "      <td>2014</td>\n",
       "      <td>1795.735834</td>\n",
       "    </tr>\n",
       "    <tr>\n",
       "      <th>21</th>\n",
       "      <td>Albania</td>\n",
       "      <td>2014</td>\n",
       "      <td>10700.993216</td>\n",
       "    </tr>\n",
       "    <tr>\n",
       "      <th>50</th>\n",
       "      <td>Algeria</td>\n",
       "      <td>2014</td>\n",
       "      <td>13557.769757</td>\n",
       "    </tr>\n",
       "    <tr>\n",
       "      <th>79</th>\n",
       "      <td>Angola</td>\n",
       "      <td>2014</td>\n",
       "      <td>6813.052106</td>\n",
       "    </tr>\n",
       "    <tr>\n",
       "      <th>108</th>\n",
       "      <td>Antigua and Barbuda</td>\n",
       "      <td>2014</td>\n",
       "      <td>20440.540555</td>\n",
       "    </tr>\n",
       "  </tbody>\n",
       "</table>\n",
       "</div>"
      ],
      "text/plain": [
       "                 Country  Year  GDP_Per_Capita\n",
       "4            Afghanistan  2014     1795.735834\n",
       "21               Albania  2014    10700.993216\n",
       "50               Algeria  2014    13557.769757\n",
       "79                Angola  2014     6813.052106\n",
       "108  Antigua and Barbuda  2014    20440.540555"
      ]
     },
     "execution_count": 18,
     "metadata": {},
     "output_type": "execute_result"
    }
   ],
   "source": [
    "gdp_2014.head()"
   ]
  },
  {
   "cell_type": "code",
   "execution_count": 19,
   "metadata": {},
   "outputs": [
    {
     "data": {
      "text/html": [
       "<div>\n",
       "<style scoped>\n",
       "    .dataframe tbody tr th:only-of-type {\n",
       "        vertical-align: middle;\n",
       "    }\n",
       "\n",
       "    .dataframe tbody tr th {\n",
       "        vertical-align: top;\n",
       "    }\n",
       "\n",
       "    .dataframe thead th {\n",
       "        text-align: right;\n",
       "    }\n",
       "</style>\n",
       "<table border=\"1\" class=\"dataframe\">\n",
       "  <thead>\n",
       "    <tr style=\"text-align: right;\">\n",
       "      <th></th>\n",
       "      <th>Year</th>\n",
       "      <th>GDP_Per_Capita</th>\n",
       "    </tr>\n",
       "  </thead>\n",
       "  <tbody>\n",
       "    <tr>\n",
       "      <th>count</th>\n",
       "      <td>240.0</td>\n",
       "      <td>240.000000</td>\n",
       "    </tr>\n",
       "    <tr>\n",
       "      <th>mean</th>\n",
       "      <td>2014.0</td>\n",
       "      <td>18034.303556</td>\n",
       "    </tr>\n",
       "    <tr>\n",
       "      <th>std</th>\n",
       "      <td>0.0</td>\n",
       "      <td>19320.930599</td>\n",
       "    </tr>\n",
       "    <tr>\n",
       "      <th>min</th>\n",
       "      <td>2014.0</td>\n",
       "      <td>672.681648</td>\n",
       "    </tr>\n",
       "    <tr>\n",
       "      <th>25%</th>\n",
       "      <td>2014.0</td>\n",
       "      <td>4301.187365</td>\n",
       "    </tr>\n",
       "    <tr>\n",
       "      <th>50%</th>\n",
       "      <td>2014.0</td>\n",
       "      <td>11868.067810</td>\n",
       "    </tr>\n",
       "    <tr>\n",
       "      <th>75%</th>\n",
       "      <td>2014.0</td>\n",
       "      <td>24388.408410</td>\n",
       "    </tr>\n",
       "    <tr>\n",
       "      <th>max</th>\n",
       "      <td>2014.0</td>\n",
       "      <td>130439.106674</td>\n",
       "    </tr>\n",
       "  </tbody>\n",
       "</table>\n",
       "</div>"
      ],
      "text/plain": [
       "         Year  GDP_Per_Capita\n",
       "count   240.0      240.000000\n",
       "mean   2014.0    18034.303556\n",
       "std       0.0    19320.930599\n",
       "min    2014.0      672.681648\n",
       "25%    2014.0     4301.187365\n",
       "50%    2014.0    11868.067810\n",
       "75%    2014.0    24388.408410\n",
       "max    2014.0   130439.106674"
      ]
     },
     "execution_count": 19,
     "metadata": {},
     "output_type": "execute_result"
    }
   ],
   "source": [
    "### 11. Use .describe() to find the summary statistics for GDP per capita in 2014.\n",
    "gdp_2014.describe()"
   ]
  },
  {
   "cell_type": "code",
   "execution_count": 20,
   "metadata": {},
   "outputs": [
    {
     "data": {
      "image/png": "[encoded data removed]",
      "text/plain": [
       "<Figure size 432x288 with 1 Axes>"
      ]
     },
     "metadata": {
      "needs_background": "light"
     },
     "output_type": "display_data"
    }
   ],
   "source": [
    "### 12. Create a histogram of GDP Per Capita numbers for 2014 (you may wish to adjust the number of bins for your histogram). How would you describe the shape of the distribution?\n",
    "gdp_2014.GDP_Per_Capita.hist(bins=15);"
   ]
  },
  {
   "cell_type": "markdown",
   "metadata": {},
   "source": [
    "The distribution is skewed to the right. The majority of the data is found between 0 and 20,000. After 20,000 there is less and less values and there is some ouliers around 120,000."
   ]
  },
  {
   "cell_type": "code",
   "execution_count": 21,
   "metadata": {},
   "outputs": [
    {
     "data": {
      "text/html": [
       "<div>\n",
       "<style scoped>\n",
       "    .dataframe tbody tr th:only-of-type {\n",
       "        vertical-align: middle;\n",
       "    }\n",
       "\n",
       "    .dataframe tbody tr th {\n",
       "        vertical-align: top;\n",
       "    }\n",
       "\n",
       "    .dataframe thead th {\n",
       "        text-align: right;\n",
       "    }\n",
       "</style>\n",
       "<table border=\"1\" class=\"dataframe\">\n",
       "  <thead>\n",
       "    <tr style=\"text-align: right;\">\n",
       "      <th></th>\n",
       "      <th>Country</th>\n",
       "      <th>Year</th>\n",
       "      <th>GDP_Per_Capita</th>\n",
       "    </tr>\n",
       "  </thead>\n",
       "  <tbody>\n",
       "    <tr>\n",
       "      <th>3639</th>\n",
       "      <td>Macao SAR, China</td>\n",
       "      <td>2014</td>\n",
       "      <td>130439.106674</td>\n",
       "    </tr>\n",
       "    <tr>\n",
       "      <th>5003</th>\n",
       "      <td>Qatar</td>\n",
       "      <td>2014</td>\n",
       "      <td>116693.507701</td>\n",
       "    </tr>\n",
       "    <tr>\n",
       "      <th>3610</th>\n",
       "      <td>Luxembourg</td>\n",
       "      <td>2014</td>\n",
       "      <td>92349.186429</td>\n",
       "    </tr>\n",
       "    <tr>\n",
       "      <th>5316</th>\n",
       "      <td>Singapore</td>\n",
       "      <td>2014</td>\n",
       "      <td>81965.361071</td>\n",
       "    </tr>\n",
       "    <tr>\n",
       "      <th>707</th>\n",
       "      <td>Brunei</td>\n",
       "      <td>2014</td>\n",
       "      <td>76448.593329</td>\n",
       "    </tr>\n",
       "  </tbody>\n",
       "</table>\n",
       "</div>"
      ],
      "text/plain": [
       "               Country  Year  GDP_Per_Capita\n",
       "3639  Macao SAR, China  2014   130439.106674\n",
       "5003             Qatar  2014   116693.507701\n",
       "3610        Luxembourg  2014    92349.186429\n",
       "5316         Singapore  2014    81965.361071\n",
       "707             Brunei  2014    76448.593329"
      ]
     },
     "execution_count": 21,
     "metadata": {},
     "output_type": "execute_result"
    }
   ],
   "source": [
    "###13. Find the top 5 counties and bottom 5 countries by GDP per capita in 2014.\n",
    "gdp_2014_up = gdp_2014.sort_values('GDP_Per_Capita', axis=0, ascending = False)\n",
    "gdp_2014_up.head(5)"
   ]
  },
  {
   "cell_type": "code",
   "execution_count": 22,
   "metadata": {},
   "outputs": [
    {
     "data": {
      "text/html": [
       "<div>\n",
       "<style scoped>\n",
       "    .dataframe tbody tr th:only-of-type {\n",
       "        vertical-align: middle;\n",
       "    }\n",
       "\n",
       "    .dataframe tbody tr th {\n",
       "        vertical-align: top;\n",
       "    }\n",
       "\n",
       "    .dataframe thead th {\n",
       "        text-align: right;\n",
       "    }\n",
       "</style>\n",
       "<table border=\"1\" class=\"dataframe\">\n",
       "  <thead>\n",
       "    <tr style=\"text-align: right;\">\n",
       "      <th></th>\n",
       "      <th>Country</th>\n",
       "      <th>Year</th>\n",
       "      <th>GDP_Per_Capita</th>\n",
       "    </tr>\n",
       "  </thead>\n",
       "  <tbody>\n",
       "    <tr>\n",
       "      <th>1014</th>\n",
       "      <td>Central African Republic</td>\n",
       "      <td>2014</td>\n",
       "      <td>672.681648</td>\n",
       "    </tr>\n",
       "    <tr>\n",
       "      <th>794</th>\n",
       "      <td>Burundi</td>\n",
       "      <td>2014</td>\n",
       "      <td>768.469837</td>\n",
       "    </tr>\n",
       "    <tr>\n",
       "      <th>1375</th>\n",
       "      <td>Dem. Rep. Congo</td>\n",
       "      <td>2014</td>\n",
       "      <td>784.872656</td>\n",
       "    </tr>\n",
       "    <tr>\n",
       "      <th>4414</th>\n",
       "      <td>Niger</td>\n",
       "      <td>2014</td>\n",
       "      <td>900.136918</td>\n",
       "    </tr>\n",
       "    <tr>\n",
       "      <th>3697</th>\n",
       "      <td>Malawi</td>\n",
       "      <td>2014</td>\n",
       "      <td>1142.530804</td>\n",
       "    </tr>\n",
       "  </tbody>\n",
       "</table>\n",
       "</div>"
      ],
      "text/plain": [
       "                       Country  Year  GDP_Per_Capita\n",
       "1014  Central African Republic  2014      672.681648\n",
       "794                    Burundi  2014      768.469837\n",
       "1375           Dem. Rep. Congo  2014      784.872656\n",
       "4414                     Niger  2014      900.136918\n",
       "3697                    Malawi  2014     1142.530804"
      ]
     },
     "execution_count": 22,
     "metadata": {},
     "output_type": "execute_result"
    }
   ],
   "source": [
    "gdp_2014_down = gdp_2014.sort_values('GDP_Per_Capita', axis=0, ascending = True)\n",
    "gdp_2014_down.head(5)"
   ]
  },
  {
   "cell_type": "markdown",
   "metadata": {},
   "source": [
    "14. Now, return to the full dataset, gdp_df. Pivot the data for 1990 and 2017 (using the pandas .pivot_table() method or another method) so that each row corresponds to a country, each column corresponds to a year, and the values in the table give the GDP_Per_Capita amount. Drop any rows that are missing values for either 1990 or 2017. Save the result to a dataframe named gdp_pivoted."
   ]
  },
  {
   "cell_type": "code",
   "execution_count": 23,
   "metadata": {},
   "outputs": [],
   "source": [
    "gdp_pivoted = gdp_df[(gdp_df['Year'] == 1990) |\n",
    "                    (gdp_df['Year'] == 2017)].pivot_table(values = 'GDP_Per_Capita', index = 'Country', columns= 'Year').dropna()\n",
    "\n",
    "#gdp_pivoted = gdp_pivoted = gdp_df.pivot_table(columns=['Year'], index=['Country'], values='GDP_Per_Capita')[[1990, 2017]].dropna()"
   ]
  },
  {
   "cell_type": "code",
   "execution_count": 24,
   "metadata": {},
   "outputs": [
    {
     "data": {
      "text/html": [
       "<div>\n",
       "<style scoped>\n",
       "    .dataframe tbody tr th:only-of-type {\n",
       "        vertical-align: middle;\n",
       "    }\n",
       "\n",
       "    .dataframe tbody tr th {\n",
       "        vertical-align: top;\n",
       "    }\n",
       "\n",
       "    .dataframe thead th {\n",
       "        text-align: right;\n",
       "    }\n",
       "</style>\n",
       "<table border=\"1\" class=\"dataframe\">\n",
       "  <thead>\n",
       "    <tr style=\"text-align: right;\">\n",
       "      <th>Year</th>\n",
       "      <th>1990</th>\n",
       "      <th>2017</th>\n",
       "    </tr>\n",
       "    <tr>\n",
       "      <th>Country</th>\n",
       "      <th></th>\n",
       "      <th></th>\n",
       "    </tr>\n",
       "  </thead>\n",
       "  <tbody>\n",
       "    <tr>\n",
       "      <th>Albania</th>\n",
       "      <td>4458.247115</td>\n",
       "      <td>11796.719185</td>\n",
       "    </tr>\n",
       "    <tr>\n",
       "      <th>Algeria</th>\n",
       "      <td>10300.015042</td>\n",
       "      <td>13822.389087</td>\n",
       "    </tr>\n",
       "    <tr>\n",
       "      <th>Angola</th>\n",
       "      <td>4761.229638</td>\n",
       "      <td>6044.972035</td>\n",
       "    </tr>\n",
       "    <tr>\n",
       "      <th>Antigua and Barbuda</th>\n",
       "      <td>17454.549799</td>\n",
       "      <td>22400.379562</td>\n",
       "    </tr>\n",
       "    <tr>\n",
       "      <th>Arab World</th>\n",
       "      <td>10491.507721</td>\n",
       "      <td>15542.746104</td>\n",
       "    </tr>\n",
       "  </tbody>\n",
       "</table>\n",
       "</div>"
      ],
      "text/plain": [
       "Year                         1990          2017\n",
       "Country                                        \n",
       "Albania               4458.247115  11796.719185\n",
       "Algeria              10300.015042  13822.389087\n",
       "Angola                4761.229638   6044.972035\n",
       "Antigua and Barbuda  17454.549799  22400.379562\n",
       "Arab World           10491.507721  15542.746104"
      ]
     },
     "execution_count": 24,
     "metadata": {},
     "output_type": "execute_result"
    }
   ],
   "source": [
    "gdp_pivoted.head()"
   ]
  },
  {
   "cell_type": "markdown",
   "metadata": {},
   "source": [
    "15. Create a new column in gdp_pivoted named Percent_Change. This column should contain the percent change in GDP_Per_Capita from 1990 to 2017. Hint: Percent change is calculated as 100*(New Value - Old Value) / Old Value."
   ]
  },
  {
   "cell_type": "code",
   "execution_count": 25,
   "metadata": {},
   "outputs": [],
   "source": [
    "gdp_pivoted['Percent_Change'] = 100*(gdp_pivoted[2017] - gdp_pivoted[1990])/gdp_pivoted[1990]"
   ]
  },
  {
   "cell_type": "code",
   "execution_count": 26,
   "metadata": {},
   "outputs": [
    {
     "data": {
      "text/html": [
       "<div>\n",
       "<style scoped>\n",
       "    .dataframe tbody tr th:only-of-type {\n",
       "        vertical-align: middle;\n",
       "    }\n",
       "\n",
       "    .dataframe tbody tr th {\n",
       "        vertical-align: top;\n",
       "    }\n",
       "\n",
       "    .dataframe thead th {\n",
       "        text-align: right;\n",
       "    }\n",
       "</style>\n",
       "<table border=\"1\" class=\"dataframe\">\n",
       "  <thead>\n",
       "    <tr style=\"text-align: right;\">\n",
       "      <th>Year</th>\n",
       "      <th>1990</th>\n",
       "      <th>2017</th>\n",
       "      <th>Percent_Change</th>\n",
       "    </tr>\n",
       "    <tr>\n",
       "      <th>Country</th>\n",
       "      <th></th>\n",
       "      <th></th>\n",
       "      <th></th>\n",
       "    </tr>\n",
       "  </thead>\n",
       "  <tbody>\n",
       "    <tr>\n",
       "      <th>Albania</th>\n",
       "      <td>4458.247115</td>\n",
       "      <td>11796.719185</td>\n",
       "      <td>164.604426</td>\n",
       "    </tr>\n",
       "    <tr>\n",
       "      <th>Algeria</th>\n",
       "      <td>10300.015042</td>\n",
       "      <td>13822.389087</td>\n",
       "      <td>34.197756</td>\n",
       "    </tr>\n",
       "    <tr>\n",
       "      <th>Angola</th>\n",
       "      <td>4761.229638</td>\n",
       "      <td>6044.972035</td>\n",
       "      <td>26.962413</td>\n",
       "    </tr>\n",
       "    <tr>\n",
       "      <th>Antigua and Barbuda</th>\n",
       "      <td>17454.549799</td>\n",
       "      <td>22400.379562</td>\n",
       "      <td>28.335476</td>\n",
       "    </tr>\n",
       "    <tr>\n",
       "      <th>Arab World</th>\n",
       "      <td>10491.507721</td>\n",
       "      <td>15542.746104</td>\n",
       "      <td>48.145972</td>\n",
       "    </tr>\n",
       "  </tbody>\n",
       "</table>\n",
       "</div>"
      ],
      "text/plain": [
       "Year                         1990          2017  Percent_Change\n",
       "Country                                                        \n",
       "Albania               4458.247115  11796.719185      164.604426\n",
       "Algeria              10300.015042  13822.389087       34.197756\n",
       "Angola                4761.229638   6044.972035       26.962413\n",
       "Antigua and Barbuda  17454.549799  22400.379562       28.335476\n",
       "Arab World           10491.507721  15542.746104       48.145972"
      ]
     },
     "execution_count": 26,
     "metadata": {},
     "output_type": "execute_result"
    }
   ],
   "source": [
    "gdp_pivoted.head()"
   ]
  },
  {
   "cell_type": "markdown",
   "metadata": {},
   "source": [
    "16. How many countries experienced a negative percent change in GDP per capita from 1990 to 2017?"
   ]
  },
  {
   "cell_type": "code",
   "execution_count": 27,
   "metadata": {},
   "outputs": [
    {
     "data": {
      "text/html": [
       "<div>\n",
       "<style scoped>\n",
       "    .dataframe tbody tr th:only-of-type {\n",
       "        vertical-align: middle;\n",
       "    }\n",
       "\n",
       "    .dataframe tbody tr th {\n",
       "        vertical-align: top;\n",
       "    }\n",
       "\n",
       "    .dataframe thead th {\n",
       "        text-align: right;\n",
       "    }\n",
       "</style>\n",
       "<table border=\"1\" class=\"dataframe\">\n",
       "  <thead>\n",
       "    <tr style=\"text-align: right;\">\n",
       "      <th>Year</th>\n",
       "      <th>1990</th>\n",
       "      <th>2017</th>\n",
       "      <th>Percent_Change</th>\n",
       "    </tr>\n",
       "    <tr>\n",
       "      <th>Country</th>\n",
       "      <th></th>\n",
       "      <th></th>\n",
       "      <th></th>\n",
       "    </tr>\n",
       "  </thead>\n",
       "  <tbody>\n",
       "    <tr>\n",
       "      <th>Comoros</th>\n",
       "      <td>2580.500555</td>\n",
       "      <td>2555.966364</td>\n",
       "      <td>-0.950753</td>\n",
       "    </tr>\n",
       "    <tr>\n",
       "      <th>Kyrgyz Republic</th>\n",
       "      <td>3474.667969</td>\n",
       "      <td>3393.617990</td>\n",
       "      <td>-2.332596</td>\n",
       "    </tr>\n",
       "    <tr>\n",
       "      <th>Aruba</th>\n",
       "      <td>37140.024657</td>\n",
       "      <td>35861.828118</td>\n",
       "      <td>-3.441561</td>\n",
       "    </tr>\n",
       "    <tr>\n",
       "      <th>Guinea-Bissau</th>\n",
       "      <td>1633.612989</td>\n",
       "      <td>1576.748994</td>\n",
       "      <td>-3.480873</td>\n",
       "    </tr>\n",
       "    <tr>\n",
       "      <th>Congo</th>\n",
       "      <td>5323.022707</td>\n",
       "      <td>5103.142821</td>\n",
       "      <td>-4.130734</td>\n",
       "    </tr>\n",
       "    <tr>\n",
       "      <th>The Gambia</th>\n",
       "      <td>2448.493198</td>\n",
       "      <td>2240.327478</td>\n",
       "      <td>-8.501789</td>\n",
       "    </tr>\n",
       "    <tr>\n",
       "      <th>The Bahamas</th>\n",
       "      <td>31005.636485</td>\n",
       "      <td>28318.107428</td>\n",
       "      <td>-8.667873</td>\n",
       "    </tr>\n",
       "    <tr>\n",
       "      <th>Zimbabwe</th>\n",
       "      <td>2819.549467</td>\n",
       "      <td>2568.410072</td>\n",
       "      <td>-8.907075</td>\n",
       "    </tr>\n",
       "    <tr>\n",
       "      <th>Brunei</th>\n",
       "      <td>84693.336970</td>\n",
       "      <td>72523.729446</td>\n",
       "      <td>-14.369026</td>\n",
       "    </tr>\n",
       "    <tr>\n",
       "      <th>Madagascar</th>\n",
       "      <td>1928.012284</td>\n",
       "      <td>1648.373871</td>\n",
       "      <td>-14.503975</td>\n",
       "    </tr>\n",
       "    <tr>\n",
       "      <th>Gabon</th>\n",
       "      <td>19556.665840</td>\n",
       "      <td>16144.935297</td>\n",
       "      <td>-17.445359</td>\n",
       "    </tr>\n",
       "    <tr>\n",
       "      <th>Haiti</th>\n",
       "      <td>2061.842854</td>\n",
       "      <td>1653.001460</td>\n",
       "      <td>-19.828931</td>\n",
       "    </tr>\n",
       "    <tr>\n",
       "      <th>Tajikistan</th>\n",
       "      <td>3661.340213</td>\n",
       "      <td>2923.673718</td>\n",
       "      <td>-20.147445</td>\n",
       "    </tr>\n",
       "    <tr>\n",
       "      <th>Venezuela</th>\n",
       "      <td>14619.454190</td>\n",
       "      <td>11489.648818</td>\n",
       "      <td>-21.408497</td>\n",
       "    </tr>\n",
       "    <tr>\n",
       "      <th>Central African Republic</th>\n",
       "      <td>982.659793</td>\n",
       "      <td>746.434942</td>\n",
       "      <td>-24.039332</td>\n",
       "    </tr>\n",
       "    <tr>\n",
       "      <th>Ukraine</th>\n",
       "      <td>10463.959955</td>\n",
       "      <td>7906.540301</td>\n",
       "      <td>-24.440266</td>\n",
       "    </tr>\n",
       "    <tr>\n",
       "      <th>Yemen</th>\n",
       "      <td>3425.707169</td>\n",
       "      <td>2404.422370</td>\n",
       "      <td>-29.812379</td>\n",
       "    </tr>\n",
       "    <tr>\n",
       "      <th>Burundi</th>\n",
       "      <td>1027.396660</td>\n",
       "      <td>670.777072</td>\n",
       "      <td>-34.710993</td>\n",
       "    </tr>\n",
       "    <tr>\n",
       "      <th>United Arab Emirates</th>\n",
       "      <td>112349.597967</td>\n",
       "      <td>66477.818719</td>\n",
       "      <td>-40.829500</td>\n",
       "    </tr>\n",
       "    <tr>\n",
       "      <th>Dem. Rep. Congo</th>\n",
       "      <td>1386.933242</td>\n",
       "      <td>807.752905</td>\n",
       "      <td>-41.759785</td>\n",
       "    </tr>\n",
       "  </tbody>\n",
       "</table>\n",
       "</div>"
      ],
      "text/plain": [
       "Year                               1990          2017  Percent_Change\n",
       "Country                                                              \n",
       "Comoros                     2580.500555   2555.966364       -0.950753\n",
       "Kyrgyz Republic             3474.667969   3393.617990       -2.332596\n",
       "Aruba                      37140.024657  35861.828118       -3.441561\n",
       "Guinea-Bissau               1633.612989   1576.748994       -3.480873\n",
       "Congo                       5323.022707   5103.142821       -4.130734\n",
       "The Gambia                  2448.493198   2240.327478       -8.501789\n",
       "The Bahamas                31005.636485  28318.107428       -8.667873\n",
       "Zimbabwe                    2819.549467   2568.410072       -8.907075\n",
       "Brunei                     84693.336970  72523.729446      -14.369026\n",
       "Madagascar                  1928.012284   1648.373871      -14.503975\n",
       "Gabon                      19556.665840  16144.935297      -17.445359\n",
       "Haiti                       2061.842854   1653.001460      -19.828931\n",
       "Tajikistan                  3661.340213   2923.673718      -20.147445\n",
       "Venezuela                  14619.454190  11489.648818      -21.408497\n",
       "Central African Republic     982.659793    746.434942      -24.039332\n",
       "Ukraine                    10463.959955   7906.540301      -24.440266\n",
       "Yemen                       3425.707169   2404.422370      -29.812379\n",
       "Burundi                     1027.396660    670.777072      -34.710993\n",
       "United Arab Emirates      112349.597967  66477.818719      -40.829500\n",
       "Dem. Rep. Congo             1386.933242    807.752905      -41.759785"
      ]
     },
     "execution_count": 27,
     "metadata": {},
     "output_type": "execute_result"
    }
   ],
   "source": [
    "gdp_pivoted.loc[gdp_pivoted.Percent_Change < 0].sort_values('Percent_Change', ascending = False)"
   ]
  },
  {
   "cell_type": "code",
   "execution_count": 28,
   "metadata": {},
   "outputs": [
    {
     "data": {
      "text/plain": [
       "(20, 3)"
      ]
     },
     "execution_count": 28,
     "metadata": {},
     "output_type": "execute_result"
    }
   ],
   "source": [
    "gdp_pivoted[gdp_pivoted['Percent_Change'] < 0].shape"
   ]
  },
  {
   "cell_type": "markdown",
   "metadata": {},
   "source": [
    "There is 20 countries with a negative percentage."
   ]
  },
  {
   "cell_type": "markdown",
   "metadata": {},
   "source": [
    "17. Which country had the highest % change in GDP per capita? Create a line plot showing this country’s GDP per capita for all years from 1990 to 2017. Create another showing the country with the second highest % change in GDP. How do the trends in these countries compare?"
   ]
  },
  {
   "cell_type": "code",
   "execution_count": 29,
   "metadata": {},
   "outputs": [
    {
     "data": {
      "text/html": [
       "<div>\n",
       "<style scoped>\n",
       "    .dataframe tbody tr th:only-of-type {\n",
       "        vertical-align: middle;\n",
       "    }\n",
       "\n",
       "    .dataframe tbody tr th {\n",
       "        vertical-align: top;\n",
       "    }\n",
       "\n",
       "    .dataframe thead th {\n",
       "        text-align: right;\n",
       "    }\n",
       "</style>\n",
       "<table border=\"1\" class=\"dataframe\">\n",
       "  <thead>\n",
       "    <tr style=\"text-align: right;\">\n",
       "      <th>Year</th>\n",
       "      <th>1990</th>\n",
       "      <th>2017</th>\n",
       "      <th>Percent_Change</th>\n",
       "    </tr>\n",
       "    <tr>\n",
       "      <th>Country</th>\n",
       "      <th></th>\n",
       "      <th></th>\n",
       "      <th></th>\n",
       "    </tr>\n",
       "  </thead>\n",
       "  <tbody>\n",
       "    <tr>\n",
       "      <th>Equatorial Guinea</th>\n",
       "      <td>1017.764136</td>\n",
       "      <td>22298.942144</td>\n",
       "      <td>2090.973464</td>\n",
       "    </tr>\n",
       "  </tbody>\n",
       "</table>\n",
       "</div>"
      ],
      "text/plain": [
       "Year                      1990          2017  Percent_Change\n",
       "Country                                                     \n",
       "Equatorial Guinea  1017.764136  22298.942144     2090.973464"
      ]
     },
     "execution_count": 29,
     "metadata": {},
     "output_type": "execute_result"
    }
   ],
   "source": [
    "gdp_pivoted.nlargest(1, 'Percent_Change')"
   ]
  },
  {
   "cell_type": "code",
   "execution_count": 30,
   "metadata": {},
   "outputs": [
    {
     "data": {
      "image/png": "[encoded data removed]",
      "text/plain": [
       "<Figure size 432x288 with 1 Axes>"
      ]
     },
     "metadata": {
      "needs_background": "light"
     },
     "output_type": "display_data"
    }
   ],
   "source": [
    "gdp_df_large = gdp_df.loc[gdp_df['Country'].isin(['Equatorial Guinea'])]\n",
    "fig, ax =plt.subplots()\n",
    "gdp_df_large.groupby('Country').plot(x='Year', y='GDP_Per_Capita', ax=ax, legend=False);"
   ]
  },
  {
   "cell_type": "markdown",
   "metadata": {},
   "source": [
    "It's equatorial Guinea."
   ]
  },
  {
   "cell_type": "code",
   "execution_count": 31,
   "metadata": {},
   "outputs": [
    {
     "data": {
      "text/html": [
       "<div>\n",
       "<style scoped>\n",
       "    .dataframe tbody tr th:only-of-type {\n",
       "        vertical-align: middle;\n",
       "    }\n",
       "\n",
       "    .dataframe tbody tr th {\n",
       "        vertical-align: top;\n",
       "    }\n",
       "\n",
       "    .dataframe thead th {\n",
       "        text-align: right;\n",
       "    }\n",
       "</style>\n",
       "<table border=\"1\" class=\"dataframe\">\n",
       "  <thead>\n",
       "    <tr style=\"text-align: right;\">\n",
       "      <th>Country</th>\n",
       "      <th>Afghanistan</th>\n",
       "      <th>Albania</th>\n",
       "      <th>Algeria</th>\n",
       "      <th>Angola</th>\n",
       "      <th>Antigua and Barbuda</th>\n",
       "      <th>Arab World</th>\n",
       "      <th>Argentina</th>\n",
       "      <th>Armenia</th>\n",
       "      <th>Aruba</th>\n",
       "      <th>Australia</th>\n",
       "      <th>...</th>\n",
       "      <th>Uruguay</th>\n",
       "      <th>Uzbekistan</th>\n",
       "      <th>Vanuatu</th>\n",
       "      <th>Venezuela</th>\n",
       "      <th>Vietnam</th>\n",
       "      <th>West Bank and Gaza</th>\n",
       "      <th>World</th>\n",
       "      <th>Yemen</th>\n",
       "      <th>Zambia</th>\n",
       "      <th>Zimbabwe</th>\n",
       "    </tr>\n",
       "    <tr>\n",
       "      <th>Year</th>\n",
       "      <th></th>\n",
       "      <th></th>\n",
       "      <th></th>\n",
       "      <th></th>\n",
       "      <th></th>\n",
       "      <th></th>\n",
       "      <th></th>\n",
       "      <th></th>\n",
       "      <th></th>\n",
       "      <th></th>\n",
       "      <th></th>\n",
       "      <th></th>\n",
       "      <th></th>\n",
       "      <th></th>\n",
       "      <th></th>\n",
       "      <th></th>\n",
       "      <th></th>\n",
       "      <th></th>\n",
       "      <th></th>\n",
       "      <th></th>\n",
       "      <th></th>\n",
       "    </tr>\n",
       "  </thead>\n",
       "  <tbody>\n",
       "    <tr>\n",
       "      <th>1990</th>\n",
       "      <td>NaN</td>\n",
       "      <td>4458.247115</td>\n",
       "      <td>10300.015042</td>\n",
       "      <td>4761.229638</td>\n",
       "      <td>17454.549799</td>\n",
       "      <td>10491.507721</td>\n",
       "      <td>11372.823108</td>\n",
       "      <td>3742.431024</td>\n",
       "      <td>37140.024657</td>\n",
       "      <td>28669.059474</td>\n",
       "      <td>...</td>\n",
       "      <td>9841.947945</td>\n",
       "      <td>3851.572604</td>\n",
       "      <td>2550.348904</td>\n",
       "      <td>14619.454190</td>\n",
       "      <td>1457.594613</td>\n",
       "      <td>NaN</td>\n",
       "      <td>8966.014072</td>\n",
       "      <td>3425.707169</td>\n",
       "      <td>2339.137959</td>\n",
       "      <td>2819.549467</td>\n",
       "    </tr>\n",
       "    <tr>\n",
       "      <th>1991</th>\n",
       "      <td>NaN</td>\n",
       "      <td>3229.250120</td>\n",
       "      <td>9929.097717</td>\n",
       "      <td>4651.204299</td>\n",
       "      <td>17598.378401</td>\n",
       "      <td>10243.813560</td>\n",
       "      <td>12238.788847</td>\n",
       "      <td>3335.595238</td>\n",
       "      <td>38562.960618</td>\n",
       "      <td>28193.528651</td>\n",
       "      <td>...</td>\n",
       "      <td>10118.456960</td>\n",
       "      <td>3751.770475</td>\n",
       "      <td>2558.105707</td>\n",
       "      <td>15671.799905</td>\n",
       "      <td>1512.269780</td>\n",
       "      <td>NaN</td>\n",
       "      <td>8942.915645</td>\n",
       "      <td>3466.039074</td>\n",
       "      <td>2278.802025</td>\n",
       "      <td>2906.272849</td>\n",
       "    </tr>\n",
       "    <tr>\n",
       "      <th>1992</th>\n",
       "      <td>NaN</td>\n",
       "      <td>3015.391377</td>\n",
       "      <td>9873.024864</td>\n",
       "      <td>4238.318419</td>\n",
       "      <td>17497.380127</td>\n",
       "      <td>10573.827918</td>\n",
       "      <td>13032.793286</td>\n",
       "      <td>1976.525218</td>\n",
       "      <td>38669.374901</td>\n",
       "      <td>27968.401884</td>\n",
       "      <td>...</td>\n",
       "      <td>10842.062014</td>\n",
       "      <td>3254.375512</td>\n",
       "      <td>2549.081095</td>\n",
       "      <td>16248.555062</td>\n",
       "      <td>1609.492026</td>\n",
       "      <td>NaN</td>\n",
       "      <td>8959.240204</td>\n",
       "      <td>3561.740073</td>\n",
       "      <td>2185.120656</td>\n",
       "      <td>2591.007534</td>\n",
       "    </tr>\n",
       "    <tr>\n",
       "      <th>1993</th>\n",
       "      <td>NaN</td>\n",
       "      <td>3323.864388</td>\n",
       "      <td>9453.323181</td>\n",
       "      <td>3118.903488</td>\n",
       "      <td>18055.500956</td>\n",
       "      <td>10618.558714</td>\n",
       "      <td>13919.403900</td>\n",
       "      <td>1845.314220</td>\n",
       "      <td>39051.995974</td>\n",
       "      <td>28812.100376</td>\n",
       "      <td>...</td>\n",
       "      <td>11048.652061</td>\n",
       "      <td>3108.086275</td>\n",
       "      <td>2494.681477</td>\n",
       "      <td>15937.294015</td>\n",
       "      <td>1705.335543</td>\n",
       "      <td>NaN</td>\n",
       "      <td>8984.696890</td>\n",
       "      <td>3519.550101</td>\n",
       "      <td>2278.347123</td>\n",
       "      <td>2572.870395</td>\n",
       "    </tr>\n",
       "    <tr>\n",
       "      <th>1994</th>\n",
       "      <td>NaN</td>\n",
       "      <td>3622.007101</td>\n",
       "      <td>9176.235569</td>\n",
       "      <td>3060.336207</td>\n",
       "      <td>18851.937822</td>\n",
       "      <td>10657.260745</td>\n",
       "      <td>14546.538787</td>\n",
       "      <td>1992.015239</td>\n",
       "      <td>39944.111433</td>\n",
       "      <td>29644.146020</td>\n",
       "      <td>...</td>\n",
       "      <td>11766.475121</td>\n",
       "      <td>2889.187663</td>\n",
       "      <td>2647.923540</td>\n",
       "      <td>15231.183400</td>\n",
       "      <td>1822.025810</td>\n",
       "      <td>3236.196368</td>\n",
       "      <td>9109.764275</td>\n",
       "      <td>3581.814359</td>\n",
       "      <td>2031.776457</td>\n",
       "      <td>2768.309953</td>\n",
       "    </tr>\n",
       "  </tbody>\n",
       "</table>\n",
       "<p>5 rows × 243 columns</p>\n",
       "</div>"
      ],
      "text/plain": [
       "Country  Afghanistan      Albania       Algeria       Angola  \\\n",
       "Year                                                           \n",
       "1990             NaN  4458.247115  10300.015042  4761.229638   \n",
       "1991             NaN  3229.250120   9929.097717  4651.204299   \n",
       "1992             NaN  3015.391377   9873.024864  4238.318419   \n",
       "1993             NaN  3323.864388   9453.323181  3118.903488   \n",
       "1994             NaN  3622.007101   9176.235569  3060.336207   \n",
       "\n",
       "Country  Antigua and Barbuda    Arab World     Argentina      Armenia  \\\n",
       "Year                                                                    \n",
       "1990            17454.549799  10491.507721  11372.823108  3742.431024   \n",
       "1991            17598.378401  10243.813560  12238.788847  3335.595238   \n",
       "1992            17497.380127  10573.827918  13032.793286  1976.525218   \n",
       "1993            18055.500956  10618.558714  13919.403900  1845.314220   \n",
       "1994            18851.937822  10657.260745  14546.538787  1992.015239   \n",
       "\n",
       "Country         Aruba     Australia  ...       Uruguay   Uzbekistan  \\\n",
       "Year                                 ...                              \n",
       "1990     37140.024657  28669.059474  ...   9841.947945  3851.572604   \n",
       "1991     38562.960618  28193.528651  ...  10118.456960  3751.770475   \n",
       "1992     38669.374901  27968.401884  ...  10842.062014  3254.375512   \n",
       "1993     39051.995974  28812.100376  ...  11048.652061  3108.086275   \n",
       "1994     39944.111433  29644.146020  ...  11766.475121  2889.187663   \n",
       "\n",
       "Country      Vanuatu     Venezuela      Vietnam  West Bank and Gaza  \\\n",
       "Year                                                                  \n",
       "1990     2550.348904  14619.454190  1457.594613                 NaN   \n",
       "1991     2558.105707  15671.799905  1512.269780                 NaN   \n",
       "1992     2549.081095  16248.555062  1609.492026                 NaN   \n",
       "1993     2494.681477  15937.294015  1705.335543                 NaN   \n",
       "1994     2647.923540  15231.183400  1822.025810         3236.196368   \n",
       "\n",
       "Country        World        Yemen       Zambia     Zimbabwe  \n",
       "Year                                                         \n",
       "1990     8966.014072  3425.707169  2339.137959  2819.549467  \n",
       "1991     8942.915645  3466.039074  2278.802025  2906.272849  \n",
       "1992     8959.240204  3561.740073  2185.120656  2591.007534  \n",
       "1993     8984.696890  3519.550101  2278.347123  2572.870395  \n",
       "1994     9109.764275  3581.814359  2031.776457  2768.309953  \n",
       "\n",
       "[5 rows x 243 columns]"
      ]
     },
     "execution_count": 31,
     "metadata": {},
     "output_type": "execute_result"
    }
   ],
   "source": [
    "gdp_pivoted_on_year = gdp_df.pivot_table(values = 'GDP_Per_Capita', index = 'Year', columns= 'Country')\n",
    "gdp_pivoted_on_year.head()"
   ]
  },
  {
   "cell_type": "code",
   "execution_count": 32,
   "metadata": {},
   "outputs": [
    {
     "data": {
      "image/png": "[encoded data removed]",
      "text/plain": [
       "<Figure size 432x288 with 1 Axes>"
      ]
     },
     "metadata": {
      "needs_background": "light"
     },
     "output_type": "display_data"
    }
   ],
   "source": [
    "gdp_pivoted_on_year.plot(kind = 'line', legend=False);\n",
    "#plt.show()"
   ]
  },
  {
   "cell_type": "code",
   "execution_count": 33,
   "metadata": {},
   "outputs": [
    {
     "data": {
      "text/html": [
       "<div>\n",
       "<style scoped>\n",
       "    .dataframe tbody tr th:only-of-type {\n",
       "        vertical-align: middle;\n",
       "    }\n",
       "\n",
       "    .dataframe tbody tr th {\n",
       "        vertical-align: top;\n",
       "    }\n",
       "\n",
       "    .dataframe thead th {\n",
       "        text-align: right;\n",
       "    }\n",
       "</style>\n",
       "<table border=\"1\" class=\"dataframe\">\n",
       "  <thead>\n",
       "    <tr style=\"text-align: right;\">\n",
       "      <th>Year</th>\n",
       "      <th>1990</th>\n",
       "      <th>2017</th>\n",
       "      <th>Percent_Change</th>\n",
       "    </tr>\n",
       "    <tr>\n",
       "      <th>Country</th>\n",
       "      <th></th>\n",
       "      <th></th>\n",
       "      <th></th>\n",
       "    </tr>\n",
       "  </thead>\n",
       "  <tbody>\n",
       "    <tr>\n",
       "      <th>Equatorial Guinea</th>\n",
       "      <td>1017.764136</td>\n",
       "      <td>22298.942144</td>\n",
       "      <td>2090.973464</td>\n",
       "    </tr>\n",
       "    <tr>\n",
       "      <th>China</th>\n",
       "      <td>1521.963868</td>\n",
       "      <td>15253.993071</td>\n",
       "      <td>902.257241</td>\n",
       "    </tr>\n",
       "  </tbody>\n",
       "</table>\n",
       "</div>"
      ],
      "text/plain": [
       "Year                      1990          2017  Percent_Change\n",
       "Country                                                     \n",
       "Equatorial Guinea  1017.764136  22298.942144     2090.973464\n",
       "China              1521.963868  15253.993071      902.257241"
      ]
     },
     "execution_count": 33,
     "metadata": {},
     "output_type": "execute_result"
    }
   ],
   "source": [
    "gdp_pivoted.nlargest(2, 'Percent_Change')"
   ]
  },
  {
   "cell_type": "code",
   "execution_count": 34,
   "metadata": {
    "scrolled": false
   },
   "outputs": [
    {
     "data": {
      "image/png": "[encoded data removed]",
      "text/plain": [
       "<Figure size 432x288 with 1 Axes>"
      ]
     },
     "metadata": {
      "needs_background": "light"
     },
     "output_type": "display_data"
    }
   ],
   "source": [
    "#Bonus: Put both line charts on the same plot.\n",
    "gdp_df_large = gdp_df.loc[gdp_df['Country'].isin(['Equatorial Guinea', 'China'])]\n",
    "fig, ax =plt.subplots()\n",
    "gdp_df_large.groupby('Country').plot(x='Year', y='GDP_Per_Capita', ax=ax, legend=False);"
   ]
  },
  {
   "cell_type": "markdown",
   "metadata": {},
   "source": [
    "Equatorial guinea's GDP per capita is increasing very fast until 2006-2007 then crash however China is increasing slower but steadier."
   ]
  },
  {
   "cell_type": "markdown",
   "metadata": {},
   "source": [
    "18. Read in continents.csv contained in the data folder into a new dataframe\n",
    "called continents. We will be using this dataframe to add a new column\n",
    "to our dataset."
   ]
  },
  {
   "cell_type": "code",
   "execution_count": 35,
   "metadata": {},
   "outputs": [],
   "source": [
    "continents = pd.read_csv('../data/continents.csv')"
   ]
  },
  {
   "cell_type": "code",
   "execution_count": 36,
   "metadata": {},
   "outputs": [
    {
     "data": {
      "text/html": [
       "<div>\n",
       "<style scoped>\n",
       "    .dataframe tbody tr th:only-of-type {\n",
       "        vertical-align: middle;\n",
       "    }\n",
       "\n",
       "    .dataframe tbody tr th {\n",
       "        vertical-align: top;\n",
       "    }\n",
       "\n",
       "    .dataframe thead th {\n",
       "        text-align: right;\n",
       "    }\n",
       "</style>\n",
       "<table border=\"1\" class=\"dataframe\">\n",
       "  <thead>\n",
       "    <tr style=\"text-align: right;\">\n",
       "      <th></th>\n",
       "      <th>Continent</th>\n",
       "      <th>Country</th>\n",
       "    </tr>\n",
       "  </thead>\n",
       "  <tbody>\n",
       "    <tr>\n",
       "      <th>0</th>\n",
       "      <td>Asia</td>\n",
       "      <td>Afghanistan</td>\n",
       "    </tr>\n",
       "    <tr>\n",
       "      <th>1</th>\n",
       "      <td>Europe</td>\n",
       "      <td>Albania</td>\n",
       "    </tr>\n",
       "  </tbody>\n",
       "</table>\n",
       "</div>"
      ],
      "text/plain": [
       "  Continent      Country\n",
       "0      Asia  Afghanistan\n",
       "1    Europe      Albania"
      ]
     },
     "execution_count": 36,
     "metadata": {},
     "output_type": "execute_result"
    }
   ],
   "source": [
    "continents.head(2)"
   ]
  },
  {
   "cell_type": "code",
   "execution_count": 37,
   "metadata": {},
   "outputs": [
    {
     "data": {
      "text/plain": [
       "(216, 2)"
      ]
     },
     "execution_count": 37,
     "metadata": {},
     "output_type": "execute_result"
    }
   ],
   "source": [
    "continents.shape"
   ]
  },
  {
   "cell_type": "markdown",
   "metadata": {},
   "source": [
    "19. Merge gdp_df and continents. Keep only the countries that appear in\n",
    "both data frames. Save the result back to gdp_df."
   ]
  },
  {
   "cell_type": "code",
   "execution_count": 38,
   "metadata": {},
   "outputs": [],
   "source": [
    "gdp_df = gdp_df.merge(continents, on= 'Country', how ='left')"
   ]
  },
  {
   "cell_type": "code",
   "execution_count": 39,
   "metadata": {},
   "outputs": [
    {
     "data": {
      "text/html": [
       "<div>\n",
       "<style scoped>\n",
       "    .dataframe tbody tr th:only-of-type {\n",
       "        vertical-align: middle;\n",
       "    }\n",
       "\n",
       "    .dataframe tbody tr th {\n",
       "        vertical-align: top;\n",
       "    }\n",
       "\n",
       "    .dataframe thead th {\n",
       "        text-align: right;\n",
       "    }\n",
       "</style>\n",
       "<table border=\"1\" class=\"dataframe\">\n",
       "  <thead>\n",
       "    <tr style=\"text-align: right;\">\n",
       "      <th></th>\n",
       "      <th>Country</th>\n",
       "      <th>Year</th>\n",
       "      <th>GDP_Per_Capita</th>\n",
       "      <th>Continent</th>\n",
       "    </tr>\n",
       "  </thead>\n",
       "  <tbody>\n",
       "    <tr>\n",
       "      <th>0</th>\n",
       "      <td>Afghanistan</td>\n",
       "      <td>2018</td>\n",
       "      <td>1734.723214</td>\n",
       "      <td>Asia</td>\n",
       "    </tr>\n",
       "    <tr>\n",
       "      <th>1</th>\n",
       "      <td>Afghanistan</td>\n",
       "      <td>2017</td>\n",
       "      <td>1758.465636</td>\n",
       "      <td>Asia</td>\n",
       "    </tr>\n",
       "    <tr>\n",
       "      <th>2</th>\n",
       "      <td>Afghanistan</td>\n",
       "      <td>2016</td>\n",
       "      <td>1757.023490</td>\n",
       "      <td>Asia</td>\n",
       "    </tr>\n",
       "  </tbody>\n",
       "</table>\n",
       "</div>"
      ],
      "text/plain": [
       "       Country  Year  GDP_Per_Capita Continent\n",
       "0  Afghanistan  2018     1734.723214      Asia\n",
       "1  Afghanistan  2017     1758.465636      Asia\n",
       "2  Afghanistan  2016     1757.023490      Asia"
      ]
     },
     "execution_count": 39,
     "metadata": {},
     "output_type": "execute_result"
    }
   ],
   "source": [
    "gdp_df.head(3)"
   ]
  },
  {
   "cell_type": "code",
   "execution_count": 40,
   "metadata": {},
   "outputs": [
    {
     "data": {
      "text/plain": [
       "(6729, 4)"
      ]
     },
     "execution_count": 40,
     "metadata": {},
     "output_type": "execute_result"
    }
   ],
   "source": [
    "gdp_df.shape"
   ]
  },
  {
   "cell_type": "code",
   "execution_count": 41,
   "metadata": {},
   "outputs": [
    {
     "name": "stdout",
     "output_type": "stream",
     "text": [
      "<class 'pandas.core.frame.DataFrame'>\n",
      "Int64Index: 6729 entries, 0 to 6728\n",
      "Data columns (total 4 columns):\n",
      "Country           6729 non-null object\n",
      "Year              6729 non-null int64\n",
      "GDP_Per_Capita    6729 non-null float64\n",
      "Continent         5334 non-null object\n",
      "dtypes: float64(1), int64(1), object(2)\n",
      "memory usage: 262.9+ KB\n"
     ]
    }
   ],
   "source": [
    "gdp_df.info()"
   ]
  },
  {
   "cell_type": "markdown",
   "metadata": {},
   "source": [
    "20. Determine the number of countries per continent. Create a bar chart showing this."
   ]
  },
  {
   "cell_type": "code",
   "execution_count": 42,
   "metadata": {},
   "outputs": [
    {
     "data": {
      "text/plain": [
       "Africa           1399\n",
       "Europe           1243\n",
       "Asia             1226\n",
       "North America     739\n",
       "Oceania           379\n",
       "South America     348\n",
       "Name: Continent, dtype: int64"
      ]
     },
     "execution_count": 42,
     "metadata": {},
     "output_type": "execute_result"
    }
   ],
   "source": [
    "gdp_df['Continent'].value_counts()"
   ]
  },
  {
   "cell_type": "code",
   "execution_count": 43,
   "metadata": {},
   "outputs": [
    {
     "data": {
      "text/plain": [
       "Continent\n",
       "Africa           1399\n",
       "Asia             1226\n",
       "Europe           1243\n",
       "North America     739\n",
       "Oceania           379\n",
       "South America     348\n",
       "Name: Country, dtype: int64"
      ]
     },
     "execution_count": 43,
     "metadata": {},
     "output_type": "execute_result"
    }
   ],
   "source": [
    "gdp_df.groupby('Continent')['Country'].count()"
   ]
  },
  {
   "cell_type": "code",
   "execution_count": 44,
   "metadata": {},
   "outputs": [
    {
     "data": {
      "image/png": "[encoded data removed]",
      "text/plain": [
       "<Figure size 432x288 with 1 Axes>"
      ]
     },
     "metadata": {
      "needs_background": "light"
     },
     "output_type": "display_data"
    }
   ],
   "source": [
    "gdp_df.groupby('Continent')['Country'].nunique().plot(kind = 'bar');"
   ]
  },
  {
   "cell_type": "markdown",
   "metadata": {},
   "source": [
    "21. Creat a seaborn boxplot showing GDP per capita in 2014 split out by continent. What do you notice?"
   ]
  },
  {
   "cell_type": "code",
   "execution_count": 45,
   "metadata": {},
   "outputs": [],
   "source": [
    "gdp_2014_cont = gdp_2014.merge(continents, on= 'Country', how= 'left')"
   ]
  },
  {
   "cell_type": "code",
   "execution_count": 46,
   "metadata": {},
   "outputs": [
    {
     "data": {
      "text/html": [
       "<div>\n",
       "<style scoped>\n",
       "    .dataframe tbody tr th:only-of-type {\n",
       "        vertical-align: middle;\n",
       "    }\n",
       "\n",
       "    .dataframe tbody tr th {\n",
       "        vertical-align: top;\n",
       "    }\n",
       "\n",
       "    .dataframe thead th {\n",
       "        text-align: right;\n",
       "    }\n",
       "</style>\n",
       "<table border=\"1\" class=\"dataframe\">\n",
       "  <thead>\n",
       "    <tr style=\"text-align: right;\">\n",
       "      <th></th>\n",
       "      <th>Country</th>\n",
       "      <th>Year</th>\n",
       "      <th>GDP_Per_Capita</th>\n",
       "      <th>Continent</th>\n",
       "    </tr>\n",
       "  </thead>\n",
       "  <tbody>\n",
       "    <tr>\n",
       "      <th>0</th>\n",
       "      <td>Afghanistan</td>\n",
       "      <td>2014</td>\n",
       "      <td>1795.735834</td>\n",
       "      <td>Asia</td>\n",
       "    </tr>\n",
       "    <tr>\n",
       "      <th>1</th>\n",
       "      <td>Albania</td>\n",
       "      <td>2014</td>\n",
       "      <td>10700.993216</td>\n",
       "      <td>Europe</td>\n",
       "    </tr>\n",
       "  </tbody>\n",
       "</table>\n",
       "</div>"
      ],
      "text/plain": [
       "       Country  Year  GDP_Per_Capita Continent\n",
       "0  Afghanistan  2014     1795.735834      Asia\n",
       "1      Albania  2014    10700.993216    Europe"
      ]
     },
     "execution_count": 46,
     "metadata": {},
     "output_type": "execute_result"
    }
   ],
   "source": [
    "gdp_2014_cont.head(2)"
   ]
  },
  {
   "cell_type": "code",
   "execution_count": 47,
   "metadata": {},
   "outputs": [
    {
     "data": {
      "text/plain": [
       "(240, 4)"
      ]
     },
     "execution_count": 47,
     "metadata": {},
     "output_type": "execute_result"
    }
   ],
   "source": [
    "gdp_2014_cont.shape"
   ]
  },
  {
   "cell_type": "code",
   "execution_count": 48,
   "metadata": {},
   "outputs": [
    {
     "data": {
      "image/png": "[encoded data removed]",
      "text/plain": [
       "<Figure size 720x576 with 1 Axes>"
      ]
     },
     "metadata": {
      "needs_background": "light"
     },
     "output_type": "display_data"
    }
   ],
   "source": [
    "plt.figure(figsize = (10, 8))\n",
    "sns.barplot(data = gdp_2014_cont, x = 'Continent', y = 'GDP_Per_Capita')\n",
    "plt.title(\"Count of GDP per Capita by Continent\", y=1.02);"
   ]
  },
  {
   "cell_type": "code",
   "execution_count": 49,
   "metadata": {},
   "outputs": [
    {
     "data": {
      "image/png": "[encoded data removed]",
      "text/plain": [
       "<Figure size 432x288 with 1 Axes>"
      ]
     },
     "metadata": {
      "needs_background": "light"
     },
     "output_type": "display_data"
    }
   ],
   "source": [
    "plt.figure(figsize=(6,4))\n",
    "sns.boxplot(data = gdp_2014_cont, x = 'Continent', y = 'GDP_Per_Capita')\n",
    "plt.ylabel('count')\n",
    "plt.xticks(rotation = 45)\n",
    "plt.title(\"Count of GDP per Capita by Continent\", y=1.02);"
   ]
  },
  {
   "cell_type": "markdown",
   "metadata": {},
   "source": [
    "Asia and Europe have a bigger GDP per capita than other continents. Africa is the smallest which is not surprising however I'm surprised North America is only #3..."
   ]
  },
  {
   "cell_type": "markdown",
   "metadata": {},
   "source": [
    "22. Read in internet_use.csv into a DataFrame called internet_df. You will most likely get an error message when doing this - figure out what is going\n",
    "wrong and fix it. Take a look at the first and last five rows and make any corrections to your read_csv() call to fix this. Again, do not modify the original datasets."
   ]
  },
  {
   "cell_type": "code",
   "execution_count": 50,
   "metadata": {},
   "outputs": [
    {
     "data": {
      "text/plain": [
       "[4498,\n",
       " 4499,\n",
       " 4500,\n",
       " 4501,\n",
       " 4502,\n",
       " 4503,\n",
       " 4504,\n",
       " 4505,\n",
       " 4506,\n",
       " 4507,\n",
       " 4508,\n",
       " 4509,\n",
       " 4510,\n",
       " 4511,\n",
       " 4512,\n",
       " 4513,\n",
       " 4514,\n",
       " 4515,\n",
       " 4516,\n",
       " 4517,\n",
       " 4518,\n",
       " 4519,\n",
       " 4520,\n",
       " 4521,\n",
       " 4522,\n",
       " 4523,\n",
       " 4524,\n",
       " 4525,\n",
       " 4526,\n",
       " 4527,\n",
       " 4528,\n",
       " 4529,\n",
       " 4530,\n",
       " 4531,\n",
       " 4532,\n",
       " 4533,\n",
       " 4534,\n",
       " 4535,\n",
       " 4536,\n",
       " 4537,\n",
       " 4538,\n",
       " 4539,\n",
       " 4540,\n",
       " 4541,\n",
       " 4542,\n",
       " 4543,\n",
       " 4544,\n",
       " 4545,\n",
       " 4546,\n",
       " 4547,\n",
       " 4548,\n",
       " 4549,\n",
       " 4550,\n",
       " 4551,\n",
       " 4552,\n",
       " 4553,\n",
       " 4554,\n",
       " 4555,\n",
       " 4556,\n",
       " 4557,\n",
       " 4558,\n",
       " 4559,\n",
       " 4560,\n",
       " 4561,\n",
       " 4562,\n",
       " 4563,\n",
       " 4564,\n",
       " 4565,\n",
       " 4566,\n",
       " 4567,\n",
       " 4568,\n",
       " 4569,\n",
       " 4570,\n",
       " 4571,\n",
       " 4572,\n",
       " 4573,\n",
       " 4574,\n",
       " 4575,\n",
       " 4576,\n",
       " 4577,\n",
       " 4578,\n",
       " 4579,\n",
       " 4580,\n",
       " 4581,\n",
       " 4582,\n",
       " 4583,\n",
       " 4584,\n",
       " 4585,\n",
       " 4586,\n",
       " 4587,\n",
       " 4588,\n",
       " 4589,\n",
       " 4590,\n",
       " 4591,\n",
       " 4592,\n",
       " 4593,\n",
       " 4594,\n",
       " 4595,\n",
       " 4596,\n",
       " 4597,\n",
       " 4598,\n",
       " 4599,\n",
       " 4600,\n",
       " 4601,\n",
       " 4602,\n",
       " 4603,\n",
       " 4604,\n",
       " 4605,\n",
       " 4606,\n",
       " 4607,\n",
       " 4608,\n",
       " 4609,\n",
       " 4610,\n",
       " 4611,\n",
       " 4612,\n",
       " 4613,\n",
       " 4614,\n",
       " 4615,\n",
       " 4616,\n",
       " 4617,\n",
       " 4618,\n",
       " 4619,\n",
       " 4620,\n",
       " 4621,\n",
       " 4622,\n",
       " 4623,\n",
       " 4624,\n",
       " 4625,\n",
       " 4626,\n",
       " 4627,\n",
       " 4628,\n",
       " 4629,\n",
       " 4630,\n",
       " 4631,\n",
       " 4632,\n",
       " 4633,\n",
       " 4634,\n",
       " 4635,\n",
       " 4636,\n",
       " 4637,\n",
       " 4638,\n",
       " 4639,\n",
       " 4640,\n",
       " 4641,\n",
       " 4642,\n",
       " 4643,\n",
       " 4644,\n",
       " 4645,\n",
       " 4646,\n",
       " 4647,\n",
       " 4648,\n",
       " 4649,\n",
       " 4650,\n",
       " 4651,\n",
       " 4652,\n",
       " 4653,\n",
       " 4654,\n",
       " 4655,\n",
       " 4656,\n",
       " 4657,\n",
       " 4658,\n",
       " 4659,\n",
       " 4660,\n",
       " 4661,\n",
       " 4662,\n",
       " 4663,\n",
       " 4664,\n",
       " 4665,\n",
       " 4666,\n",
       " 4667,\n",
       " 4668,\n",
       " 4669,\n",
       " 4670,\n",
       " 4671,\n",
       " 4672,\n",
       " 4673,\n",
       " 4674,\n",
       " 4675,\n",
       " 4676,\n",
       " 4677,\n",
       " 4678,\n",
       " 4679,\n",
       " 4680,\n",
       " 4681,\n",
       " 4682,\n",
       " 4683,\n",
       " 4684,\n",
       " 4685,\n",
       " 4686,\n",
       " 4687]"
      ]
     },
     "execution_count": 50,
     "metadata": {},
     "output_type": "execute_result"
    }
   ],
   "source": [
    "list(range(4498,4688))"
   ]
  },
  {
   "cell_type": "code",
   "execution_count": 51,
   "metadata": {},
   "outputs": [
    {
     "data": {
      "text/html": [
       "<div>\n",
       "<style scoped>\n",
       "    .dataframe tbody tr th:only-of-type {\n",
       "        vertical-align: middle;\n",
       "    }\n",
       "\n",
       "    .dataframe tbody tr th {\n",
       "        vertical-align: top;\n",
       "    }\n",
       "\n",
       "    .dataframe thead th {\n",
       "        text-align: right;\n",
       "    }\n",
       "</style>\n",
       "<table border=\"1\" class=\"dataframe\">\n",
       "  <thead>\n",
       "    <tr style=\"text-align: right;\">\n",
       "      <th></th>\n",
       "      <th>Country or Area</th>\n",
       "      <th>Year</th>\n",
       "      <th>Value</th>\n",
       "      <th>Value Footnotes</th>\n",
       "    </tr>\n",
       "  </thead>\n",
       "  <tbody>\n",
       "    <tr>\n",
       "      <th>0</th>\n",
       "      <td>Afghanistan</td>\n",
       "      <td>2014</td>\n",
       "      <td>6.390000</td>\n",
       "      <td>NaN</td>\n",
       "    </tr>\n",
       "    <tr>\n",
       "      <th>1</th>\n",
       "      <td>Afghanistan</td>\n",
       "      <td>2013</td>\n",
       "      <td>5.900000</td>\n",
       "      <td>NaN</td>\n",
       "    </tr>\n",
       "    <tr>\n",
       "      <th>2</th>\n",
       "      <td>Afghanistan</td>\n",
       "      <td>2012</td>\n",
       "      <td>5.454545</td>\n",
       "      <td>NaN</td>\n",
       "    </tr>\n",
       "    <tr>\n",
       "      <th>3</th>\n",
       "      <td>Afghanistan</td>\n",
       "      <td>2011</td>\n",
       "      <td>5.000000</td>\n",
       "      <td>NaN</td>\n",
       "    </tr>\n",
       "    <tr>\n",
       "      <th>4</th>\n",
       "      <td>Afghanistan</td>\n",
       "      <td>2010</td>\n",
       "      <td>4.000000</td>\n",
       "      <td>NaN</td>\n",
       "    </tr>\n",
       "  </tbody>\n",
       "</table>\n",
       "</div>"
      ],
      "text/plain": [
       "  Country or Area  Year     Value  Value Footnotes\n",
       "0     Afghanistan  2014  6.390000              NaN\n",
       "1     Afghanistan  2013  5.900000              NaN\n",
       "2     Afghanistan  2012  5.454545              NaN\n",
       "3     Afghanistan  2011  5.000000              NaN\n",
       "4     Afghanistan  2010  4.000000              NaN"
      ]
     },
     "execution_count": 51,
     "metadata": {},
     "output_type": "execute_result"
    }
   ],
   "source": [
    "internet_df = pd.read_csv('../data/internet_use.csv', skiprows=list(range(4497,4688)))\n",
    "internet_df.head()\n",
    "#pd.read_csv('../data/internet_use.csv', usecols=['Country or Area', 'Year', 'Value'])[:-181]"
   ]
  },
  {
   "cell_type": "code",
   "execution_count": 52,
   "metadata": {},
   "outputs": [
    {
     "data": {
      "text/html": [
       "<div>\n",
       "<style scoped>\n",
       "    .dataframe tbody tr th:only-of-type {\n",
       "        vertical-align: middle;\n",
       "    }\n",
       "\n",
       "    .dataframe tbody tr th {\n",
       "        vertical-align: top;\n",
       "    }\n",
       "\n",
       "    .dataframe thead th {\n",
       "        text-align: right;\n",
       "    }\n",
       "</style>\n",
       "<table border=\"1\" class=\"dataframe\">\n",
       "  <thead>\n",
       "    <tr style=\"text-align: right;\">\n",
       "      <th></th>\n",
       "      <th>Country or Area</th>\n",
       "      <th>Year</th>\n",
       "      <th>Value</th>\n",
       "      <th>Value Footnotes</th>\n",
       "    </tr>\n",
       "  </thead>\n",
       "  <tbody>\n",
       "    <tr>\n",
       "      <th>4490</th>\n",
       "      <td>Zimbabwe</td>\n",
       "      <td>1997</td>\n",
       "      <td>0.033080</td>\n",
       "      <td>NaN</td>\n",
       "    </tr>\n",
       "    <tr>\n",
       "      <th>4491</th>\n",
       "      <td>Zimbabwe</td>\n",
       "      <td>1996</td>\n",
       "      <td>0.016790</td>\n",
       "      <td>NaN</td>\n",
       "    </tr>\n",
       "    <tr>\n",
       "      <th>4492</th>\n",
       "      <td>Zimbabwe</td>\n",
       "      <td>1995</td>\n",
       "      <td>0.007684</td>\n",
       "      <td>NaN</td>\n",
       "    </tr>\n",
       "    <tr>\n",
       "      <th>4493</th>\n",
       "      <td>Zimbabwe</td>\n",
       "      <td>1994</td>\n",
       "      <td>0.001739</td>\n",
       "      <td>NaN</td>\n",
       "    </tr>\n",
       "    <tr>\n",
       "      <th>4494</th>\n",
       "      <td>Zimbabwe</td>\n",
       "      <td>1990</td>\n",
       "      <td>0.000000</td>\n",
       "      <td>NaN</td>\n",
       "    </tr>\n",
       "  </tbody>\n",
       "</table>\n",
       "</div>"
      ],
      "text/plain": [
       "     Country or Area  Year     Value  Value Footnotes\n",
       "4490        Zimbabwe  1997  0.033080              NaN\n",
       "4491        Zimbabwe  1996  0.016790              NaN\n",
       "4492        Zimbabwe  1995  0.007684              NaN\n",
       "4493        Zimbabwe  1994  0.001739              NaN\n",
       "4494        Zimbabwe  1990  0.000000              NaN"
      ]
     },
     "execution_count": 52,
     "metadata": {},
     "output_type": "execute_result"
    }
   ],
   "source": [
    "internet_df.tail()"
   ]
  },
  {
   "cell_type": "markdown",
   "metadata": {},
   "source": [
    "23. Drop the Value Footnotes column and then rename the columns to ‘Country’, ‘Year’, and ‘Internet_Users_Pct’."
   ]
  },
  {
   "cell_type": "code",
   "execution_count": 53,
   "metadata": {},
   "outputs": [],
   "source": [
    "internet_df =internet_df.drop(['Value Footnotes'], axis=1)"
   ]
  },
  {
   "cell_type": "code",
   "execution_count": 54,
   "metadata": {},
   "outputs": [
    {
     "data": {
      "text/html": [
       "<div>\n",
       "<style scoped>\n",
       "    .dataframe tbody tr th:only-of-type {\n",
       "        vertical-align: middle;\n",
       "    }\n",
       "\n",
       "    .dataframe tbody tr th {\n",
       "        vertical-align: top;\n",
       "    }\n",
       "\n",
       "    .dataframe thead th {\n",
       "        text-align: right;\n",
       "    }\n",
       "</style>\n",
       "<table border=\"1\" class=\"dataframe\">\n",
       "  <thead>\n",
       "    <tr style=\"text-align: right;\">\n",
       "      <th></th>\n",
       "      <th>Country</th>\n",
       "      <th>Year</th>\n",
       "      <th>Internet_Users_Pct</th>\n",
       "    </tr>\n",
       "  </thead>\n",
       "  <tbody>\n",
       "    <tr>\n",
       "      <th>0</th>\n",
       "      <td>Afghanistan</td>\n",
       "      <td>2014</td>\n",
       "      <td>6.390000</td>\n",
       "    </tr>\n",
       "    <tr>\n",
       "      <th>1</th>\n",
       "      <td>Afghanistan</td>\n",
       "      <td>2013</td>\n",
       "      <td>5.900000</td>\n",
       "    </tr>\n",
       "    <tr>\n",
       "      <th>2</th>\n",
       "      <td>Afghanistan</td>\n",
       "      <td>2012</td>\n",
       "      <td>5.454545</td>\n",
       "    </tr>\n",
       "    <tr>\n",
       "      <th>3</th>\n",
       "      <td>Afghanistan</td>\n",
       "      <td>2011</td>\n",
       "      <td>5.000000</td>\n",
       "    </tr>\n",
       "    <tr>\n",
       "      <th>4</th>\n",
       "      <td>Afghanistan</td>\n",
       "      <td>2010</td>\n",
       "      <td>4.000000</td>\n",
       "    </tr>\n",
       "  </tbody>\n",
       "</table>\n",
       "</div>"
      ],
      "text/plain": [
       "       Country  Year  Internet_Users_Pct\n",
       "0  Afghanistan  2014            6.390000\n",
       "1  Afghanistan  2013            5.900000\n",
       "2  Afghanistan  2012            5.454545\n",
       "3  Afghanistan  2011            5.000000\n",
       "4  Afghanistan  2010            4.000000"
      ]
     },
     "execution_count": 54,
     "metadata": {},
     "output_type": "execute_result"
    }
   ],
   "source": [
    "#and then rename the columns to ‘Country’, ‘Year’, and ‘Internet_Users_Pct’\n",
    "internet_df.rename(columns = {'Country or Area':'Country', 'Year':'Year', 'Value':'Internet_Users_Pct'}, inplace = True)\n",
    "internet_df.head(5)"
   ]
  },
  {
   "cell_type": "markdown",
   "metadata": {},
   "source": [
    "24. How many rows and columns does this new dataset have? What are the types of its columns? Ensure that the Internet_Users_Pct column is a numeric data type and fix it if it is not."
   ]
  },
  {
   "cell_type": "code",
   "execution_count": 55,
   "metadata": {},
   "outputs": [
    {
     "name": "stdout",
     "output_type": "stream",
     "text": [
      "<class 'pandas.core.frame.DataFrame'>\n",
      "RangeIndex: 4495 entries, 0 to 4494\n",
      "Data columns (total 3 columns):\n",
      "Country               4495 non-null object\n",
      "Year                  4495 non-null int64\n",
      "Internet_Users_Pct    4495 non-null float64\n",
      "dtypes: float64(1), int64(1), object(1)\n",
      "memory usage: 105.4+ KB\n"
     ]
    }
   ],
   "source": [
    "internet_df.info()"
   ]
  },
  {
   "cell_type": "markdown",
   "metadata": {},
   "source": [
    "25. What is the first year that has a nonzero internet users percentage reported? What is the general trend in internet users percentage over the years. Pick\n",
    "a visualization that you think illustrates this trend well."
   ]
  },
  {
   "cell_type": "code",
   "execution_count": 56,
   "metadata": {},
   "outputs": [
    {
     "data": {
      "text/html": [
       "<div>\n",
       "<style scoped>\n",
       "    .dataframe tbody tr th:only-of-type {\n",
       "        vertical-align: middle;\n",
       "    }\n",
       "\n",
       "    .dataframe tbody tr th {\n",
       "        vertical-align: top;\n",
       "    }\n",
       "\n",
       "    .dataframe thead th {\n",
       "        text-align: right;\n",
       "    }\n",
       "</style>\n",
       "<table border=\"1\" class=\"dataframe\">\n",
       "  <thead>\n",
       "    <tr style=\"text-align: right;\">\n",
       "      <th></th>\n",
       "      <th>Country</th>\n",
       "      <th>Internet_Users_Pct</th>\n",
       "    </tr>\n",
       "    <tr>\n",
       "      <th>Year</th>\n",
       "      <th></th>\n",
       "      <th></th>\n",
       "    </tr>\n",
       "  </thead>\n",
       "  <tbody>\n",
       "    <tr>\n",
       "      <th>1990</th>\n",
       "      <td>Australia</td>\n",
       "      <td>0.001007</td>\n",
       "    </tr>\n",
       "    <tr>\n",
       "      <th>1991</th>\n",
       "      <td>Australia</td>\n",
       "      <td>0.000052</td>\n",
       "    </tr>\n",
       "    <tr>\n",
       "      <th>1992</th>\n",
       "      <td>Argentina</td>\n",
       "      <td>0.000111</td>\n",
       "    </tr>\n",
       "    <tr>\n",
       "      <th>1993</th>\n",
       "      <td>Argentina</td>\n",
       "      <td>0.000169</td>\n",
       "    </tr>\n",
       "    <tr>\n",
       "      <th>1994</th>\n",
       "      <td>Algeria</td>\n",
       "      <td>0.000138</td>\n",
       "    </tr>\n",
       "    <tr>\n",
       "      <th>1995</th>\n",
       "      <td>Albania</td>\n",
       "      <td>0.000018</td>\n",
       "    </tr>\n",
       "    <tr>\n",
       "      <th>1996</th>\n",
       "      <td>Albania</td>\n",
       "      <td>0.000108</td>\n",
       "    </tr>\n",
       "    <tr>\n",
       "      <th>1997</th>\n",
       "      <td>Albania</td>\n",
       "      <td>0.000211</td>\n",
       "    </tr>\n",
       "    <tr>\n",
       "      <th>1998</th>\n",
       "      <td>Albania</td>\n",
       "      <td>0.000413</td>\n",
       "    </tr>\n",
       "    <tr>\n",
       "      <th>1999</th>\n",
       "      <td>Albania</td>\n",
       "      <td>0.000152</td>\n",
       "    </tr>\n",
       "    <tr>\n",
       "      <th>2000</th>\n",
       "      <td>Albania</td>\n",
       "      <td>0.005902</td>\n",
       "    </tr>\n",
       "    <tr>\n",
       "      <th>2001</th>\n",
       "      <td>Afghanistan</td>\n",
       "      <td>0.000289</td>\n",
       "    </tr>\n",
       "    <tr>\n",
       "      <th>2002</th>\n",
       "      <td>Afghanistan</td>\n",
       "      <td>0.000426</td>\n",
       "    </tr>\n",
       "    <tr>\n",
       "      <th>2003</th>\n",
       "      <td>Afghanistan</td>\n",
       "      <td>0.024064</td>\n",
       "    </tr>\n",
       "    <tr>\n",
       "      <th>2004</th>\n",
       "      <td>Afghanistan</td>\n",
       "      <td>0.024337</td>\n",
       "    </tr>\n",
       "    <tr>\n",
       "      <th>2005</th>\n",
       "      <td>Afghanistan</td>\n",
       "      <td>0.065239</td>\n",
       "    </tr>\n",
       "    <tr>\n",
       "      <th>2006</th>\n",
       "      <td>Afghanistan</td>\n",
       "      <td>0.116628</td>\n",
       "    </tr>\n",
       "    <tr>\n",
       "      <th>2007</th>\n",
       "      <td>Afghanistan</td>\n",
       "      <td>0.140959</td>\n",
       "    </tr>\n",
       "    <tr>\n",
       "      <th>2008</th>\n",
       "      <td>Afghanistan</td>\n",
       "      <td>0.163877</td>\n",
       "    </tr>\n",
       "    <tr>\n",
       "      <th>2009</th>\n",
       "      <td>Afghanistan</td>\n",
       "      <td>0.185252</td>\n",
       "    </tr>\n",
       "    <tr>\n",
       "      <th>2010</th>\n",
       "      <td>Afghanistan</td>\n",
       "      <td>0.210000</td>\n",
       "    </tr>\n",
       "    <tr>\n",
       "      <th>2011</th>\n",
       "      <td>Afghanistan</td>\n",
       "      <td>0.700000</td>\n",
       "    </tr>\n",
       "    <tr>\n",
       "      <th>2012</th>\n",
       "      <td>Afghanistan</td>\n",
       "      <td>0.800000</td>\n",
       "    </tr>\n",
       "    <tr>\n",
       "      <th>2013</th>\n",
       "      <td>Afghanistan</td>\n",
       "      <td>0.900000</td>\n",
       "    </tr>\n",
       "    <tr>\n",
       "      <th>2014</th>\n",
       "      <td>Afghanistan</td>\n",
       "      <td>0.990000</td>\n",
       "    </tr>\n",
       "  </tbody>\n",
       "</table>\n",
       "</div>"
      ],
      "text/plain": [
       "          Country  Internet_Users_Pct\n",
       "Year                                 \n",
       "1990    Australia            0.001007\n",
       "1991    Australia            0.000052\n",
       "1992    Argentina            0.000111\n",
       "1993    Argentina            0.000169\n",
       "1994      Algeria            0.000138\n",
       "1995      Albania            0.000018\n",
       "1996      Albania            0.000108\n",
       "1997      Albania            0.000211\n",
       "1998      Albania            0.000413\n",
       "1999      Albania            0.000152\n",
       "2000      Albania            0.005902\n",
       "2001  Afghanistan            0.000289\n",
       "2002  Afghanistan            0.000426\n",
       "2003  Afghanistan            0.024064\n",
       "2004  Afghanistan            0.024337\n",
       "2005  Afghanistan            0.065239\n",
       "2006  Afghanistan            0.116628\n",
       "2007  Afghanistan            0.140959\n",
       "2008  Afghanistan            0.163877\n",
       "2009  Afghanistan            0.185252\n",
       "2010  Afghanistan            0.210000\n",
       "2011  Afghanistan            0.700000\n",
       "2012  Afghanistan            0.800000\n",
       "2013  Afghanistan            0.900000\n",
       "2014  Afghanistan            0.990000"
      ]
     },
     "execution_count": 56,
     "metadata": {},
     "output_type": "execute_result"
    }
   ],
   "source": [
    "internet_df[internet_df['Internet_Users_Pct']>0].groupby('Year').min()"
   ]
  },
  {
   "cell_type": "code",
   "execution_count": 57,
   "metadata": {
    "scrolled": true
   },
   "outputs": [
    {
     "data": {
      "image/png": "[encoded data removed]",
      "text/plain": [
       "<Figure size 432x288 with 1 Axes>"
      ]
     },
     "metadata": {
      "needs_background": "light"
     },
     "output_type": "display_data"
    }
   ],
   "source": [
    "internet_df[internet_df['Internet_Users_Pct']>0].groupby('Year').mean().plot();"
   ]
  },
  {
   "cell_type": "markdown",
   "metadata": {},
   "source": [
    "26. Merge gdf_df and internet_df (on Country and Year) into a single DataFrame named gdp_and_internet_use. Keep only countries and years that appear in both tables."
   ]
  },
  {
   "cell_type": "code",
   "execution_count": 58,
   "metadata": {},
   "outputs": [],
   "source": [
    "gdp_and_internet_use = gdp_df.merge(internet_df, on =('Country', 'Year'))"
   ]
  },
  {
   "cell_type": "code",
   "execution_count": 59,
   "metadata": {},
   "outputs": [
    {
     "data": {
      "text/html": [
       "<div>\n",
       "<style scoped>\n",
       "    .dataframe tbody tr th:only-of-type {\n",
       "        vertical-align: middle;\n",
       "    }\n",
       "\n",
       "    .dataframe tbody tr th {\n",
       "        vertical-align: top;\n",
       "    }\n",
       "\n",
       "    .dataframe thead th {\n",
       "        text-align: right;\n",
       "    }\n",
       "</style>\n",
       "<table border=\"1\" class=\"dataframe\">\n",
       "  <thead>\n",
       "    <tr style=\"text-align: right;\">\n",
       "      <th></th>\n",
       "      <th>Country</th>\n",
       "      <th>Year</th>\n",
       "      <th>GDP_Per_Capita</th>\n",
       "      <th>Continent</th>\n",
       "      <th>Internet_Users_Pct</th>\n",
       "    </tr>\n",
       "  </thead>\n",
       "  <tbody>\n",
       "    <tr>\n",
       "      <th>0</th>\n",
       "      <td>Afghanistan</td>\n",
       "      <td>2014</td>\n",
       "      <td>1795.735834</td>\n",
       "      <td>Asia</td>\n",
       "      <td>6.390000</td>\n",
       "    </tr>\n",
       "    <tr>\n",
       "      <th>1</th>\n",
       "      <td>Afghanistan</td>\n",
       "      <td>2013</td>\n",
       "      <td>1807.762344</td>\n",
       "      <td>Asia</td>\n",
       "      <td>5.900000</td>\n",
       "    </tr>\n",
       "    <tr>\n",
       "      <th>2</th>\n",
       "      <td>Afghanistan</td>\n",
       "      <td>2012</td>\n",
       "      <td>1772.764974</td>\n",
       "      <td>Asia</td>\n",
       "      <td>5.454545</td>\n",
       "    </tr>\n",
       "    <tr>\n",
       "      <th>3</th>\n",
       "      <td>Afghanistan</td>\n",
       "      <td>2011</td>\n",
       "      <td>1626.764793</td>\n",
       "      <td>Asia</td>\n",
       "      <td>5.000000</td>\n",
       "    </tr>\n",
       "    <tr>\n",
       "      <th>4</th>\n",
       "      <td>Afghanistan</td>\n",
       "      <td>2010</td>\n",
       "      <td>1671.581238</td>\n",
       "      <td>Asia</td>\n",
       "      <td>4.000000</td>\n",
       "    </tr>\n",
       "  </tbody>\n",
       "</table>\n",
       "</div>"
      ],
      "text/plain": [
       "       Country  Year  GDP_Per_Capita Continent  Internet_Users_Pct\n",
       "0  Afghanistan  2014     1795.735834      Asia            6.390000\n",
       "1  Afghanistan  2013     1807.762344      Asia            5.900000\n",
       "2  Afghanistan  2012     1772.764974      Asia            5.454545\n",
       "3  Afghanistan  2011     1626.764793      Asia            5.000000\n",
       "4  Afghanistan  2010     1671.581238      Asia            4.000000"
      ]
     },
     "execution_count": 59,
     "metadata": {},
     "output_type": "execute_result"
    }
   ],
   "source": [
    "gdp_and_internet_use.head()"
   ]
  },
  {
   "cell_type": "code",
   "execution_count": 60,
   "metadata": {},
   "outputs": [],
   "source": [
    "# Difficult Bonus: Do not attempt this part until you have completed all other portions of the data question. Some countries have slightly different names in the internet use and gdp dataframes. \n",
    "#For example, the Central African Republic is “Central African Republic” in the gdp dataframe and “Central African Rep.” in the internet use dataframe. \n",
    "#Find as many instances like this as you can and resolve them so that when merging you keep the maximum number of countries possible."
   ]
  },
  {
   "cell_type": "code",
   "execution_count": 61,
   "metadata": {},
   "outputs": [],
   "source": [
    "#list(gdp_df['Country'].unique())"
   ]
  },
  {
   "cell_type": "code",
   "execution_count": 62,
   "metadata": {},
   "outputs": [],
   "source": [
    "#list(internet_df['Country'].unique())"
   ]
  },
  {
   "cell_type": "code",
   "execution_count": 63,
   "metadata": {},
   "outputs": [],
   "source": [
    "#gdp_df['Country'].unique() =! "
   ]
  },
  {
   "cell_type": "markdown",
   "metadata": {},
   "source": [
    "27. Look at the first five rows of your new data frame to confirm it merged correctly. Also, check the last five rows to make sure the data is clean and as expected."
   ]
  },
  {
   "cell_type": "code",
   "execution_count": 64,
   "metadata": {},
   "outputs": [
    {
     "data": {
      "text/html": [
       "<div>\n",
       "<style scoped>\n",
       "    .dataframe tbody tr th:only-of-type {\n",
       "        vertical-align: middle;\n",
       "    }\n",
       "\n",
       "    .dataframe tbody tr th {\n",
       "        vertical-align: top;\n",
       "    }\n",
       "\n",
       "    .dataframe thead th {\n",
       "        text-align: right;\n",
       "    }\n",
       "</style>\n",
       "<table border=\"1\" class=\"dataframe\">\n",
       "  <thead>\n",
       "    <tr style=\"text-align: right;\">\n",
       "      <th></th>\n",
       "      <th>Country</th>\n",
       "      <th>Year</th>\n",
       "      <th>GDP_Per_Capita</th>\n",
       "      <th>Continent</th>\n",
       "      <th>Internet_Users_Pct</th>\n",
       "    </tr>\n",
       "  </thead>\n",
       "  <tbody>\n",
       "    <tr>\n",
       "      <th>0</th>\n",
       "      <td>Afghanistan</td>\n",
       "      <td>2014</td>\n",
       "      <td>1795.735834</td>\n",
       "      <td>Asia</td>\n",
       "      <td>6.390000</td>\n",
       "    </tr>\n",
       "    <tr>\n",
       "      <th>1</th>\n",
       "      <td>Afghanistan</td>\n",
       "      <td>2013</td>\n",
       "      <td>1807.762344</td>\n",
       "      <td>Asia</td>\n",
       "      <td>5.900000</td>\n",
       "    </tr>\n",
       "    <tr>\n",
       "      <th>2</th>\n",
       "      <td>Afghanistan</td>\n",
       "      <td>2012</td>\n",
       "      <td>1772.764974</td>\n",
       "      <td>Asia</td>\n",
       "      <td>5.454545</td>\n",
       "    </tr>\n",
       "    <tr>\n",
       "      <th>3</th>\n",
       "      <td>Afghanistan</td>\n",
       "      <td>2011</td>\n",
       "      <td>1626.764793</td>\n",
       "      <td>Asia</td>\n",
       "      <td>5.000000</td>\n",
       "    </tr>\n",
       "    <tr>\n",
       "      <th>4</th>\n",
       "      <td>Afghanistan</td>\n",
       "      <td>2010</td>\n",
       "      <td>1671.581238</td>\n",
       "      <td>Asia</td>\n",
       "      <td>4.000000</td>\n",
       "    </tr>\n",
       "  </tbody>\n",
       "</table>\n",
       "</div>"
      ],
      "text/plain": [
       "       Country  Year  GDP_Per_Capita Continent  Internet_Users_Pct\n",
       "0  Afghanistan  2014     1795.735834      Asia            6.390000\n",
       "1  Afghanistan  2013     1807.762344      Asia            5.900000\n",
       "2  Afghanistan  2012     1772.764974      Asia            5.454545\n",
       "3  Afghanistan  2011     1626.764793      Asia            5.000000\n",
       "4  Afghanistan  2010     1671.581238      Asia            4.000000"
      ]
     },
     "execution_count": 64,
     "metadata": {},
     "output_type": "execute_result"
    }
   ],
   "source": [
    "gdp_and_internet_use.head()"
   ]
  },
  {
   "cell_type": "code",
   "execution_count": 65,
   "metadata": {},
   "outputs": [
    {
     "data": {
      "text/html": [
       "<div>\n",
       "<style scoped>\n",
       "    .dataframe tbody tr th:only-of-type {\n",
       "        vertical-align: middle;\n",
       "    }\n",
       "\n",
       "    .dataframe tbody tr th {\n",
       "        vertical-align: top;\n",
       "    }\n",
       "\n",
       "    .dataframe thead th {\n",
       "        text-align: right;\n",
       "    }\n",
       "</style>\n",
       "<table border=\"1\" class=\"dataframe\">\n",
       "  <thead>\n",
       "    <tr style=\"text-align: right;\">\n",
       "      <th></th>\n",
       "      <th>Country</th>\n",
       "      <th>Year</th>\n",
       "      <th>GDP_Per_Capita</th>\n",
       "      <th>Continent</th>\n",
       "      <th>Internet_Users_Pct</th>\n",
       "    </tr>\n",
       "  </thead>\n",
       "  <tbody>\n",
       "    <tr>\n",
       "      <th>3514</th>\n",
       "      <td>Zimbabwe</td>\n",
       "      <td>1997</td>\n",
       "      <td>3036.422224</td>\n",
       "      <td>Africa</td>\n",
       "      <td>0.033080</td>\n",
       "    </tr>\n",
       "    <tr>\n",
       "      <th>3515</th>\n",
       "      <td>Zimbabwe</td>\n",
       "      <td>1996</td>\n",
       "      <td>2985.856605</td>\n",
       "      <td>Africa</td>\n",
       "      <td>0.016790</td>\n",
       "    </tr>\n",
       "    <tr>\n",
       "      <th>3516</th>\n",
       "      <td>Zimbabwe</td>\n",
       "      <td>1995</td>\n",
       "      <td>2736.486436</td>\n",
       "      <td>Africa</td>\n",
       "      <td>0.007684</td>\n",
       "    </tr>\n",
       "    <tr>\n",
       "      <th>3517</th>\n",
       "      <td>Zimbabwe</td>\n",
       "      <td>1994</td>\n",
       "      <td>2768.309953</td>\n",
       "      <td>Africa</td>\n",
       "      <td>0.001739</td>\n",
       "    </tr>\n",
       "    <tr>\n",
       "      <th>3518</th>\n",
       "      <td>Zimbabwe</td>\n",
       "      <td>1990</td>\n",
       "      <td>2819.549467</td>\n",
       "      <td>Africa</td>\n",
       "      <td>0.000000</td>\n",
       "    </tr>\n",
       "  </tbody>\n",
       "</table>\n",
       "</div>"
      ],
      "text/plain": [
       "       Country  Year  GDP_Per_Capita Continent  Internet_Users_Pct\n",
       "3514  Zimbabwe  1997     3036.422224    Africa            0.033080\n",
       "3515  Zimbabwe  1996     2985.856605    Africa            0.016790\n",
       "3516  Zimbabwe  1995     2736.486436    Africa            0.007684\n",
       "3517  Zimbabwe  1994     2768.309953    Africa            0.001739\n",
       "3518  Zimbabwe  1990     2819.549467    Africa            0.000000"
      ]
     },
     "execution_count": 65,
     "metadata": {},
     "output_type": "execute_result"
    }
   ],
   "source": [
    "gdp_and_internet_use.tail()"
   ]
  },
  {
   "cell_type": "markdown",
   "metadata": {},
   "source": [
    "28. Create a new DataFrame, named gdp_and_internet_use_2014 by extracting data for the year 2014 from gdp_and_internet_use. What is the mean internet users percentage in 2014? How many countries have at least 90% internet users in 2014?"
   ]
  },
  {
   "cell_type": "code",
   "execution_count": 66,
   "metadata": {},
   "outputs": [
    {
     "data": {
      "text/html": [
       "<div>\n",
       "<style scoped>\n",
       "    .dataframe tbody tr th:only-of-type {\n",
       "        vertical-align: middle;\n",
       "    }\n",
       "\n",
       "    .dataframe tbody tr th {\n",
       "        vertical-align: top;\n",
       "    }\n",
       "\n",
       "    .dataframe thead th {\n",
       "        text-align: right;\n",
       "    }\n",
       "</style>\n",
       "<table border=\"1\" class=\"dataframe\">\n",
       "  <thead>\n",
       "    <tr style=\"text-align: right;\">\n",
       "      <th></th>\n",
       "      <th>Country</th>\n",
       "      <th>Year</th>\n",
       "      <th>GDP_Per_Capita</th>\n",
       "      <th>Continent</th>\n",
       "      <th>Internet_Users_Pct</th>\n",
       "    </tr>\n",
       "  </thead>\n",
       "  <tbody>\n",
       "    <tr>\n",
       "      <th>0</th>\n",
       "      <td>Afghanistan</td>\n",
       "      <td>2014</td>\n",
       "      <td>1795.735834</td>\n",
       "      <td>Asia</td>\n",
       "      <td>6.39</td>\n",
       "    </tr>\n",
       "    <tr>\n",
       "      <th>13</th>\n",
       "      <td>Albania</td>\n",
       "      <td>2014</td>\n",
       "      <td>10700.993216</td>\n",
       "      <td>Europe</td>\n",
       "      <td>60.10</td>\n",
       "    </tr>\n",
       "    <tr>\n",
       "      <th>34</th>\n",
       "      <td>Algeria</td>\n",
       "      <td>2014</td>\n",
       "      <td>13557.769757</td>\n",
       "      <td>Africa</td>\n",
       "      <td>18.09</td>\n",
       "    </tr>\n",
       "    <tr>\n",
       "      <th>56</th>\n",
       "      <td>Angola</td>\n",
       "      <td>2014</td>\n",
       "      <td>6813.052106</td>\n",
       "      <td>Africa</td>\n",
       "      <td>21.26</td>\n",
       "    </tr>\n",
       "    <tr>\n",
       "      <th>76</th>\n",
       "      <td>Antigua and Barbuda</td>\n",
       "      <td>2014</td>\n",
       "      <td>20440.540555</td>\n",
       "      <td>North America</td>\n",
       "      <td>64.00</td>\n",
       "    </tr>\n",
       "  </tbody>\n",
       "</table>\n",
       "</div>"
      ],
      "text/plain": [
       "                Country  Year  GDP_Per_Capita      Continent  \\\n",
       "0           Afghanistan  2014     1795.735834           Asia   \n",
       "13              Albania  2014    10700.993216         Europe   \n",
       "34              Algeria  2014    13557.769757         Africa   \n",
       "56               Angola  2014     6813.052106         Africa   \n",
       "76  Antigua and Barbuda  2014    20440.540555  North America   \n",
       "\n",
       "    Internet_Users_Pct  \n",
       "0                 6.39  \n",
       "13               60.10  \n",
       "34               18.09  \n",
       "56               21.26  \n",
       "76               64.00  "
      ]
     },
     "execution_count": 66,
     "metadata": {},
     "output_type": "execute_result"
    }
   ],
   "source": [
    "gdp_and_internet_use_2014 = gdp_and_internet_use.loc[gdp_and_internet_use['Year'] == 2014]\n",
    "gdp_and_internet_use_2014.head()"
   ]
  },
  {
   "cell_type": "code",
   "execution_count": 67,
   "metadata": {},
   "outputs": [
    {
     "data": {
      "text/plain": [
       "44.673536463414635"
      ]
     },
     "execution_count": 67,
     "metadata": {},
     "output_type": "execute_result"
    }
   ],
   "source": [
    "# What is the mean internet users percentage in 2014\n",
    "gdp_and_internet_use_2014.Internet_Users_Pct.mean()"
   ]
  },
  {
   "cell_type": "code",
   "execution_count": 68,
   "metadata": {},
   "outputs": [
    {
     "data": {
      "text/plain": [
       "Country               12\n",
       "Year                  12\n",
       "GDP_Per_Capita        12\n",
       "Continent             12\n",
       "Internet_Users_Pct    12\n",
       "dtype: int64"
      ]
     },
     "execution_count": 68,
     "metadata": {},
     "output_type": "execute_result"
    }
   ],
   "source": [
    "# How many countries have at least 90% internet users in 2014\n",
    "gdp_and_internet_use_2014[gdp_and_internet_use_2014['Internet_Users_Pct']>90].count()"
   ]
  },
  {
   "cell_type": "markdown",
   "metadata": {},
   "source": [
    "29. Find the countries that had the top 3 largest GDP per capita figures for 2014. Create a seaborn FacetGrid showing the change in internet user percentage over time for these five countries. Each individual figure in the facet grid will represent a single country. What trends do you notice?"
   ]
  },
  {
   "cell_type": "code",
   "execution_count": 69,
   "metadata": {
    "scrolled": true
   },
   "outputs": [
    {
     "data": {
      "text/html": [
       "<div>\n",
       "<style scoped>\n",
       "    .dataframe tbody tr th:only-of-type {\n",
       "        vertical-align: middle;\n",
       "    }\n",
       "\n",
       "    .dataframe tbody tr th {\n",
       "        vertical-align: top;\n",
       "    }\n",
       "\n",
       "    .dataframe thead th {\n",
       "        text-align: right;\n",
       "    }\n",
       "</style>\n",
       "<table border=\"1\" class=\"dataframe\">\n",
       "  <thead>\n",
       "    <tr style=\"text-align: right;\">\n",
       "      <th></th>\n",
       "      <th>Country</th>\n",
       "      <th>Year</th>\n",
       "      <th>GDP_Per_Capita</th>\n",
       "      <th>Continent</th>\n",
       "      <th>Internet_Users_Pct</th>\n",
       "    </tr>\n",
       "  </thead>\n",
       "  <tbody>\n",
       "    <tr>\n",
       "      <th>2556</th>\n",
       "      <td>Qatar</td>\n",
       "      <td>2014</td>\n",
       "      <td>116693.507701</td>\n",
       "      <td>Asia</td>\n",
       "      <td>91.49</td>\n",
       "    </tr>\n",
       "    <tr>\n",
       "      <th>1812</th>\n",
       "      <td>Luxembourg</td>\n",
       "      <td>2014</td>\n",
       "      <td>92349.186429</td>\n",
       "      <td>Europe</td>\n",
       "      <td>94.67</td>\n",
       "    </tr>\n",
       "    <tr>\n",
       "      <th>2765</th>\n",
       "      <td>Singapore</td>\n",
       "      <td>2014</td>\n",
       "      <td>81965.361071</td>\n",
       "      <td>Asia</td>\n",
       "      <td>82.00</td>\n",
       "    </tr>\n",
       "  </tbody>\n",
       "</table>\n",
       "</div>"
      ],
      "text/plain": [
       "         Country  Year  GDP_Per_Capita Continent  Internet_Users_Pct\n",
       "2556       Qatar  2014   116693.507701      Asia               91.49\n",
       "1812  Luxembourg  2014    92349.186429    Europe               94.67\n",
       "2765   Singapore  2014    81965.361071      Asia               82.00"
      ]
     },
     "execution_count": 69,
     "metadata": {},
     "output_type": "execute_result"
    }
   ],
   "source": [
    "gdp_and_internet_use_2014.nlargest(3, 'GDP_Per_Capita')"
   ]
  },
  {
   "cell_type": "code",
   "execution_count": 70,
   "metadata": {},
   "outputs": [],
   "source": [
    "gdp_and_internet_use_FG = gdp_and_internet_use.loc[gdp_and_internet_use['Country'].isin(['Qatar', 'Luxembourg', 'Singapore'])]"
   ]
  },
  {
   "cell_type": "code",
   "execution_count": 71,
   "metadata": {},
   "outputs": [
    {
     "data": {
      "image/png": "[encoded data removed]",
      "text/plain": [
       "<Figure size 648x216 with 3 Axes>"
      ]
     },
     "metadata": {
      "needs_background": "light"
     },
     "output_type": "display_data"
    }
   ],
   "source": [
    "g = sns.FacetGrid(gdp_and_internet_use_FG, col=\"Country\")\n",
    "g.map(sns.scatterplot,\"Year\",\"Internet_Users_Pct\");"
   ]
  },
  {
   "cell_type": "markdown",
   "metadata": {},
   "source": [
    "They all have an exponential use in internet overtime and Qatar didn't have data before 2000."
   ]
  },
  {
   "cell_type": "markdown",
   "metadata": {},
   "source": [
    "30. Create a scatter plot of Internet Use vs GDP per Capita for the year 2014. What do you notice?"
   ]
  },
  {
   "cell_type": "code",
   "execution_count": 72,
   "metadata": {},
   "outputs": [
    {
     "data": {
      "image/png": "[encoded data removed]",
      "text/plain": [
       "<Figure size 432x288 with 1 Axes>"
      ]
     },
     "metadata": {
      "needs_background": "light"
     },
     "output_type": "display_data"
    }
   ],
   "source": [
    "sns.scatterplot(data = gdp_and_internet_use_2014, x = 'Internet_Users_Pct', y = 'GDP_Per_Capita');"
   ]
  },
  {
   "cell_type": "markdown",
   "metadata": {},
   "source": [
    "31. Find the correlation between GDP per Capita and Internet Use for the year 2014. What is the meaning of this number?"
   ]
  },
  {
   "cell_type": "code",
   "execution_count": 73,
   "metadata": {},
   "outputs": [
    {
     "data": {
      "text/plain": [
       "array([[1.        , 0.78798857],\n",
       "       [0.78798857, 1.        ]])"
      ]
     },
     "execution_count": 73,
     "metadata": {},
     "output_type": "execute_result"
    }
   ],
   "source": [
    "np.corrcoef(gdp_and_internet_use_2014.Internet_Users_Pct, gdp_and_internet_use_2014.GDP_Per_Capita)"
   ]
  },
  {
   "cell_type": "markdown",
   "metadata": {},
   "source": [
    "I used pearson correlation coefficient and it's a moderate to strong positive correlation. "
   ]
  },
  {
   "cell_type": "markdown",
   "metadata": {},
   "source": [
    "32. Add a column to gdp_and_internet_use_2014 and calculate the logarithm of GDP per capita. Find the correlation between the log of GDP per capita and internet users percentage. How does this compare to the calculation in the previous part?"
   ]
  },
  {
   "cell_type": "code",
   "execution_count": 74,
   "metadata": {},
   "outputs": [
    {
     "name": "stderr",
     "output_type": "stream",
     "text": [
      "/Users/armelleleguelte/anaconda3/lib/python3.7/site-packages/ipykernel_launcher.py:1: SettingWithCopyWarning: \n",
      "A value is trying to be set on a copy of a slice from a DataFrame.\n",
      "Try using .loc[row_indexer,col_indexer] = value instead\n",
      "\n",
      "See the caveats in the documentation: http://pandas.pydata.org/pandas-docs/stable/indexing.html#indexing-view-versus-copy\n",
      "  \"\"\"Entry point for launching an IPython kernel.\n"
     ]
    }
   ],
   "source": [
    "gdp_and_internet_use_2014['log_GDP_Per_Capita'] = np.log(gdp_and_internet_use_2014['GDP_Per_Capita'])"
   ]
  },
  {
   "cell_type": "code",
   "execution_count": 75,
   "metadata": {},
   "outputs": [
    {
     "data": {
      "text/html": [
       "<div>\n",
       "<style scoped>\n",
       "    .dataframe tbody tr th:only-of-type {\n",
       "        vertical-align: middle;\n",
       "    }\n",
       "\n",
       "    .dataframe tbody tr th {\n",
       "        vertical-align: top;\n",
       "    }\n",
       "\n",
       "    .dataframe thead th {\n",
       "        text-align: right;\n",
       "    }\n",
       "</style>\n",
       "<table border=\"1\" class=\"dataframe\">\n",
       "  <thead>\n",
       "    <tr style=\"text-align: right;\">\n",
       "      <th></th>\n",
       "      <th>Country</th>\n",
       "      <th>Year</th>\n",
       "      <th>GDP_Per_Capita</th>\n",
       "      <th>Continent</th>\n",
       "      <th>Internet_Users_Pct</th>\n",
       "      <th>log_GDP_Per_Capita</th>\n",
       "    </tr>\n",
       "  </thead>\n",
       "  <tbody>\n",
       "    <tr>\n",
       "      <th>0</th>\n",
       "      <td>Afghanistan</td>\n",
       "      <td>2014</td>\n",
       "      <td>1795.735834</td>\n",
       "      <td>Asia</td>\n",
       "      <td>6.39</td>\n",
       "      <td>7.493170</td>\n",
       "    </tr>\n",
       "    <tr>\n",
       "      <th>13</th>\n",
       "      <td>Albania</td>\n",
       "      <td>2014</td>\n",
       "      <td>10700.993216</td>\n",
       "      <td>Europe</td>\n",
       "      <td>60.10</td>\n",
       "      <td>9.278092</td>\n",
       "    </tr>\n",
       "    <tr>\n",
       "      <th>34</th>\n",
       "      <td>Algeria</td>\n",
       "      <td>2014</td>\n",
       "      <td>13557.769757</td>\n",
       "      <td>Africa</td>\n",
       "      <td>18.09</td>\n",
       "      <td>9.514715</td>\n",
       "    </tr>\n",
       "    <tr>\n",
       "      <th>56</th>\n",
       "      <td>Angola</td>\n",
       "      <td>2014</td>\n",
       "      <td>6813.052106</td>\n",
       "      <td>Africa</td>\n",
       "      <td>21.26</td>\n",
       "      <td>8.826595</td>\n",
       "    </tr>\n",
       "    <tr>\n",
       "      <th>76</th>\n",
       "      <td>Antigua and Barbuda</td>\n",
       "      <td>2014</td>\n",
       "      <td>20440.540555</td>\n",
       "      <td>North America</td>\n",
       "      <td>64.00</td>\n",
       "      <td>9.925275</td>\n",
       "    </tr>\n",
       "  </tbody>\n",
       "</table>\n",
       "</div>"
      ],
      "text/plain": [
       "                Country  Year  GDP_Per_Capita      Continent  \\\n",
       "0           Afghanistan  2014     1795.735834           Asia   \n",
       "13              Albania  2014    10700.993216         Europe   \n",
       "34              Algeria  2014    13557.769757         Africa   \n",
       "56               Angola  2014     6813.052106         Africa   \n",
       "76  Antigua and Barbuda  2014    20440.540555  North America   \n",
       "\n",
       "    Internet_Users_Pct  log_GDP_Per_Capita  \n",
       "0                 6.39            7.493170  \n",
       "13               60.10            9.278092  \n",
       "34               18.09            9.514715  \n",
       "56               21.26            8.826595  \n",
       "76               64.00            9.925275  "
      ]
     },
     "execution_count": 75,
     "metadata": {},
     "output_type": "execute_result"
    }
   ],
   "source": [
    "gdp_and_internet_use_2014.head()"
   ]
  },
  {
   "cell_type": "markdown",
   "metadata": {},
   "source": [
    "33. Filter the original dataset down to just the United States for all available years. Calculate correlation between internet use and gdp per capita. Is this meaningful or useful?"
   ]
  },
  {
   "cell_type": "code",
   "execution_count": 76,
   "metadata": {},
   "outputs": [],
   "source": [
    "gdp_and_internet_use_usa = gdp_and_internet_use[gdp_and_internet_use['Country'] == 'United States']"
   ]
  },
  {
   "cell_type": "code",
   "execution_count": 77,
   "metadata": {},
   "outputs": [
    {
     "data": {
      "image/png": "[encoded data removed]",
      "text/plain": [
       "<Figure size 432x288 with 1 Axes>"
      ]
     },
     "metadata": {
      "needs_background": "light"
     },
     "output_type": "display_data"
    }
   ],
   "source": [
    "sns.scatterplot(data = gdp_and_internet_use_usa, x = 'Internet_Users_Pct', y = 'GDP_Per_Capita');"
   ]
  },
  {
   "cell_type": "code",
   "execution_count": 78,
   "metadata": {},
   "outputs": [
    {
     "data": {
      "text/plain": [
       "array([[1.        , 0.99161802],\n",
       "       [0.99161802, 1.        ]])"
      ]
     },
     "execution_count": 78,
     "metadata": {},
     "output_type": "execute_result"
    }
   ],
   "source": [
    "np.corrcoef(gdp_and_internet_use_usa.Internet_Users_Pct, gdp_and_internet_use_usa.GDP_Per_Capita)"
   ]
  },
  {
   "cell_type": "markdown",
   "metadata": {},
   "source": [
    "Very strong correlation but I don't think it's helpful, I can't think about a link between the 2 variables."
   ]
  },
  {
   "cell_type": "markdown",
   "metadata": {},
   "source": [
    "# Solo Exploration and Presentation:"
   ]
  },
  {
   "cell_type": "markdown",
   "metadata": {},
   "source": [
    "## Question: do richer countries have a better way to manage hazardous waste\n",
    "To try to answer it, I used GDP per Capita, Countinent and csv files (total waste generated, waste goes to landfills, waste is recycled and waste is incinerated.\n",
    "    "
   ]
  },
  {
   "cell_type": "markdown",
   "metadata": {},
   "source": [
    "### 1/ loading the files from UN data section environment --> waste --> hazardous waste"
   ]
  },
  {
   "cell_type": "code",
   "execution_count": 79,
   "metadata": {
    "scrolled": true
   },
   "outputs": [],
   "source": [
    "haz_waste_generated_df = pd.read_csv('../data/hazardous_waste_generated.csv', skiprows=list(range(755,798)))"
   ]
  },
  {
   "cell_type": "code",
   "execution_count": 80,
   "metadata": {},
   "outputs": [],
   "source": [
    "haz_waste_generated_df = haz_waste_generated_df.drop(['Value Footnotes','Unit'], axis=1)"
   ]
  },
  {
   "cell_type": "code",
   "execution_count": 81,
   "metadata": {},
   "outputs": [
    {
     "data": {
      "text/html": [
       "<div>\n",
       "<style scoped>\n",
       "    .dataframe tbody tr th:only-of-type {\n",
       "        vertical-align: middle;\n",
       "    }\n",
       "\n",
       "    .dataframe tbody tr th {\n",
       "        vertical-align: top;\n",
       "    }\n",
       "\n",
       "    .dataframe thead th {\n",
       "        text-align: right;\n",
       "    }\n",
       "</style>\n",
       "<table border=\"1\" class=\"dataframe\">\n",
       "  <thead>\n",
       "    <tr style=\"text-align: right;\">\n",
       "      <th></th>\n",
       "      <th>Country</th>\n",
       "      <th>Year</th>\n",
       "      <th>Waste_generated_in_Unit</th>\n",
       "    </tr>\n",
       "  </thead>\n",
       "  <tbody>\n",
       "    <tr>\n",
       "      <th>0</th>\n",
       "      <td>Algeria</td>\n",
       "      <td>2007</td>\n",
       "      <td>325100.0</td>\n",
       "    </tr>\n",
       "    <tr>\n",
       "      <th>1</th>\n",
       "      <td>Algeria</td>\n",
       "      <td>2003</td>\n",
       "      <td>325000.0</td>\n",
       "    </tr>\n",
       "    <tr>\n",
       "      <th>2</th>\n",
       "      <td>Algeria</td>\n",
       "      <td>1997</td>\n",
       "      <td>185000.0</td>\n",
       "    </tr>\n",
       "    <tr>\n",
       "      <th>3</th>\n",
       "      <td>Algeria</td>\n",
       "      <td>1995</td>\n",
       "      <td>185000.0</td>\n",
       "    </tr>\n",
       "    <tr>\n",
       "      <th>4</th>\n",
       "      <td>Andorra</td>\n",
       "      <td>2015</td>\n",
       "      <td>1788.0</td>\n",
       "    </tr>\n",
       "  </tbody>\n",
       "</table>\n",
       "</div>"
      ],
      "text/plain": [
       "   Country  Year  Waste_generated_in_Unit\n",
       "0  Algeria  2007                 325100.0\n",
       "1  Algeria  2003                 325000.0\n",
       "2  Algeria  1997                 185000.0\n",
       "3  Algeria  1995                 185000.0\n",
       "4  Andorra  2015                   1788.0"
      ]
     },
     "execution_count": 81,
     "metadata": {},
     "output_type": "execute_result"
    }
   ],
   "source": [
    "haz_waste_generated_df.rename(columns = {'Country or Area':'Country', 'Year':'Year', 'Value':'Waste_generated_in_Unit'}, inplace = True)\n",
    "haz_waste_generated_df.head(3)"
   ]
  },
  {
   "cell_type": "code",
   "execution_count": 90,
   "metadata": {},
   "outputs": [],
   "source": [
    "#tot_waste_collect_df = pd.read_csv('../data/tot_amount_waste_collect.csv', skiprows=list(range(629,655)))"
   ]
  },
  {
   "cell_type": "code",
   "execution_count": 91,
   "metadata": {},
   "outputs": [],
   "source": [
    "#tot_waste_collect_df = tot_waste_collect_df.drop(['Value Footnotes', 'Unit'], axis=1)"
   ]
  },
  {
   "cell_type": "code",
   "execution_count": 92,
   "metadata": {},
   "outputs": [],
   "source": [
    "#tot_waste_collect_df.rename(columns = {'Country or Area':'Country', 'Year':'Year', 'Value':'Waste_collect_in_Unit'}, inplace = True)\n"
   ]
  },
  {
   "cell_type": "code",
   "execution_count": 93,
   "metadata": {},
   "outputs": [],
   "source": [
    "#merge with haz_waste_generated_df\n",
    "#gdp_waste_generate_collect = gdp_and_waste_generated_df.merge(tot_waste_collect_df, on= ('Country', 'Year'))"
   ]
  },
  {
   "cell_type": "code",
   "execution_count": 94,
   "metadata": {},
   "outputs": [],
   "source": [
    "waste_recycled_df = pd.read_csv('../data/haz_waste_recycled.csv', skiprows=list(range(459,482)))"
   ]
  },
  {
   "cell_type": "code",
   "execution_count": 95,
   "metadata": {},
   "outputs": [],
   "source": [
    "waste_recycled_df = waste_recycled_df.drop(['Value Footnotes', 'Unit'], axis=1)"
   ]
  },
  {
   "cell_type": "code",
   "execution_count": 96,
   "metadata": {},
   "outputs": [],
   "source": [
    "waste_recycled_df.rename(columns = {'Country or Area':'Country', 'Year':'Year', 'Value':'Waste_recycled_in_Unit'}, inplace = True)\n"
   ]
  },
  {
   "cell_type": "code",
   "execution_count": 97,
   "metadata": {
    "scrolled": true
   },
   "outputs": [
    {
     "name": "stdout",
     "output_type": "stream",
     "text": [
      "<class 'pandas.core.frame.DataFrame'>\n",
      "RangeIndex: 457 entries, 0 to 456\n",
      "Data columns (total 3 columns):\n",
      "Country                   457 non-null object\n",
      "Year                      457 non-null int64\n",
      "Waste_recycled_in_Unit    457 non-null float64\n",
      "dtypes: float64(1), int64(1), object(1)\n",
      "memory usage: 10.8+ KB\n"
     ]
    }
   ],
   "source": [
    "waste_recycled_df.info()"
   ]
  },
  {
   "cell_type": "code",
   "execution_count": 100,
   "metadata": {},
   "outputs": [],
   "source": [
    "waste_incinerated_df = pd.read_csv('../data/haz_waste_incinerated.csv', skiprows=list(range(526,555)))"
   ]
  },
  {
   "cell_type": "code",
   "execution_count": 101,
   "metadata": {},
   "outputs": [],
   "source": [
    "waste_incinerated_df = waste_incinerated_df.drop(['Value Footnotes', 'Unit'], axis=1)"
   ]
  },
  {
   "cell_type": "code",
   "execution_count": 102,
   "metadata": {},
   "outputs": [],
   "source": [
    "waste_incinerated_df.rename(columns = {'Country or Area':'Country', 'Year':'Year', 'Value':'Waste_incinerated_in_Unit'}, inplace = True)"
   ]
  },
  {
   "cell_type": "code",
   "execution_count": 103,
   "metadata": {},
   "outputs": [
    {
     "name": "stdout",
     "output_type": "stream",
     "text": [
      "<class 'pandas.core.frame.DataFrame'>\n",
      "RangeIndex: 524 entries, 0 to 523\n",
      "Data columns (total 3 columns):\n",
      "Country                      524 non-null object\n",
      "Year                         524 non-null int64\n",
      "Waste_incinerated_in_Unit    524 non-null float64\n",
      "dtypes: float64(1), int64(1), object(1)\n",
      "memory usage: 12.4+ KB\n"
     ]
    }
   ],
   "source": [
    "waste_incinerated_df.info()"
   ]
  },
  {
   "cell_type": "code",
   "execution_count": 106,
   "metadata": {},
   "outputs": [],
   "source": [
    "waste_landfilled_df = pd.read_csv('../data/haz_waste_landfilled.csv', skiprows=list(range(572,601)))"
   ]
  },
  {
   "cell_type": "code",
   "execution_count": 107,
   "metadata": {},
   "outputs": [],
   "source": [
    "waste_landfilled_df = waste_landfilled_df.drop(['Value Footnotes', 'Unit'], axis=1)"
   ]
  },
  {
   "cell_type": "code",
   "execution_count": 108,
   "metadata": {},
   "outputs": [],
   "source": [
    "waste_landfilled_df.rename(columns = {'Country or Area':'Country', 'Year':'Year', 'Value':'Waste_landfilled_in_Unit'}, inplace = True)"
   ]
  },
  {
   "cell_type": "code",
   "execution_count": 109,
   "metadata": {
    "scrolled": false
   },
   "outputs": [
    {
     "name": "stdout",
     "output_type": "stream",
     "text": [
      "<class 'pandas.core.frame.DataFrame'>\n",
      "RangeIndex: 570 entries, 0 to 569\n",
      "Data columns (total 3 columns):\n",
      "Country                     570 non-null object\n",
      "Year                        570 non-null int64\n",
      "Waste_landfilled_in_Unit    570 non-null float64\n",
      "dtypes: float64(1), int64(1), object(1)\n",
      "memory usage: 13.4+ KB\n"
     ]
    }
   ],
   "source": [
    "waste_landfilled_df.info()"
   ]
  },
  {
   "cell_type": "markdown",
   "metadata": {},
   "source": [
    "### 2/ Merge the data together"
   ]
  },
  {
   "cell_type": "code",
   "execution_count": null,
   "metadata": {},
   "outputs": [],
   "source": [
    "#merge with continent\n",
    "continent_waste_generated_df = haz_waste_generated_df.merge(continents, on= 'Country', how= 'left')"
   ]
  },
  {
   "cell_type": "code",
   "execution_count": null,
   "metadata": {},
   "outputs": [],
   "source": [
    "#merge with gdp_df\n",
    "gdp_and_waste_generated_df = continent_waste_generated_df.merge(gdp_df, on= ('Continent','Country', 'Year'), how= 'outer')"
   ]
  },
  {
   "cell_type": "code",
   "execution_count": null,
   "metadata": {},
   "outputs": [],
   "source": [
    "#merge with gdp_waste_generate_collect\n",
    "gdp_waste_generated_recycled = gdp_and_waste_generated_df.merge(waste_recycled_df, on= ('Country', 'Year'))"
   ]
  },
  {
   "cell_type": "code",
   "execution_count": null,
   "metadata": {},
   "outputs": [],
   "source": [
    "#merge with gdp_waste_generate_collect_recycled\n",
    "gdp_waste_generate_recycled_incinerated = gdp_waste_generated_recycled.merge(waste_incinerated_df, on= ('Country', 'Year'))"
   ]
  },
  {
   "cell_type": "code",
   "execution_count": 110,
   "metadata": {},
   "outputs": [],
   "source": [
    "#merge with gdp_waste_generate_collect_recycled_incinerated\n",
    "gdp_waste_generate_recycled_incinerated_landfilled = gdp_waste_generate_recycled_incinerated.merge(waste_landfilled_df, on= ('Country', 'Year'))"
   ]
  },
  {
   "cell_type": "markdown",
   "metadata": {},
   "source": [
    "### 3/ Look at the data"
   ]
  },
  {
   "cell_type": "code",
   "execution_count": 111,
   "metadata": {
    "scrolled": true
   },
   "outputs": [
    {
     "data": {
      "text/html": [
       "<div>\n",
       "<style scoped>\n",
       "    .dataframe tbody tr th:only-of-type {\n",
       "        vertical-align: middle;\n",
       "    }\n",
       "\n",
       "    .dataframe tbody tr th {\n",
       "        vertical-align: top;\n",
       "    }\n",
       "\n",
       "    .dataframe thead th {\n",
       "        text-align: right;\n",
       "    }\n",
       "</style>\n",
       "<table border=\"1\" class=\"dataframe\">\n",
       "  <thead>\n",
       "    <tr style=\"text-align: right;\">\n",
       "      <th></th>\n",
       "      <th>Country</th>\n",
       "      <th>Year</th>\n",
       "      <th>Waste_generated_in_Unit</th>\n",
       "      <th>Continent</th>\n",
       "      <th>GDP_Per_Capita</th>\n",
       "      <th>Waste_recycled_in_Unit</th>\n",
       "      <th>Waste_incinerated_in_Unit</th>\n",
       "      <th>Waste_landfilled_in_Unit</th>\n",
       "    </tr>\n",
       "  </thead>\n",
       "  <tbody>\n",
       "    <tr>\n",
       "      <th>0</th>\n",
       "      <td>Andorra</td>\n",
       "      <td>2015</td>\n",
       "      <td>1788.000</td>\n",
       "      <td>Europe</td>\n",
       "      <td>NaN</td>\n",
       "      <td>0.0</td>\n",
       "      <td>0.0</td>\n",
       "      <td>0.000</td>\n",
       "    </tr>\n",
       "    <tr>\n",
       "      <th>1</th>\n",
       "      <td>Andorra</td>\n",
       "      <td>2014</td>\n",
       "      <td>2081.000</td>\n",
       "      <td>Europe</td>\n",
       "      <td>NaN</td>\n",
       "      <td>0.0</td>\n",
       "      <td>0.0</td>\n",
       "      <td>0.000</td>\n",
       "    </tr>\n",
       "    <tr>\n",
       "      <th>2</th>\n",
       "      <td>Andorra</td>\n",
       "      <td>2013</td>\n",
       "      <td>976.000</td>\n",
       "      <td>Europe</td>\n",
       "      <td>NaN</td>\n",
       "      <td>0.0</td>\n",
       "      <td>0.0</td>\n",
       "      <td>0.000</td>\n",
       "    </tr>\n",
       "    <tr>\n",
       "      <th>3</th>\n",
       "      <td>Armenia</td>\n",
       "      <td>2015</td>\n",
       "      <td>555075.000</td>\n",
       "      <td>Europe</td>\n",
       "      <td>8171.832354</td>\n",
       "      <td>290.0</td>\n",
       "      <td>3767.0</td>\n",
       "      <td>551018.000</td>\n",
       "    </tr>\n",
       "    <tr>\n",
       "      <th>4</th>\n",
       "      <td>Armenia</td>\n",
       "      <td>2014</td>\n",
       "      <td>576419.375</td>\n",
       "      <td>Europe</td>\n",
       "      <td>7954.195331</td>\n",
       "      <td>2290.0</td>\n",
       "      <td>2379.0</td>\n",
       "      <td>571750.375</td>\n",
       "    </tr>\n",
       "  </tbody>\n",
       "</table>\n",
       "</div>"
      ],
      "text/plain": [
       "   Country  Year  Waste_generated_in_Unit Continent  GDP_Per_Capita  \\\n",
       "0  Andorra  2015                 1788.000    Europe             NaN   \n",
       "1  Andorra  2014                 2081.000    Europe             NaN   \n",
       "2  Andorra  2013                  976.000    Europe             NaN   \n",
       "3  Armenia  2015               555075.000    Europe     8171.832354   \n",
       "4  Armenia  2014               576419.375    Europe     7954.195331   \n",
       "\n",
       "   Waste_recycled_in_Unit  Waste_incinerated_in_Unit  Waste_landfilled_in_Unit  \n",
       "0                     0.0                        0.0                     0.000  \n",
       "1                     0.0                        0.0                     0.000  \n",
       "2                     0.0                        0.0                     0.000  \n",
       "3                   290.0                     3767.0                551018.000  \n",
       "4                  2290.0                     2379.0                571750.375  "
      ]
     },
     "execution_count": 111,
     "metadata": {},
     "output_type": "execute_result"
    }
   ],
   "source": [
    "gdp_waste_generate_recycled_incinerated_landfilled.head()"
   ]
  },
  {
   "cell_type": "code",
   "execution_count": 187,
   "metadata": {},
   "outputs": [
    {
     "name": "stdout",
     "output_type": "stream",
     "text": [
      "<class 'pandas.core.frame.DataFrame'>\n",
      "Int64Index: 354 entries, 0 to 353\n",
      "Data columns (total 8 columns):\n",
      "Country                      354 non-null object\n",
      "Year                         354 non-null int64\n",
      "Waste_generated_in_Unit      321 non-null float64\n",
      "Continent                    309 non-null object\n",
      "GDP_Per_Capita               264 non-null float64\n",
      "Waste_recycled_in_Unit       354 non-null float64\n",
      "Waste_incinerated_in_Unit    354 non-null float64\n",
      "Waste_landfilled_in_Unit     354 non-null float64\n",
      "dtypes: float64(5), int64(1), object(2)\n",
      "memory usage: 24.9+ KB\n"
     ]
    }
   ],
   "source": [
    "gdp_waste_generate_recycled_incinerated_landfilled.info()"
   ]
  },
  {
   "cell_type": "code",
   "execution_count": 189,
   "metadata": {
    "scrolled": true
   },
   "outputs": [
    {
     "data": {
      "text/plain": [
       "2010    51\n",
       "2012    49\n",
       "2014    49\n",
       "2013    21\n",
       "2015    19\n",
       "2011    17\n",
       "2008    17\n",
       "2009    16\n",
       "2007    16\n",
       "2005    15\n",
       "2004    15\n",
       "2006    13\n",
       "2003    10\n",
       "2002     9\n",
       "2000     9\n",
       "2001     7\n",
       "1996     5\n",
       "1999     4\n",
       "1998     4\n",
       "1995     4\n",
       "1997     3\n",
       "1990     1\n",
       "Name: Year, dtype: int64"
      ]
     },
     "execution_count": 189,
     "metadata": {},
     "output_type": "execute_result"
    }
   ],
   "source": [
    "gdp_waste_generate_recycled_incinerated_landfilled['Year'].value_counts()"
   ]
  },
  {
   "cell_type": "markdown",
   "metadata": {},
   "source": [
    "### 4/ Make a new df for the year 2010 only"
   ]
  },
  {
   "cell_type": "code",
   "execution_count": 113,
   "metadata": {},
   "outputs": [],
   "source": [
    "gdp_waste_2010 = gdp_waste_generate_recycled_incinerated_landfilled.loc[gdp_waste_generate_recycled_incinerated_landfilled['Year'] == 2010]"
   ]
  },
  {
   "cell_type": "code",
   "execution_count": 114,
   "metadata": {},
   "outputs": [
    {
     "data": {
      "text/html": [
       "<div>\n",
       "<style scoped>\n",
       "    .dataframe tbody tr th:only-of-type {\n",
       "        vertical-align: middle;\n",
       "    }\n",
       "\n",
       "    .dataframe tbody tr th {\n",
       "        vertical-align: top;\n",
       "    }\n",
       "\n",
       "    .dataframe thead th {\n",
       "        text-align: right;\n",
       "    }\n",
       "</style>\n",
       "<table border=\"1\" class=\"dataframe\">\n",
       "  <thead>\n",
       "    <tr style=\"text-align: right;\">\n",
       "      <th></th>\n",
       "      <th>Country</th>\n",
       "      <th>Year</th>\n",
       "      <th>Waste_generated_in_Unit</th>\n",
       "      <th>Continent</th>\n",
       "      <th>GDP_Per_Capita</th>\n",
       "      <th>Waste_recycled_in_Unit</th>\n",
       "      <th>Waste_incinerated_in_Unit</th>\n",
       "      <th>Waste_landfilled_in_Unit</th>\n",
       "    </tr>\n",
       "  </thead>\n",
       "  <tbody>\n",
       "    <tr>\n",
       "      <th>8</th>\n",
       "      <td>Armenia</td>\n",
       "      <td>2010</td>\n",
       "      <td>4.353978e+05</td>\n",
       "      <td>Europe</td>\n",
       "      <td>6702.829370</td>\n",
       "      <td>2.286000e+03</td>\n",
       "      <td>300.000000</td>\n",
       "      <td>432811.781250</td>\n",
       "    </tr>\n",
       "    <tr>\n",
       "      <th>23</th>\n",
       "      <td>Austria</td>\n",
       "      <td>2010</td>\n",
       "      <td>1.472864e+06</td>\n",
       "      <td>Europe</td>\n",
       "      <td>43336.198001</td>\n",
       "      <td>1.969560e+05</td>\n",
       "      <td>156167.000000</td>\n",
       "      <td>47959.000000</td>\n",
       "    </tr>\n",
       "    <tr>\n",
       "      <th>29</th>\n",
       "      <td>Azerbaijan</td>\n",
       "      <td>2010</td>\n",
       "      <td>1.399710e+05</td>\n",
       "      <td>Europe</td>\n",
       "      <td>16215.847200</td>\n",
       "      <td>5.548200e+03</td>\n",
       "      <td>58429.101562</td>\n",
       "      <td>87314.601562</td>\n",
       "    </tr>\n",
       "    <tr>\n",
       "      <th>45</th>\n",
       "      <td>Belarus</td>\n",
       "      <td>2010</td>\n",
       "      <td>9.182000e+05</td>\n",
       "      <td>Europe</td>\n",
       "      <td>16260.592680</td>\n",
       "      <td>7.749000e+05</td>\n",
       "      <td>46000.000000</td>\n",
       "      <td>136600.000000</td>\n",
       "    </tr>\n",
       "    <tr>\n",
       "      <th>57</th>\n",
       "      <td>Belgium</td>\n",
       "      <td>2010</td>\n",
       "      <td>4.767299e+06</td>\n",
       "      <td>Europe</td>\n",
       "      <td>40787.373216</td>\n",
       "      <td>1.261040e+07</td>\n",
       "      <td>372737.000000</td>\n",
       "      <td>981568.000000</td>\n",
       "    </tr>\n",
       "  </tbody>\n",
       "</table>\n",
       "</div>"
      ],
      "text/plain": [
       "       Country  Year  Waste_generated_in_Unit Continent  GDP_Per_Capita  \\\n",
       "8      Armenia  2010             4.353978e+05    Europe     6702.829370   \n",
       "23     Austria  2010             1.472864e+06    Europe    43336.198001   \n",
       "29  Azerbaijan  2010             1.399710e+05    Europe    16215.847200   \n",
       "45     Belarus  2010             9.182000e+05    Europe    16260.592680   \n",
       "57     Belgium  2010             4.767299e+06    Europe    40787.373216   \n",
       "\n",
       "    Waste_recycled_in_Unit  Waste_incinerated_in_Unit  \\\n",
       "8             2.286000e+03                 300.000000   \n",
       "23            1.969560e+05              156167.000000   \n",
       "29            5.548200e+03               58429.101562   \n",
       "45            7.749000e+05               46000.000000   \n",
       "57            1.261040e+07              372737.000000   \n",
       "\n",
       "    Waste_landfilled_in_Unit  \n",
       "8              432811.781250  \n",
       "23              47959.000000  \n",
       "29              87314.601562  \n",
       "45             136600.000000  \n",
       "57             981568.000000  "
      ]
     },
     "execution_count": 114,
     "metadata": {},
     "output_type": "execute_result"
    }
   ],
   "source": [
    "gdp_waste_2010.head()"
   ]
  },
  {
   "cell_type": "code",
   "execution_count": 115,
   "metadata": {},
   "outputs": [
    {
     "data": {
      "text/plain": [
       "(51, 8)"
      ]
     },
     "execution_count": 115,
     "metadata": {},
     "output_type": "execute_result"
    }
   ],
   "source": [
    "gdp_waste_2010.shape"
   ]
  },
  {
   "cell_type": "code",
   "execution_count": 116,
   "metadata": {},
   "outputs": [
    {
     "data": {
      "text/html": [
       "<div>\n",
       "<style scoped>\n",
       "    .dataframe tbody tr th:only-of-type {\n",
       "        vertical-align: middle;\n",
       "    }\n",
       "\n",
       "    .dataframe tbody tr th {\n",
       "        vertical-align: top;\n",
       "    }\n",
       "\n",
       "    .dataframe thead th {\n",
       "        text-align: right;\n",
       "    }\n",
       "</style>\n",
       "<table border=\"1\" class=\"dataframe\">\n",
       "  <thead>\n",
       "    <tr style=\"text-align: right;\">\n",
       "      <th></th>\n",
       "      <th>Year</th>\n",
       "      <th>Waste_generated_in_Unit</th>\n",
       "      <th>GDP_Per_Capita</th>\n",
       "      <th>Waste_recycled_in_Unit</th>\n",
       "      <th>Waste_incinerated_in_Unit</th>\n",
       "      <th>Waste_landfilled_in_Unit</th>\n",
       "    </tr>\n",
       "  </thead>\n",
       "  <tbody>\n",
       "    <tr>\n",
       "      <th>count</th>\n",
       "      <td>51.0</td>\n",
       "      <td>4.900000e+01</td>\n",
       "      <td>42.000000</td>\n",
       "      <td>5.100000e+01</td>\n",
       "      <td>5.100000e+01</td>\n",
       "      <td>5.100000e+01</td>\n",
       "    </tr>\n",
       "    <tr>\n",
       "      <th>mean</th>\n",
       "      <td>2010.0</td>\n",
       "      <td>8.649514e+06</td>\n",
       "      <td>29235.553379</td>\n",
       "      <td>1.155362e+06</td>\n",
       "      <td>2.141496e+05</td>\n",
       "      <td>1.110512e+06</td>\n",
       "    </tr>\n",
       "    <tr>\n",
       "      <th>std</th>\n",
       "      <td>0.0</td>\n",
       "      <td>4.314658e+07</td>\n",
       "      <td>17703.298736</td>\n",
       "      <td>3.443151e+06</td>\n",
       "      <td>6.162768e+05</td>\n",
       "      <td>2.702854e+06</td>\n",
       "    </tr>\n",
       "    <tr>\n",
       "      <th>min</th>\n",
       "      <td>2010.0</td>\n",
       "      <td>1.460000e+02</td>\n",
       "      <td>1928.017081</td>\n",
       "      <td>0.000000e+00</td>\n",
       "      <td>0.000000e+00</td>\n",
       "      <td>0.000000e+00</td>\n",
       "    </tr>\n",
       "    <tr>\n",
       "      <th>25%</th>\n",
       "      <td>2010.0</td>\n",
       "      <td>7.255300e+04</td>\n",
       "      <td>16562.738372</td>\n",
       "      <td>4.695100e+03</td>\n",
       "      <td>1.380000e+03</td>\n",
       "      <td>8.471500e+03</td>\n",
       "    </tr>\n",
       "    <tr>\n",
       "      <th>50%</th>\n",
       "      <td>2010.0</td>\n",
       "      <td>6.665290e+05</td>\n",
       "      <td>25093.035135</td>\n",
       "      <td>8.850000e+04</td>\n",
       "      <td>2.130000e+04</td>\n",
       "      <td>8.231600e+04</td>\n",
       "    </tr>\n",
       "    <tr>\n",
       "      <th>75%</th>\n",
       "      <td>2010.0</td>\n",
       "      <td>2.991152e+06</td>\n",
       "      <td>40171.695681</td>\n",
       "      <td>4.827140e+05</td>\n",
       "      <td>1.537350e+05</td>\n",
       "      <td>7.315218e+05</td>\n",
       "    </tr>\n",
       "    <tr>\n",
       "      <th>max</th>\n",
       "      <td>2010.0</td>\n",
       "      <td>3.031166e+08</td>\n",
       "      <td>91743.293852</td>\n",
       "      <td>1.958687e+07</td>\n",
       "      <td>3.721246e+06</td>\n",
       "      <td>1.350120e+07</td>\n",
       "    </tr>\n",
       "  </tbody>\n",
       "</table>\n",
       "</div>"
      ],
      "text/plain": [
       "         Year  Waste_generated_in_Unit  GDP_Per_Capita  \\\n",
       "count    51.0             4.900000e+01       42.000000   \n",
       "mean   2010.0             8.649514e+06    29235.553379   \n",
       "std       0.0             4.314658e+07    17703.298736   \n",
       "min    2010.0             1.460000e+02     1928.017081   \n",
       "25%    2010.0             7.255300e+04    16562.738372   \n",
       "50%    2010.0             6.665290e+05    25093.035135   \n",
       "75%    2010.0             2.991152e+06    40171.695681   \n",
       "max    2010.0             3.031166e+08    91743.293852   \n",
       "\n",
       "       Waste_recycled_in_Unit  Waste_incinerated_in_Unit  \\\n",
       "count            5.100000e+01               5.100000e+01   \n",
       "mean             1.155362e+06               2.141496e+05   \n",
       "std              3.443151e+06               6.162768e+05   \n",
       "min              0.000000e+00               0.000000e+00   \n",
       "25%              4.695100e+03               1.380000e+03   \n",
       "50%              8.850000e+04               2.130000e+04   \n",
       "75%              4.827140e+05               1.537350e+05   \n",
       "max              1.958687e+07               3.721246e+06   \n",
       "\n",
       "       Waste_landfilled_in_Unit  \n",
       "count              5.100000e+01  \n",
       "mean               1.110512e+06  \n",
       "std                2.702854e+06  \n",
       "min                0.000000e+00  \n",
       "25%                8.471500e+03  \n",
       "50%                8.231600e+04  \n",
       "75%                7.315218e+05  \n",
       "max                1.350120e+07  "
      ]
     },
     "execution_count": 116,
     "metadata": {},
     "output_type": "execute_result"
    }
   ],
   "source": [
    "gdp_waste_2010.describe()"
   ]
  },
  {
   "cell_type": "code",
   "execution_count": 117,
   "metadata": {},
   "outputs": [
    {
     "data": {
      "text/plain": [
       "array(['Armenia', 'Austria', 'Azerbaijan', 'Belarus', 'Belgium',\n",
       "       'Bermuda', 'Bulgaria',\n",
       "       'China, Hong Kong Special Administrative Region', 'Croatia',\n",
       "       'Cuba', 'Czechia', 'Denmark', 'Estonia', 'Finland', 'France',\n",
       "       'Germany', 'Greece', 'Guatemala', 'Hungary', 'Iceland', 'Iraq',\n",
       "       'Ireland', 'Italy', 'Jordan', 'Kazakhstan', 'Latvia', 'Lithuania',\n",
       "       'Luxembourg', 'Malaysia', 'Malta', 'Martinique', 'Mauritius',\n",
       "       'Netherlands', 'Norway', 'Poland', 'Portugal', 'Romania',\n",
       "       'Saint Lucia', 'Serbia', 'Slovakia', 'Slovenia', 'Spain',\n",
       "       'State of Palestine', 'Sweden',\n",
       "       'The former Yugoslav Republic of Macedonia', 'Turkey',\n",
       "       'United Arab Emirates',\n",
       "       'United Kingdom of Great Britain and Northern Ireland', 'Zimbabwe',\n",
       "       'Cyprus', 'Ukraine'], dtype=object)"
      ]
     },
     "execution_count": 117,
     "metadata": {},
     "output_type": "execute_result"
    }
   ],
   "source": [
    "gdp_waste_2010['Country'].unique()"
   ]
  },
  {
   "cell_type": "code",
   "execution_count": 118,
   "metadata": {},
   "outputs": [
    {
     "data": {
      "image/png": "[encoded data removed]",
      "text/plain": [
       "<Figure size 432x288 with 1 Axes>"
      ]
     },
     "metadata": {
      "needs_background": "light"
     },
     "output_type": "display_data"
    }
   ],
   "source": [
    "gdp_waste_2010.GDP_Per_Capita.hist(bins=25);"
   ]
  },
  {
   "cell_type": "code",
   "execution_count": 119,
   "metadata": {},
   "outputs": [
    {
     "data": {
      "text/html": [
       "<div>\n",
       "<style scoped>\n",
       "    .dataframe tbody tr th:only-of-type {\n",
       "        vertical-align: middle;\n",
       "    }\n",
       "\n",
       "    .dataframe tbody tr th {\n",
       "        vertical-align: top;\n",
       "    }\n",
       "\n",
       "    .dataframe thead th {\n",
       "        text-align: right;\n",
       "    }\n",
       "</style>\n",
       "<table border=\"1\" class=\"dataframe\">\n",
       "  <thead>\n",
       "    <tr style=\"text-align: right;\">\n",
       "      <th></th>\n",
       "      <th>Country</th>\n",
       "      <th>Year</th>\n",
       "      <th>Waste_generated_in_Unit</th>\n",
       "      <th>Continent</th>\n",
       "      <th>GDP_Per_Capita</th>\n",
       "      <th>Waste_recycled_in_Unit</th>\n",
       "      <th>Waste_incinerated_in_Unit</th>\n",
       "      <th>Waste_landfilled_in_Unit</th>\n",
       "    </tr>\n",
       "  </thead>\n",
       "  <tbody>\n",
       "    <tr>\n",
       "      <th>175</th>\n",
       "      <td>Luxembourg</td>\n",
       "      <td>2010</td>\n",
       "      <td>380072.0</td>\n",
       "      <td>Europe</td>\n",
       "      <td>91743.293852</td>\n",
       "      <td>2941.0</td>\n",
       "      <td>331.0</td>\n",
       "      <td>0.000000</td>\n",
       "    </tr>\n",
       "    <tr>\n",
       "      <th>232</th>\n",
       "      <td>Norway</td>\n",
       "      <td>2010</td>\n",
       "      <td>1763033.0</td>\n",
       "      <td>Europe</td>\n",
       "      <td>62276.018906</td>\n",
       "      <td>574162.0</td>\n",
       "      <td>357759.0</td>\n",
       "      <td>627234.000000</td>\n",
       "    </tr>\n",
       "    <tr>\n",
       "      <th>63</th>\n",
       "      <td>Bermuda</td>\n",
       "      <td>2010</td>\n",
       "      <td>582.0</td>\n",
       "      <td>North America</td>\n",
       "      <td>56395.007800</td>\n",
       "      <td>365.0</td>\n",
       "      <td>5.0</td>\n",
       "      <td>215.000000</td>\n",
       "    </tr>\n",
       "    <tr>\n",
       "      <th>300</th>\n",
       "      <td>United Arab Emirates</td>\n",
       "      <td>2010</td>\n",
       "      <td>324553.0</td>\n",
       "      <td>Asia</td>\n",
       "      <td>55362.989819</td>\n",
       "      <td>0.0</td>\n",
       "      <td>2612.0</td>\n",
       "      <td>144835.421875</td>\n",
       "    </tr>\n",
       "    <tr>\n",
       "      <th>227</th>\n",
       "      <td>Netherlands</td>\n",
       "      <td>2010</td>\n",
       "      <td>4485047.0</td>\n",
       "      <td>Europe</td>\n",
       "      <td>46101.754499</td>\n",
       "      <td>2289126.0</td>\n",
       "      <td>699827.0</td>\n",
       "      <td>809561.000000</td>\n",
       "    </tr>\n",
       "  </tbody>\n",
       "</table>\n",
       "</div>"
      ],
      "text/plain": [
       "                  Country  Year  Waste_generated_in_Unit      Continent  \\\n",
       "175            Luxembourg  2010                 380072.0         Europe   \n",
       "232                Norway  2010                1763033.0         Europe   \n",
       "63                Bermuda  2010                    582.0  North America   \n",
       "300  United Arab Emirates  2010                 324553.0           Asia   \n",
       "227           Netherlands  2010                4485047.0         Europe   \n",
       "\n",
       "     GDP_Per_Capita  Waste_recycled_in_Unit  Waste_incinerated_in_Unit  \\\n",
       "175    91743.293852                  2941.0                      331.0   \n",
       "232    62276.018906                574162.0                   357759.0   \n",
       "63     56395.007800                   365.0                        5.0   \n",
       "300    55362.989819                     0.0                     2612.0   \n",
       "227    46101.754499               2289126.0                   699827.0   \n",
       "\n",
       "     Waste_landfilled_in_Unit  \n",
       "175                  0.000000  \n",
       "232             627234.000000  \n",
       "63                 215.000000  \n",
       "300             144835.421875  \n",
       "227             809561.000000  "
      ]
     },
     "execution_count": 119,
     "metadata": {},
     "output_type": "execute_result"
    }
   ],
   "source": [
    "gdp_waste_2010.nlargest(5, 'GDP_Per_Capita')"
   ]
  },
  {
   "cell_type": "code",
   "execution_count": 120,
   "metadata": {},
   "outputs": [
    {
     "data": {
      "image/png": "[encoded data removed]",
      "text/plain": [
       "<Figure size 432x288 with 1 Axes>"
      ]
     },
     "metadata": {
      "needs_background": "light"
     },
     "output_type": "display_data"
    }
   ],
   "source": [
    "gdp_waste_2010.Waste_generated_in_Unit.hist(bins=20);"
   ]
  },
  {
   "cell_type": "code",
   "execution_count": 121,
   "metadata": {},
   "outputs": [
    {
     "data": {
      "text/html": [
       "<div>\n",
       "<style scoped>\n",
       "    .dataframe tbody tr th:only-of-type {\n",
       "        vertical-align: middle;\n",
       "    }\n",
       "\n",
       "    .dataframe tbody tr th {\n",
       "        vertical-align: top;\n",
       "    }\n",
       "\n",
       "    .dataframe thead th {\n",
       "        text-align: right;\n",
       "    }\n",
       "</style>\n",
       "<table border=\"1\" class=\"dataframe\">\n",
       "  <thead>\n",
       "    <tr style=\"text-align: right;\">\n",
       "      <th></th>\n",
       "      <th>Country</th>\n",
       "      <th>Year</th>\n",
       "      <th>Waste_generated_in_Unit</th>\n",
       "      <th>Continent</th>\n",
       "      <th>GDP_Per_Capita</th>\n",
       "      <th>Waste_recycled_in_Unit</th>\n",
       "      <th>Waste_incinerated_in_Unit</th>\n",
       "      <th>Waste_landfilled_in_Unit</th>\n",
       "    </tr>\n",
       "  </thead>\n",
       "  <tbody>\n",
       "    <tr>\n",
       "      <th>160</th>\n",
       "      <td>Kazakhstan</td>\n",
       "      <td>2010</td>\n",
       "      <td>303116608.0</td>\n",
       "      <td>Asia</td>\n",
       "      <td>20096.559762</td>\n",
       "      <td>19586874.0</td>\n",
       "      <td>648117.5</td>\n",
       "      <td>4484692.0</td>\n",
       "    </tr>\n",
       "    <tr>\n",
       "      <th>123</th>\n",
       "      <td>Germany</td>\n",
       "      <td>2010</td>\n",
       "      <td>19931452.0</td>\n",
       "      <td>Europe</td>\n",
       "      <td>40183.348524</td>\n",
       "      <td>9500261.0</td>\n",
       "      <td>3721246.0</td>\n",
       "      <td>3983980.0</td>\n",
       "    </tr>\n",
       "    <tr>\n",
       "      <th>66</th>\n",
       "      <td>Bulgaria</td>\n",
       "      <td>2010</td>\n",
       "      <td>13553483.0</td>\n",
       "      <td>Europe</td>\n",
       "      <td>15283.274707</td>\n",
       "      <td>58195.0</td>\n",
       "      <td>1762.0</td>\n",
       "      <td>13501203.0</td>\n",
       "    </tr>\n",
       "    <tr>\n",
       "      <th>119</th>\n",
       "      <td>France</td>\n",
       "      <td>2010</td>\n",
       "      <td>11538134.0</td>\n",
       "      <td>Europe</td>\n",
       "      <td>36814.921142</td>\n",
       "      <td>3415081.0</td>\n",
       "      <td>2389175.0</td>\n",
       "      <td>2729389.0</td>\n",
       "    </tr>\n",
       "    <tr>\n",
       "      <th>262</th>\n",
       "      <td>Serbia</td>\n",
       "      <td>2010</td>\n",
       "      <td>11161235.0</td>\n",
       "      <td>Europe</td>\n",
       "      <td>13366.644486</td>\n",
       "      <td>99559.0</td>\n",
       "      <td>289.0</td>\n",
       "      <td>11082001.0</td>\n",
       "    </tr>\n",
       "  </tbody>\n",
       "</table>\n",
       "</div>"
      ],
      "text/plain": [
       "        Country  Year  Waste_generated_in_Unit Continent  GDP_Per_Capita  \\\n",
       "160  Kazakhstan  2010              303116608.0      Asia    20096.559762   \n",
       "123     Germany  2010               19931452.0    Europe    40183.348524   \n",
       "66     Bulgaria  2010               13553483.0    Europe    15283.274707   \n",
       "119      France  2010               11538134.0    Europe    36814.921142   \n",
       "262      Serbia  2010               11161235.0    Europe    13366.644486   \n",
       "\n",
       "     Waste_recycled_in_Unit  Waste_incinerated_in_Unit  \\\n",
       "160              19586874.0                   648117.5   \n",
       "123               9500261.0                  3721246.0   \n",
       "66                  58195.0                     1762.0   \n",
       "119               3415081.0                  2389175.0   \n",
       "262                 99559.0                      289.0   \n",
       "\n",
       "     Waste_landfilled_in_Unit  \n",
       "160                 4484692.0  \n",
       "123                 3983980.0  \n",
       "66                 13501203.0  \n",
       "119                 2729389.0  \n",
       "262                11082001.0  "
      ]
     },
     "execution_count": 121,
     "metadata": {},
     "output_type": "execute_result"
    }
   ],
   "source": [
    "#gdp_waste_2010_generate = gdp_waste_2010.sort_values('Waste_generated_in_Unit', axis=0, ascending = False)\n",
    "gdp_waste_2010.nlargest(5, 'Waste_generated_in_Unit')"
   ]
  },
  {
   "cell_type": "code",
   "execution_count": 193,
   "metadata": {},
   "outputs": [
    {
     "data": {
      "image/png": "[encoded data removed]",
      "text/plain": [
       "<Figure size 432x288 with 1 Axes>"
      ]
     },
     "metadata": {
      "needs_background": "light"
     },
     "output_type": "display_data"
    }
   ],
   "source": [
    "sns.scatterplot(data = gdp_waste_total, x = 'GDP_Per_Capita', y = 'Waste_generated_in_Unit', hue = 'Continent');"
   ]
  },
  {
   "cell_type": "code",
   "execution_count": 194,
   "metadata": {},
   "outputs": [
    {
     "data": {
      "image/png": "[encoded data removed]",
      "text/plain": [
       "<Figure size 432x288 with 1 Axes>"
      ]
     },
     "metadata": {
      "needs_background": "light"
     },
     "output_type": "display_data"
    }
   ],
   "source": [
    "#Get the log \n",
    "plt.yscale('log')\n",
    "sns.scatterplot(data = gdp_waste_total, x = 'GDP_Per_Capita', y = 'Waste_generated_in_Unit', hue = 'Continent');"
   ]
  },
  {
   "cell_type": "code",
   "execution_count": 195,
   "metadata": {},
   "outputs": [
    {
     "data": {
      "image/png": "[encoded data removed]",
      "text/plain": [
       "<Figure size 432x288 with 1 Axes>"
      ]
     },
     "metadata": {
      "needs_background": "light"
     },
     "output_type": "display_data"
    }
   ],
   "source": [
    "gdp_waste_large = gdp_waste_generate_recycled_incinerated_landfilled.loc[gdp_waste_generate_recycled_incinerated_landfilled['Country'].isin(['Kazakhstan'])]\n",
    "fig, ax =plt.subplots()\n",
    "gdp_waste_large.groupby('Country').plot(x='Year', y='Waste_generated_in_Unit', ax=ax, legend=False)\n",
    "plt.title('Hazardous waste generated in Kazahkstan');"
   ]
  },
  {
   "cell_type": "code",
   "execution_count": 123,
   "metadata": {},
   "outputs": [
    {
     "data": {
      "text/html": [
       "<div>\n",
       "<style scoped>\n",
       "    .dataframe tbody tr th:only-of-type {\n",
       "        vertical-align: middle;\n",
       "    }\n",
       "\n",
       "    .dataframe tbody tr th {\n",
       "        vertical-align: top;\n",
       "    }\n",
       "\n",
       "    .dataframe thead th {\n",
       "        text-align: right;\n",
       "    }\n",
       "</style>\n",
       "<table border=\"1\" class=\"dataframe\">\n",
       "  <thead>\n",
       "    <tr style=\"text-align: right;\">\n",
       "      <th></th>\n",
       "      <th>Country</th>\n",
       "      <th>Year</th>\n",
       "      <th>Waste_generated_in_Unit</th>\n",
       "      <th>Continent</th>\n",
       "      <th>GDP_Per_Capita</th>\n",
       "      <th>Waste_recycled_in_Unit</th>\n",
       "      <th>Waste_incinerated_in_Unit</th>\n",
       "      <th>Waste_landfilled_in_Unit</th>\n",
       "    </tr>\n",
       "  </thead>\n",
       "  <tbody>\n",
       "    <tr>\n",
       "      <th>160</th>\n",
       "      <td>Kazakhstan</td>\n",
       "      <td>2010</td>\n",
       "      <td>303116608.0</td>\n",
       "      <td>Asia</td>\n",
       "      <td>20096.559762</td>\n",
       "      <td>19586874.0</td>\n",
       "      <td>648117.5</td>\n",
       "      <td>4484692.0</td>\n",
       "    </tr>\n",
       "    <tr>\n",
       "      <th>57</th>\n",
       "      <td>Belgium</td>\n",
       "      <td>2010</td>\n",
       "      <td>4767299.0</td>\n",
       "      <td>Europe</td>\n",
       "      <td>40787.373216</td>\n",
       "      <td>12610402.0</td>\n",
       "      <td>372737.0</td>\n",
       "      <td>981568.0</td>\n",
       "    </tr>\n",
       "    <tr>\n",
       "      <th>123</th>\n",
       "      <td>Germany</td>\n",
       "      <td>2010</td>\n",
       "      <td>19931452.0</td>\n",
       "      <td>Europe</td>\n",
       "      <td>40183.348524</td>\n",
       "      <td>9500261.0</td>\n",
       "      <td>3721246.0</td>\n",
       "      <td>3983980.0</td>\n",
       "    </tr>\n",
       "    <tr>\n",
       "      <th>119</th>\n",
       "      <td>France</td>\n",
       "      <td>2010</td>\n",
       "      <td>11538134.0</td>\n",
       "      <td>Europe</td>\n",
       "      <td>36814.921142</td>\n",
       "      <td>3415081.0</td>\n",
       "      <td>2389175.0</td>\n",
       "      <td>2729389.0</td>\n",
       "    </tr>\n",
       "    <tr>\n",
       "      <th>227</th>\n",
       "      <td>Netherlands</td>\n",
       "      <td>2010</td>\n",
       "      <td>4485047.0</td>\n",
       "      <td>Europe</td>\n",
       "      <td>46101.754499</td>\n",
       "      <td>2289126.0</td>\n",
       "      <td>699827.0</td>\n",
       "      <td>809561.0</td>\n",
       "    </tr>\n",
       "  </tbody>\n",
       "</table>\n",
       "</div>"
      ],
      "text/plain": [
       "         Country  Year  Waste_generated_in_Unit Continent  GDP_Per_Capita  \\\n",
       "160   Kazakhstan  2010              303116608.0      Asia    20096.559762   \n",
       "57       Belgium  2010                4767299.0    Europe    40787.373216   \n",
       "123      Germany  2010               19931452.0    Europe    40183.348524   \n",
       "119       France  2010               11538134.0    Europe    36814.921142   \n",
       "227  Netherlands  2010                4485047.0    Europe    46101.754499   \n",
       "\n",
       "     Waste_recycled_in_Unit  Waste_incinerated_in_Unit  \\\n",
       "160              19586874.0                   648117.5   \n",
       "57               12610402.0                   372737.0   \n",
       "123               9500261.0                  3721246.0   \n",
       "119               3415081.0                  2389175.0   \n",
       "227               2289126.0                   699827.0   \n",
       "\n",
       "     Waste_landfilled_in_Unit  \n",
       "160                 4484692.0  \n",
       "57                   981568.0  \n",
       "123                 3983980.0  \n",
       "119                 2729389.0  \n",
       "227                  809561.0  "
      ]
     },
     "execution_count": 123,
     "metadata": {},
     "output_type": "execute_result"
    }
   ],
   "source": [
    "#gdp_waste_2010_recycled = gdp_waste_2010.sort_values('Waste_recycled_in_Unit', axis=0, ascending = False)\n",
    "gdp_waste_2010.nlargest(5, 'Waste_recycled_in_Unit')"
   ]
  },
  {
   "cell_type": "code",
   "execution_count": 127,
   "metadata": {},
   "outputs": [
    {
     "data": {
      "text/html": [
       "<div>\n",
       "<style scoped>\n",
       "    .dataframe tbody tr th:only-of-type {\n",
       "        vertical-align: middle;\n",
       "    }\n",
       "\n",
       "    .dataframe tbody tr th {\n",
       "        vertical-align: top;\n",
       "    }\n",
       "\n",
       "    .dataframe thead th {\n",
       "        text-align: right;\n",
       "    }\n",
       "</style>\n",
       "<table border=\"1\" class=\"dataframe\">\n",
       "  <thead>\n",
       "    <tr style=\"text-align: right;\">\n",
       "      <th></th>\n",
       "      <th>Country</th>\n",
       "      <th>Year</th>\n",
       "      <th>Waste_generated_in_Unit</th>\n",
       "      <th>Continent</th>\n",
       "      <th>GDP_Per_Capita</th>\n",
       "      <th>Waste_recycled_in_Unit</th>\n",
       "      <th>Waste_incinerated_in_Unit</th>\n",
       "      <th>Waste_landfilled_in_Unit</th>\n",
       "    </tr>\n",
       "  </thead>\n",
       "  <tbody>\n",
       "    <tr>\n",
       "      <th>123</th>\n",
       "      <td>Germany</td>\n",
       "      <td>2010</td>\n",
       "      <td>19931452.0</td>\n",
       "      <td>Europe</td>\n",
       "      <td>40183.348524</td>\n",
       "      <td>9500261.0</td>\n",
       "      <td>3721246.0</td>\n",
       "      <td>3983980.0</td>\n",
       "    </tr>\n",
       "    <tr>\n",
       "      <th>119</th>\n",
       "      <td>France</td>\n",
       "      <td>2010</td>\n",
       "      <td>11538134.0</td>\n",
       "      <td>Europe</td>\n",
       "      <td>36814.921142</td>\n",
       "      <td>3415081.0</td>\n",
       "      <td>2389175.0</td>\n",
       "      <td>2729389.0</td>\n",
       "    </tr>\n",
       "    <tr>\n",
       "      <th>227</th>\n",
       "      <td>Netherlands</td>\n",
       "      <td>2010</td>\n",
       "      <td>4485047.0</td>\n",
       "      <td>Europe</td>\n",
       "      <td>46101.754499</td>\n",
       "      <td>2289126.0</td>\n",
       "      <td>699827.0</td>\n",
       "      <td>809561.0</td>\n",
       "    </tr>\n",
       "    <tr>\n",
       "      <th>160</th>\n",
       "      <td>Kazakhstan</td>\n",
       "      <td>2010</td>\n",
       "      <td>303116608.0</td>\n",
       "      <td>Asia</td>\n",
       "      <td>20096.559762</td>\n",
       "      <td>19586874.0</td>\n",
       "      <td>648117.5</td>\n",
       "      <td>4484692.0</td>\n",
       "    </tr>\n",
       "    <tr>\n",
       "      <th>147</th>\n",
       "      <td>Italy</td>\n",
       "      <td>2010</td>\n",
       "      <td>8543415.0</td>\n",
       "      <td>Europe</td>\n",
       "      <td>36403.515558</td>\n",
       "      <td>1866212.0</td>\n",
       "      <td>503555.0</td>\n",
       "      <td>736999.0</td>\n",
       "    </tr>\n",
       "  </tbody>\n",
       "</table>\n",
       "</div>"
      ],
      "text/plain": [
       "         Country  Year  Waste_generated_in_Unit Continent  GDP_Per_Capita  \\\n",
       "123      Germany  2010               19931452.0    Europe    40183.348524   \n",
       "119       France  2010               11538134.0    Europe    36814.921142   \n",
       "227  Netherlands  2010                4485047.0    Europe    46101.754499   \n",
       "160   Kazakhstan  2010              303116608.0      Asia    20096.559762   \n",
       "147        Italy  2010                8543415.0    Europe    36403.515558   \n",
       "\n",
       "     Waste_recycled_in_Unit  Waste_incinerated_in_Unit  \\\n",
       "123               9500261.0                  3721246.0   \n",
       "119               3415081.0                  2389175.0   \n",
       "227               2289126.0                   699827.0   \n",
       "160              19586874.0                   648117.5   \n",
       "147               1866212.0                   503555.0   \n",
       "\n",
       "     Waste_landfilled_in_Unit  \n",
       "123                 3983980.0  \n",
       "119                 2729389.0  \n",
       "227                  809561.0  \n",
       "160                 4484692.0  \n",
       "147                  736999.0  "
      ]
     },
     "execution_count": 127,
     "metadata": {},
     "output_type": "execute_result"
    }
   ],
   "source": [
    "#gdp_waste_2010_incinerated = gdp_waste_2010.sort_values('Waste_incinerated_in_Unit', axis=0, ascending = False)\n",
    "gdp_waste_2010.nlargest(5, 'Waste_incinerated_in_Unit')"
   ]
  },
  {
   "cell_type": "markdown",
   "metadata": {},
   "source": [
    "### 5/ make new columns to get the percentage of waste managment (recycled, incinerated, landfilled)"
   ]
  },
  {
   "cell_type": "code",
   "execution_count": 155,
   "metadata": {},
   "outputs": [
    {
     "name": "stderr",
     "output_type": "stream",
     "text": [
      "/Users/armelleleguelte/anaconda3/lib/python3.7/site-packages/ipykernel_launcher.py:1: SettingWithCopyWarning: \n",
      "A value is trying to be set on a copy of a slice from a DataFrame.\n",
      "Try using .loc[row_indexer,col_indexer] = value instead\n",
      "\n",
      "See the caveats in the documentation: http://pandas.pydata.org/pandas-docs/stable/indexing.html#indexing-view-versus-copy\n",
      "  \"\"\"Entry point for launching an IPython kernel.\n"
     ]
    }
   ],
   "source": [
    "gdp_waste_2010['%_waste_landfilled'] = 100*(gdp_waste_2010.loc[:,'Waste_landfilled_in_Unit']/gdp_waste_2010.loc[:,'Waste_generated_in_Unit'])"
   ]
  },
  {
   "cell_type": "code",
   "execution_count": 129,
   "metadata": {},
   "outputs": [
    {
     "name": "stderr",
     "output_type": "stream",
     "text": [
      "/Users/armelleleguelte/anaconda3/lib/python3.7/site-packages/ipykernel_launcher.py:1: SettingWithCopyWarning: \n",
      "A value is trying to be set on a copy of a slice from a DataFrame.\n",
      "Try using .loc[row_indexer,col_indexer] = value instead\n",
      "\n",
      "See the caveats in the documentation: http://pandas.pydata.org/pandas-docs/stable/indexing.html#indexing-view-versus-copy\n",
      "  \"\"\"Entry point for launching an IPython kernel.\n"
     ]
    }
   ],
   "source": [
    "gdp_waste_2010['%_waste_recycled'] = 100*(gdp_waste_2010['Waste_recycled_in_Unit']/gdp_waste_2010['Waste_generated_in_Unit'])"
   ]
  },
  {
   "cell_type": "code",
   "execution_count": 130,
   "metadata": {},
   "outputs": [
    {
     "name": "stderr",
     "output_type": "stream",
     "text": [
      "/Users/armelleleguelte/anaconda3/lib/python3.7/site-packages/ipykernel_launcher.py:1: SettingWithCopyWarning: \n",
      "A value is trying to be set on a copy of a slice from a DataFrame.\n",
      "Try using .loc[row_indexer,col_indexer] = value instead\n",
      "\n",
      "See the caveats in the documentation: http://pandas.pydata.org/pandas-docs/stable/indexing.html#indexing-view-versus-copy\n",
      "  \"\"\"Entry point for launching an IPython kernel.\n"
     ]
    }
   ],
   "source": [
    "gdp_waste_2010['%_waste_incinerated'] = 100*(gdp_waste_2010['Waste_incinerated_in_Unit']/gdp_waste_2010['Waste_generated_in_Unit'])"
   ]
  },
  {
   "cell_type": "code",
   "execution_count": 131,
   "metadata": {
    "scrolled": true
   },
   "outputs": [
    {
     "data": {
      "text/html": [
       "<div>\n",
       "<style scoped>\n",
       "    .dataframe tbody tr th:only-of-type {\n",
       "        vertical-align: middle;\n",
       "    }\n",
       "\n",
       "    .dataframe tbody tr th {\n",
       "        vertical-align: top;\n",
       "    }\n",
       "\n",
       "    .dataframe thead th {\n",
       "        text-align: right;\n",
       "    }\n",
       "</style>\n",
       "<table border=\"1\" class=\"dataframe\">\n",
       "  <thead>\n",
       "    <tr style=\"text-align: right;\">\n",
       "      <th></th>\n",
       "      <th>Country</th>\n",
       "      <th>Year</th>\n",
       "      <th>Waste_generated_in_Unit</th>\n",
       "      <th>Continent</th>\n",
       "      <th>GDP_Per_Capita</th>\n",
       "      <th>Waste_recycled_in_Unit</th>\n",
       "      <th>Waste_incinerated_in_Unit</th>\n",
       "      <th>Waste_landfilled_in_Unit</th>\n",
       "      <th>%_waste_landfilled</th>\n",
       "      <th>%_waste_recycled</th>\n",
       "      <th>%_waste_incinerated</th>\n",
       "    </tr>\n",
       "  </thead>\n",
       "  <tbody>\n",
       "    <tr>\n",
       "      <th>8</th>\n",
       "      <td>Armenia</td>\n",
       "      <td>2010</td>\n",
       "      <td>4.353978e+05</td>\n",
       "      <td>Europe</td>\n",
       "      <td>6702.829370</td>\n",
       "      <td>2.286000e+03</td>\n",
       "      <td>300.000000</td>\n",
       "      <td>432811.781250</td>\n",
       "      <td>99.406060</td>\n",
       "      <td>0.525037</td>\n",
       "      <td>0.068903</td>\n",
       "    </tr>\n",
       "    <tr>\n",
       "      <th>23</th>\n",
       "      <td>Austria</td>\n",
       "      <td>2010</td>\n",
       "      <td>1.472864e+06</td>\n",
       "      <td>Europe</td>\n",
       "      <td>43336.198001</td>\n",
       "      <td>1.969560e+05</td>\n",
       "      <td>156167.000000</td>\n",
       "      <td>47959.000000</td>\n",
       "      <td>3.256173</td>\n",
       "      <td>13.372314</td>\n",
       "      <td>10.602948</td>\n",
       "    </tr>\n",
       "    <tr>\n",
       "      <th>29</th>\n",
       "      <td>Azerbaijan</td>\n",
       "      <td>2010</td>\n",
       "      <td>1.399710e+05</td>\n",
       "      <td>Europe</td>\n",
       "      <td>16215.847200</td>\n",
       "      <td>5.548200e+03</td>\n",
       "      <td>58429.101562</td>\n",
       "      <td>87314.601562</td>\n",
       "      <td>62.380494</td>\n",
       "      <td>3.963821</td>\n",
       "      <td>41.743719</td>\n",
       "    </tr>\n",
       "    <tr>\n",
       "      <th>45</th>\n",
       "      <td>Belarus</td>\n",
       "      <td>2010</td>\n",
       "      <td>9.182000e+05</td>\n",
       "      <td>Europe</td>\n",
       "      <td>16260.592680</td>\n",
       "      <td>7.749000e+05</td>\n",
       "      <td>46000.000000</td>\n",
       "      <td>136600.000000</td>\n",
       "      <td>14.876933</td>\n",
       "      <td>84.393378</td>\n",
       "      <td>5.009802</td>\n",
       "    </tr>\n",
       "    <tr>\n",
       "      <th>57</th>\n",
       "      <td>Belgium</td>\n",
       "      <td>2010</td>\n",
       "      <td>4.767299e+06</td>\n",
       "      <td>Europe</td>\n",
       "      <td>40787.373216</td>\n",
       "      <td>1.261040e+07</td>\n",
       "      <td>372737.000000</td>\n",
       "      <td>981568.000000</td>\n",
       "      <td>20.589604</td>\n",
       "      <td>264.518798</td>\n",
       "      <td>7.818620</td>\n",
       "    </tr>\n",
       "  </tbody>\n",
       "</table>\n",
       "</div>"
      ],
      "text/plain": [
       "       Country  Year  Waste_generated_in_Unit Continent  GDP_Per_Capita  \\\n",
       "8      Armenia  2010             4.353978e+05    Europe     6702.829370   \n",
       "23     Austria  2010             1.472864e+06    Europe    43336.198001   \n",
       "29  Azerbaijan  2010             1.399710e+05    Europe    16215.847200   \n",
       "45     Belarus  2010             9.182000e+05    Europe    16260.592680   \n",
       "57     Belgium  2010             4.767299e+06    Europe    40787.373216   \n",
       "\n",
       "    Waste_recycled_in_Unit  Waste_incinerated_in_Unit  \\\n",
       "8             2.286000e+03                 300.000000   \n",
       "23            1.969560e+05              156167.000000   \n",
       "29            5.548200e+03               58429.101562   \n",
       "45            7.749000e+05               46000.000000   \n",
       "57            1.261040e+07              372737.000000   \n",
       "\n",
       "    Waste_landfilled_in_Unit  %_waste_landfilled  %_waste_recycled  \\\n",
       "8              432811.781250           99.406060          0.525037   \n",
       "23              47959.000000            3.256173         13.372314   \n",
       "29              87314.601562           62.380494          3.963821   \n",
       "45             136600.000000           14.876933         84.393378   \n",
       "57             981568.000000           20.589604        264.518798   \n",
       "\n",
       "    %_waste_incinerated  \n",
       "8              0.068903  \n",
       "23            10.602948  \n",
       "29            41.743719  \n",
       "45             5.009802  \n",
       "57             7.818620  "
      ]
     },
     "execution_count": 131,
     "metadata": {},
     "output_type": "execute_result"
    }
   ],
   "source": [
    "gdp_waste_2010.head()"
   ]
  },
  {
   "cell_type": "code",
   "execution_count": 132,
   "metadata": {
    "scrolled": true
   },
   "outputs": [
    {
     "data": {
      "text/html": [
       "<div>\n",
       "<style scoped>\n",
       "    .dataframe tbody tr th:only-of-type {\n",
       "        vertical-align: middle;\n",
       "    }\n",
       "\n",
       "    .dataframe tbody tr th {\n",
       "        vertical-align: top;\n",
       "    }\n",
       "\n",
       "    .dataframe thead th {\n",
       "        text-align: right;\n",
       "    }\n",
       "</style>\n",
       "<table border=\"1\" class=\"dataframe\">\n",
       "  <thead>\n",
       "    <tr style=\"text-align: right;\">\n",
       "      <th></th>\n",
       "      <th>Country</th>\n",
       "      <th>Year</th>\n",
       "      <th>Waste_generated_in_Unit</th>\n",
       "      <th>Continent</th>\n",
       "      <th>GDP_Per_Capita</th>\n",
       "      <th>Waste_recycled_in_Unit</th>\n",
       "      <th>Waste_incinerated_in_Unit</th>\n",
       "      <th>Waste_landfilled_in_Unit</th>\n",
       "      <th>%_waste_landfilled</th>\n",
       "      <th>%_waste_recycled</th>\n",
       "      <th>%_waste_incinerated</th>\n",
       "    </tr>\n",
       "  </thead>\n",
       "  <tbody>\n",
       "    <tr>\n",
       "      <th>96</th>\n",
       "      <td>Croatia</td>\n",
       "      <td>2010</td>\n",
       "      <td>72553.0</td>\n",
       "      <td>Europe</td>\n",
       "      <td>20736.260711</td>\n",
       "      <td>26371.000000</td>\n",
       "      <td>33390.000000</td>\n",
       "      <td>8793.000000</td>\n",
       "      <td>12.119416</td>\n",
       "      <td>36.347222</td>\n",
       "      <td>46.021529</td>\n",
       "    </tr>\n",
       "    <tr>\n",
       "      <th>29</th>\n",
       "      <td>Azerbaijan</td>\n",
       "      <td>2010</td>\n",
       "      <td>139971.0</td>\n",
       "      <td>Europe</td>\n",
       "      <td>16215.847200</td>\n",
       "      <td>5548.200195</td>\n",
       "      <td>58429.101562</td>\n",
       "      <td>87314.601562</td>\n",
       "      <td>62.380494</td>\n",
       "      <td>3.963821</td>\n",
       "      <td>41.743719</td>\n",
       "    </tr>\n",
       "    <tr>\n",
       "      <th>203</th>\n",
       "      <td>Mauritius</td>\n",
       "      <td>2010</td>\n",
       "      <td>7776.0</td>\n",
       "      <td>Africa</td>\n",
       "      <td>15938.419209</td>\n",
       "      <td>1005.320007</td>\n",
       "      <td>1800.000000</td>\n",
       "      <td>10.760000</td>\n",
       "      <td>0.138374</td>\n",
       "      <td>12.928498</td>\n",
       "      <td>23.148148</td>\n",
       "    </tr>\n",
       "  </tbody>\n",
       "</table>\n",
       "</div>"
      ],
      "text/plain": [
       "        Country  Year  Waste_generated_in_Unit Continent  GDP_Per_Capita  \\\n",
       "96      Croatia  2010                  72553.0    Europe    20736.260711   \n",
       "29   Azerbaijan  2010                 139971.0    Europe    16215.847200   \n",
       "203   Mauritius  2010                   7776.0    Africa    15938.419209   \n",
       "\n",
       "     Waste_recycled_in_Unit  Waste_incinerated_in_Unit  \\\n",
       "96             26371.000000               33390.000000   \n",
       "29              5548.200195               58429.101562   \n",
       "203             1005.320007                1800.000000   \n",
       "\n",
       "     Waste_landfilled_in_Unit  %_waste_landfilled  %_waste_recycled  \\\n",
       "96                8793.000000           12.119416         36.347222   \n",
       "29               87314.601562           62.380494          3.963821   \n",
       "203                 10.760000            0.138374         12.928498   \n",
       "\n",
       "     %_waste_incinerated  \n",
       "96             46.021529  \n",
       "29             41.743719  \n",
       "203            23.148148  "
      ]
     },
     "execution_count": 132,
     "metadata": {},
     "output_type": "execute_result"
    }
   ],
   "source": [
    "gdp_waste_2010.nlargest(3, '%_waste_incinerated')"
   ]
  },
  {
   "cell_type": "code",
   "execution_count": 133,
   "metadata": {},
   "outputs": [
    {
     "data": {
      "text/html": [
       "<div>\n",
       "<style scoped>\n",
       "    .dataframe tbody tr th:only-of-type {\n",
       "        vertical-align: middle;\n",
       "    }\n",
       "\n",
       "    .dataframe tbody tr th {\n",
       "        vertical-align: top;\n",
       "    }\n",
       "\n",
       "    .dataframe thead th {\n",
       "        text-align: right;\n",
       "    }\n",
       "</style>\n",
       "<table border=\"1\" class=\"dataframe\">\n",
       "  <thead>\n",
       "    <tr style=\"text-align: right;\">\n",
       "      <th></th>\n",
       "      <th>Country</th>\n",
       "      <th>Year</th>\n",
       "      <th>Waste_generated_in_Unit</th>\n",
       "      <th>Continent</th>\n",
       "      <th>GDP_Per_Capita</th>\n",
       "      <th>Waste_recycled_in_Unit</th>\n",
       "      <th>Waste_incinerated_in_Unit</th>\n",
       "      <th>Waste_landfilled_in_Unit</th>\n",
       "      <th>%_waste_landfilled</th>\n",
       "      <th>%_waste_recycled</th>\n",
       "      <th>%_waste_incinerated</th>\n",
       "    </tr>\n",
       "  </thead>\n",
       "  <tbody>\n",
       "    <tr>\n",
       "      <th>249</th>\n",
       "      <td>Saint Lucia</td>\n",
       "      <td>2010</td>\n",
       "      <td>146.0</td>\n",
       "      <td>North America</td>\n",
       "      <td>NaN</td>\n",
       "      <td>0.0</td>\n",
       "      <td>0.0</td>\n",
       "      <td>146.0000</td>\n",
       "      <td>100.000000</td>\n",
       "      <td>0.000000</td>\n",
       "      <td>0.000000</td>\n",
       "    </tr>\n",
       "    <tr>\n",
       "      <th>277</th>\n",
       "      <td>State of Palestine</td>\n",
       "      <td>2010</td>\n",
       "      <td>4080.0</td>\n",
       "      <td>NaN</td>\n",
       "      <td>NaN</td>\n",
       "      <td>0.0</td>\n",
       "      <td>0.0</td>\n",
       "      <td>4080.0000</td>\n",
       "      <td>100.000000</td>\n",
       "      <td>0.000000</td>\n",
       "      <td>0.000000</td>\n",
       "    </tr>\n",
       "    <tr>\n",
       "      <th>289</th>\n",
       "      <td>The former Yugoslav Republic of Macedonia</td>\n",
       "      <td>2010</td>\n",
       "      <td>726191.0</td>\n",
       "      <td>NaN</td>\n",
       "      <td>NaN</td>\n",
       "      <td>3842.0</td>\n",
       "      <td>10.0</td>\n",
       "      <td>726044.6875</td>\n",
       "      <td>99.979852</td>\n",
       "      <td>0.529062</td>\n",
       "      <td>0.001377</td>\n",
       "    </tr>\n",
       "  </tbody>\n",
       "</table>\n",
       "</div>"
      ],
      "text/plain": [
       "                                       Country  Year  Waste_generated_in_Unit  \\\n",
       "249                                Saint Lucia  2010                    146.0   \n",
       "277                         State of Palestine  2010                   4080.0   \n",
       "289  The former Yugoslav Republic of Macedonia  2010                 726191.0   \n",
       "\n",
       "         Continent  GDP_Per_Capita  Waste_recycled_in_Unit  \\\n",
       "249  North America             NaN                     0.0   \n",
       "277            NaN             NaN                     0.0   \n",
       "289            NaN             NaN                  3842.0   \n",
       "\n",
       "     Waste_incinerated_in_Unit  Waste_landfilled_in_Unit  %_waste_landfilled  \\\n",
       "249                        0.0                  146.0000          100.000000   \n",
       "277                        0.0                 4080.0000          100.000000   \n",
       "289                       10.0               726044.6875           99.979852   \n",
       "\n",
       "     %_waste_recycled  %_waste_incinerated  \n",
       "249          0.000000             0.000000  \n",
       "277          0.000000             0.000000  \n",
       "289          0.529062             0.001377  "
      ]
     },
     "execution_count": 133,
     "metadata": {},
     "output_type": "execute_result"
    }
   ],
   "source": [
    "gdp_waste_2010.nlargest(3, '%_waste_landfilled')"
   ]
  },
  {
   "cell_type": "code",
   "execution_count": 134,
   "metadata": {},
   "outputs": [
    {
     "data": {
      "text/html": [
       "<div>\n",
       "<style scoped>\n",
       "    .dataframe tbody tr th:only-of-type {\n",
       "        vertical-align: middle;\n",
       "    }\n",
       "\n",
       "    .dataframe tbody tr th {\n",
       "        vertical-align: top;\n",
       "    }\n",
       "\n",
       "    .dataframe thead th {\n",
       "        text-align: right;\n",
       "    }\n",
       "</style>\n",
       "<table border=\"1\" class=\"dataframe\">\n",
       "  <thead>\n",
       "    <tr style=\"text-align: right;\">\n",
       "      <th></th>\n",
       "      <th>Country</th>\n",
       "      <th>Year</th>\n",
       "      <th>Waste_generated_in_Unit</th>\n",
       "      <th>Continent</th>\n",
       "      <th>GDP_Per_Capita</th>\n",
       "      <th>Waste_recycled_in_Unit</th>\n",
       "      <th>Waste_incinerated_in_Unit</th>\n",
       "      <th>Waste_landfilled_in_Unit</th>\n",
       "      <th>%_waste_landfilled</th>\n",
       "      <th>%_waste_recycled</th>\n",
       "      <th>%_waste_incinerated</th>\n",
       "    </tr>\n",
       "  </thead>\n",
       "  <tbody>\n",
       "    <tr>\n",
       "      <th>57</th>\n",
       "      <td>Belgium</td>\n",
       "      <td>2010</td>\n",
       "      <td>4.767299e+06</td>\n",
       "      <td>Europe</td>\n",
       "      <td>40787.373216</td>\n",
       "      <td>1.261040e+07</td>\n",
       "      <td>372737.0</td>\n",
       "      <td>981568.000000</td>\n",
       "      <td>20.589604</td>\n",
       "      <td>264.518798</td>\n",
       "      <td>7.818620</td>\n",
       "    </tr>\n",
       "    <tr>\n",
       "      <th>45</th>\n",
       "      <td>Belarus</td>\n",
       "      <td>2010</td>\n",
       "      <td>9.182000e+05</td>\n",
       "      <td>Europe</td>\n",
       "      <td>16260.592680</td>\n",
       "      <td>7.749000e+05</td>\n",
       "      <td>46000.0</td>\n",
       "      <td>136600.000000</td>\n",
       "      <td>14.876933</td>\n",
       "      <td>84.393378</td>\n",
       "      <td>5.009802</td>\n",
       "    </tr>\n",
       "    <tr>\n",
       "      <th>150</th>\n",
       "      <td>Jordan</td>\n",
       "      <td>2010</td>\n",
       "      <td>6.196210e+04</td>\n",
       "      <td>Asia</td>\n",
       "      <td>9500.892393</td>\n",
       "      <td>5.140180e+04</td>\n",
       "      <td>1.0</td>\n",
       "      <td>10026.299805</td>\n",
       "      <td>16.181342</td>\n",
       "      <td>82.956839</td>\n",
       "      <td>0.001614</td>\n",
       "    </tr>\n",
       "    <tr>\n",
       "      <th>134</th>\n",
       "      <td>Iceland</td>\n",
       "      <td>2010</td>\n",
       "      <td>8.304000e+03</td>\n",
       "      <td>Europe</td>\n",
       "      <td>40136.737154</td>\n",
       "      <td>6.352000e+03</td>\n",
       "      <td>187.0</td>\n",
       "      <td>1386.000000</td>\n",
       "      <td>16.690751</td>\n",
       "      <td>76.493256</td>\n",
       "      <td>2.251927</td>\n",
       "    </tr>\n",
       "    <tr>\n",
       "      <th>236</th>\n",
       "      <td>Poland</td>\n",
       "      <td>2010</td>\n",
       "      <td>1.491845e+06</td>\n",
       "      <td>Europe</td>\n",
       "      <td>21770.644436</td>\n",
       "      <td>1.117841e+06</td>\n",
       "      <td>151303.0</td>\n",
       "      <td>308822.000000</td>\n",
       "      <td>20.700676</td>\n",
       "      <td>74.930103</td>\n",
       "      <td>10.142005</td>\n",
       "    </tr>\n",
       "  </tbody>\n",
       "</table>\n",
       "</div>"
      ],
      "text/plain": [
       "     Country  Year  Waste_generated_in_Unit Continent  GDP_Per_Capita  \\\n",
       "57   Belgium  2010             4.767299e+06    Europe    40787.373216   \n",
       "45   Belarus  2010             9.182000e+05    Europe    16260.592680   \n",
       "150   Jordan  2010             6.196210e+04      Asia     9500.892393   \n",
       "134  Iceland  2010             8.304000e+03    Europe    40136.737154   \n",
       "236   Poland  2010             1.491845e+06    Europe    21770.644436   \n",
       "\n",
       "     Waste_recycled_in_Unit  Waste_incinerated_in_Unit  \\\n",
       "57             1.261040e+07                   372737.0   \n",
       "45             7.749000e+05                    46000.0   \n",
       "150            5.140180e+04                        1.0   \n",
       "134            6.352000e+03                      187.0   \n",
       "236            1.117841e+06                   151303.0   \n",
       "\n",
       "     Waste_landfilled_in_Unit  %_waste_landfilled  %_waste_recycled  \\\n",
       "57              981568.000000           20.589604        264.518798   \n",
       "45              136600.000000           14.876933         84.393378   \n",
       "150              10026.299805           16.181342         82.956839   \n",
       "134               1386.000000           16.690751         76.493256   \n",
       "236             308822.000000           20.700676         74.930103   \n",
       "\n",
       "     %_waste_incinerated  \n",
       "57              7.818620  \n",
       "45              5.009802  \n",
       "150             0.001614  \n",
       "134             2.251927  \n",
       "236            10.142005  "
      ]
     },
     "execution_count": 134,
     "metadata": {},
     "output_type": "execute_result"
    }
   ],
   "source": [
    "gdp_waste_2010.nlargest(5, '%_waste_recycled')"
   ]
  },
  {
   "cell_type": "code",
   "execution_count": 153,
   "metadata": {},
   "outputs": [
    {
     "name": "stderr",
     "output_type": "stream",
     "text": [
      "/Users/armelleleguelte/anaconda3/lib/python3.7/site-packages/ipykernel_launcher.py:1: SettingWithCopyWarning: \n",
      "A value is trying to be set on a copy of a slice from a DataFrame.\n",
      "Try using .loc[row_indexer,col_indexer] = value instead\n",
      "\n",
      "See the caveats in the documentation: http://pandas.pydata.org/pandas-docs/stable/indexing.html#indexing-view-versus-copy\n",
      "  \"\"\"Entry point for launching an IPython kernel.\n"
     ]
    }
   ],
   "source": [
    "gdp_waste_2010['%_waste_tot_disposed'] = (gdp_waste_2010.loc[:,'%_waste_landfilled'] + gdp_waste_2010.loc[:,'%_waste_recycled'] + gdp_waste_2010.loc[:,'%_waste_incinerated'])"
   ]
  },
  {
   "cell_type": "code",
   "execution_count": 156,
   "metadata": {
    "scrolled": false
   },
   "outputs": [
    {
     "data": {
      "text/html": [
       "<div>\n",
       "<style scoped>\n",
       "    .dataframe tbody tr th:only-of-type {\n",
       "        vertical-align: middle;\n",
       "    }\n",
       "\n",
       "    .dataframe tbody tr th {\n",
       "        vertical-align: top;\n",
       "    }\n",
       "\n",
       "    .dataframe thead th {\n",
       "        text-align: right;\n",
       "    }\n",
       "</style>\n",
       "<table border=\"1\" class=\"dataframe\">\n",
       "  <thead>\n",
       "    <tr style=\"text-align: right;\">\n",
       "      <th></th>\n",
       "      <th>Country</th>\n",
       "      <th>Year</th>\n",
       "      <th>Waste_generated_in_Unit</th>\n",
       "      <th>Continent</th>\n",
       "      <th>GDP_Per_Capita</th>\n",
       "      <th>Waste_recycled_in_Unit</th>\n",
       "      <th>Waste_incinerated_in_Unit</th>\n",
       "      <th>Waste_landfilled_in_Unit</th>\n",
       "      <th>%_waste_landfilled</th>\n",
       "      <th>%_waste_recycled</th>\n",
       "      <th>%_waste_incinerated</th>\n",
       "      <th>%_waste_tot_disposed</th>\n",
       "    </tr>\n",
       "  </thead>\n",
       "  <tbody>\n",
       "    <tr>\n",
       "      <th>8</th>\n",
       "      <td>Armenia</td>\n",
       "      <td>2010</td>\n",
       "      <td>4.353978e+05</td>\n",
       "      <td>Europe</td>\n",
       "      <td>6702.829370</td>\n",
       "      <td>2286.000000</td>\n",
       "      <td>300.000000</td>\n",
       "      <td>432811.781250</td>\n",
       "      <td>99.406060</td>\n",
       "      <td>0.525037</td>\n",
       "      <td>0.068903</td>\n",
       "      <td>100.000000</td>\n",
       "    </tr>\n",
       "    <tr>\n",
       "      <th>23</th>\n",
       "      <td>Austria</td>\n",
       "      <td>2010</td>\n",
       "      <td>1.472864e+06</td>\n",
       "      <td>Europe</td>\n",
       "      <td>43336.198001</td>\n",
       "      <td>196956.000000</td>\n",
       "      <td>156167.000000</td>\n",
       "      <td>47959.000000</td>\n",
       "      <td>3.256173</td>\n",
       "      <td>13.372314</td>\n",
       "      <td>10.602948</td>\n",
       "      <td>27.231435</td>\n",
       "    </tr>\n",
       "    <tr>\n",
       "      <th>29</th>\n",
       "      <td>Azerbaijan</td>\n",
       "      <td>2010</td>\n",
       "      <td>1.399710e+05</td>\n",
       "      <td>Europe</td>\n",
       "      <td>16215.847200</td>\n",
       "      <td>5548.200195</td>\n",
       "      <td>58429.101562</td>\n",
       "      <td>87314.601562</td>\n",
       "      <td>62.380494</td>\n",
       "      <td>3.963821</td>\n",
       "      <td>41.743719</td>\n",
       "      <td>108.088035</td>\n",
       "    </tr>\n",
       "    <tr>\n",
       "      <th>45</th>\n",
       "      <td>Belarus</td>\n",
       "      <td>2010</td>\n",
       "      <td>9.182000e+05</td>\n",
       "      <td>Europe</td>\n",
       "      <td>16260.592680</td>\n",
       "      <td>774900.000000</td>\n",
       "      <td>46000.000000</td>\n",
       "      <td>136600.000000</td>\n",
       "      <td>14.876933</td>\n",
       "      <td>84.393378</td>\n",
       "      <td>5.009802</td>\n",
       "      <td>104.280113</td>\n",
       "    </tr>\n",
       "  </tbody>\n",
       "</table>\n",
       "</div>"
      ],
      "text/plain": [
       "       Country  Year  Waste_generated_in_Unit Continent  GDP_Per_Capita  \\\n",
       "8      Armenia  2010             4.353978e+05    Europe     6702.829370   \n",
       "23     Austria  2010             1.472864e+06    Europe    43336.198001   \n",
       "29  Azerbaijan  2010             1.399710e+05    Europe    16215.847200   \n",
       "45     Belarus  2010             9.182000e+05    Europe    16260.592680   \n",
       "\n",
       "    Waste_recycled_in_Unit  Waste_incinerated_in_Unit  \\\n",
       "8              2286.000000                 300.000000   \n",
       "23           196956.000000              156167.000000   \n",
       "29             5548.200195               58429.101562   \n",
       "45           774900.000000               46000.000000   \n",
       "\n",
       "    Waste_landfilled_in_Unit  %_waste_landfilled  %_waste_recycled  \\\n",
       "8              432811.781250           99.406060          0.525037   \n",
       "23              47959.000000            3.256173         13.372314   \n",
       "29              87314.601562           62.380494          3.963821   \n",
       "45             136600.000000           14.876933         84.393378   \n",
       "\n",
       "    %_waste_incinerated  %_waste_tot_disposed  \n",
       "8              0.068903            100.000000  \n",
       "23            10.602948             27.231435  \n",
       "29            41.743719            108.088035  \n",
       "45             5.009802            104.280113  "
      ]
     },
     "execution_count": 156,
     "metadata": {},
     "output_type": "execute_result"
    }
   ],
   "source": [
    "gdp_waste_2010.head(4)"
   ]
  },
  {
   "cell_type": "code",
   "execution_count": 191,
   "metadata": {},
   "outputs": [
    {
     "data": {
      "text/html": [
       "<div>\n",
       "<style scoped>\n",
       "    .dataframe tbody tr th:only-of-type {\n",
       "        vertical-align: middle;\n",
       "    }\n",
       "\n",
       "    .dataframe tbody tr th {\n",
       "        vertical-align: top;\n",
       "    }\n",
       "\n",
       "    .dataframe thead th {\n",
       "        text-align: right;\n",
       "    }\n",
       "</style>\n",
       "<table border=\"1\" class=\"dataframe\">\n",
       "  <thead>\n",
       "    <tr style=\"text-align: right;\">\n",
       "      <th></th>\n",
       "      <th>Country</th>\n",
       "      <th>Year</th>\n",
       "      <th>Waste_generated_in_Unit</th>\n",
       "      <th>Continent</th>\n",
       "      <th>GDP_Per_Capita</th>\n",
       "      <th>Waste_recycled_in_Unit</th>\n",
       "      <th>Waste_incinerated_in_Unit</th>\n",
       "      <th>Waste_landfilled_in_Unit</th>\n",
       "      <th>%_waste_landfilled</th>\n",
       "      <th>%_waste_recycled</th>\n",
       "      <th>%_waste_incinerated</th>\n",
       "      <th>%_waste_tot_disposed</th>\n",
       "    </tr>\n",
       "  </thead>\n",
       "  <tbody>\n",
       "    <tr>\n",
       "      <th>57</th>\n",
       "      <td>Belgium</td>\n",
       "      <td>2010</td>\n",
       "      <td>4767299.0</td>\n",
       "      <td>Europe</td>\n",
       "      <td>40787.373216</td>\n",
       "      <td>1.261040e+07</td>\n",
       "      <td>372737.000000</td>\n",
       "      <td>981568.000000</td>\n",
       "      <td>20.589604</td>\n",
       "      <td>264.518798</td>\n",
       "      <td>7.818620</td>\n",
       "      <td>292.927022</td>\n",
       "    </tr>\n",
       "    <tr>\n",
       "      <th>29</th>\n",
       "      <td>Azerbaijan</td>\n",
       "      <td>2010</td>\n",
       "      <td>139971.0</td>\n",
       "      <td>Europe</td>\n",
       "      <td>16215.847200</td>\n",
       "      <td>5.548200e+03</td>\n",
       "      <td>58429.101562</td>\n",
       "      <td>87314.601562</td>\n",
       "      <td>62.380494</td>\n",
       "      <td>3.963821</td>\n",
       "      <td>41.743719</td>\n",
       "      <td>108.088035</td>\n",
       "    </tr>\n",
       "    <tr>\n",
       "      <th>236</th>\n",
       "      <td>Poland</td>\n",
       "      <td>2010</td>\n",
       "      <td>1491845.0</td>\n",
       "      <td>Europe</td>\n",
       "      <td>21770.644436</td>\n",
       "      <td>1.117841e+06</td>\n",
       "      <td>151303.000000</td>\n",
       "      <td>308822.000000</td>\n",
       "      <td>20.700676</td>\n",
       "      <td>74.930103</td>\n",
       "      <td>10.142005</td>\n",
       "      <td>105.772785</td>\n",
       "    </tr>\n",
       "    <tr>\n",
       "      <th>45</th>\n",
       "      <td>Belarus</td>\n",
       "      <td>2010</td>\n",
       "      <td>918200.0</td>\n",
       "      <td>Europe</td>\n",
       "      <td>16260.592680</td>\n",
       "      <td>7.749000e+05</td>\n",
       "      <td>46000.000000</td>\n",
       "      <td>136600.000000</td>\n",
       "      <td>14.876933</td>\n",
       "      <td>84.393378</td>\n",
       "      <td>5.009802</td>\n",
       "      <td>104.280113</td>\n",
       "    </tr>\n",
       "    <tr>\n",
       "      <th>63</th>\n",
       "      <td>Bermuda</td>\n",
       "      <td>2010</td>\n",
       "      <td>582.0</td>\n",
       "      <td>North America</td>\n",
       "      <td>56395.007800</td>\n",
       "      <td>3.650000e+02</td>\n",
       "      <td>5.000000</td>\n",
       "      <td>215.000000</td>\n",
       "      <td>36.941581</td>\n",
       "      <td>62.714777</td>\n",
       "      <td>0.859107</td>\n",
       "      <td>100.515464</td>\n",
       "    </tr>\n",
       "  </tbody>\n",
       "</table>\n",
       "</div>"
      ],
      "text/plain": [
       "        Country  Year  Waste_generated_in_Unit      Continent  GDP_Per_Capita  \\\n",
       "57      Belgium  2010                4767299.0         Europe    40787.373216   \n",
       "29   Azerbaijan  2010                 139971.0         Europe    16215.847200   \n",
       "236      Poland  2010                1491845.0         Europe    21770.644436   \n",
       "45      Belarus  2010                 918200.0         Europe    16260.592680   \n",
       "63      Bermuda  2010                    582.0  North America    56395.007800   \n",
       "\n",
       "     Waste_recycled_in_Unit  Waste_incinerated_in_Unit  \\\n",
       "57             1.261040e+07              372737.000000   \n",
       "29             5.548200e+03               58429.101562   \n",
       "236            1.117841e+06              151303.000000   \n",
       "45             7.749000e+05               46000.000000   \n",
       "63             3.650000e+02                   5.000000   \n",
       "\n",
       "     Waste_landfilled_in_Unit  %_waste_landfilled  %_waste_recycled  \\\n",
       "57              981568.000000           20.589604        264.518798   \n",
       "29               87314.601562           62.380494          3.963821   \n",
       "236             308822.000000           20.700676         74.930103   \n",
       "45              136600.000000           14.876933         84.393378   \n",
       "63                 215.000000           36.941581         62.714777   \n",
       "\n",
       "     %_waste_incinerated  %_waste_tot_disposed  \n",
       "57              7.818620            292.927022  \n",
       "29             41.743719            108.088035  \n",
       "236            10.142005            105.772785  \n",
       "45              5.009802            104.280113  \n",
       "63              0.859107            100.515464  "
      ]
     },
     "execution_count": 191,
     "metadata": {},
     "output_type": "execute_result"
    }
   ],
   "source": [
    "gdp_waste_2010.nlargest(5, '%_waste_tot_disposed')"
   ]
  },
  {
   "cell_type": "code",
   "execution_count": 192,
   "metadata": {
    "scrolled": true
   },
   "outputs": [
    {
     "data": {
      "text/html": [
       "<div>\n",
       "<style scoped>\n",
       "    .dataframe tbody tr th:only-of-type {\n",
       "        vertical-align: middle;\n",
       "    }\n",
       "\n",
       "    .dataframe tbody tr th {\n",
       "        vertical-align: top;\n",
       "    }\n",
       "\n",
       "    .dataframe thead th {\n",
       "        text-align: right;\n",
       "    }\n",
       "</style>\n",
       "<table border=\"1\" class=\"dataframe\">\n",
       "  <thead>\n",
       "    <tr style=\"text-align: right;\">\n",
       "      <th></th>\n",
       "      <th>Country</th>\n",
       "      <th>Year</th>\n",
       "      <th>Waste_generated_in_Unit</th>\n",
       "      <th>Continent</th>\n",
       "      <th>GDP_Per_Capita</th>\n",
       "      <th>Waste_recycled_in_Unit</th>\n",
       "      <th>Waste_incinerated_in_Unit</th>\n",
       "      <th>Waste_landfilled_in_Unit</th>\n",
       "      <th>%_waste_landfilled</th>\n",
       "      <th>%_waste_recycled</th>\n",
       "      <th>%_waste_incinerated</th>\n",
       "      <th>%_waste_tot_disposed</th>\n",
       "    </tr>\n",
       "  </thead>\n",
       "  <tbody>\n",
       "    <tr>\n",
       "      <th>311</th>\n",
       "      <td>Zimbabwe</td>\n",
       "      <td>2010</td>\n",
       "      <td>45536.699219</td>\n",
       "      <td>Africa</td>\n",
       "      <td>1928.017081</td>\n",
       "      <td>0.0</td>\n",
       "      <td>0.7</td>\n",
       "      <td>0.0</td>\n",
       "      <td>0.000000</td>\n",
       "      <td>0.000000</td>\n",
       "      <td>0.001537</td>\n",
       "      <td>0.001537</td>\n",
       "    </tr>\n",
       "    <tr>\n",
       "      <th>175</th>\n",
       "      <td>Luxembourg</td>\n",
       "      <td>2010</td>\n",
       "      <td>380072.000000</td>\n",
       "      <td>Europe</td>\n",
       "      <td>91743.293852</td>\n",
       "      <td>2941.0</td>\n",
       "      <td>331.0</td>\n",
       "      <td>0.0</td>\n",
       "      <td>0.000000</td>\n",
       "      <td>0.773801</td>\n",
       "      <td>0.087089</td>\n",
       "      <td>0.860890</td>\n",
       "    </tr>\n",
       "    <tr>\n",
       "      <th>128</th>\n",
       "      <td>Guatemala</td>\n",
       "      <td>2010</td>\n",
       "      <td>301350.000000</td>\n",
       "      <td>North America</td>\n",
       "      <td>6714.048887</td>\n",
       "      <td>3620.0</td>\n",
       "      <td>1347.0</td>\n",
       "      <td>3.0</td>\n",
       "      <td>0.000996</td>\n",
       "      <td>1.201261</td>\n",
       "      <td>0.446989</td>\n",
       "      <td>1.649245</td>\n",
       "    </tr>\n",
       "    <tr>\n",
       "      <th>195</th>\n",
       "      <td>Malta</td>\n",
       "      <td>2010</td>\n",
       "      <td>24856.000000</td>\n",
       "      <td>Europe</td>\n",
       "      <td>28336.790641</td>\n",
       "      <td>73.0</td>\n",
       "      <td>364.0</td>\n",
       "      <td>0.0</td>\n",
       "      <td>0.000000</td>\n",
       "      <td>0.293692</td>\n",
       "      <td>1.464435</td>\n",
       "      <td>1.758127</td>\n",
       "    </tr>\n",
       "    <tr>\n",
       "      <th>102</th>\n",
       "      <td>Cuba</td>\n",
       "      <td>2010</td>\n",
       "      <td>660756.000000</td>\n",
       "      <td>North America</td>\n",
       "      <td>NaN</td>\n",
       "      <td>6956.0</td>\n",
       "      <td>16924.0</td>\n",
       "      <td>12421.0</td>\n",
       "      <td>1.879816</td>\n",
       "      <td>1.052734</td>\n",
       "      <td>2.561309</td>\n",
       "      <td>5.493859</td>\n",
       "    </tr>\n",
       "  </tbody>\n",
       "</table>\n",
       "</div>"
      ],
      "text/plain": [
       "        Country  Year  Waste_generated_in_Unit      Continent  GDP_Per_Capita  \\\n",
       "311    Zimbabwe  2010             45536.699219         Africa     1928.017081   \n",
       "175  Luxembourg  2010            380072.000000         Europe    91743.293852   \n",
       "128   Guatemala  2010            301350.000000  North America     6714.048887   \n",
       "195       Malta  2010             24856.000000         Europe    28336.790641   \n",
       "102        Cuba  2010            660756.000000  North America             NaN   \n",
       "\n",
       "     Waste_recycled_in_Unit  Waste_incinerated_in_Unit  \\\n",
       "311                     0.0                        0.7   \n",
       "175                  2941.0                      331.0   \n",
       "128                  3620.0                     1347.0   \n",
       "195                    73.0                      364.0   \n",
       "102                  6956.0                    16924.0   \n",
       "\n",
       "     Waste_landfilled_in_Unit  %_waste_landfilled  %_waste_recycled  \\\n",
       "311                       0.0            0.000000          0.000000   \n",
       "175                       0.0            0.000000          0.773801   \n",
       "128                       3.0            0.000996          1.201261   \n",
       "195                       0.0            0.000000          0.293692   \n",
       "102                   12421.0            1.879816          1.052734   \n",
       "\n",
       "     %_waste_incinerated  %_waste_tot_disposed  \n",
       "311             0.001537              0.001537  \n",
       "175             0.087089              0.860890  \n",
       "128             0.446989              1.649245  \n",
       "195             1.464435              1.758127  \n",
       "102             2.561309              5.493859  "
      ]
     },
     "execution_count": 192,
     "metadata": {},
     "output_type": "execute_result"
    }
   ],
   "source": [
    "gdp_waste_2010.nsmallest(5, '%_waste_tot_disposed')"
   ]
  },
  {
   "cell_type": "code",
   "execution_count": 199,
   "metadata": {},
   "outputs": [
    {
     "data": {
      "image/png": "[encoded data removed]",
      "text/plain": [
       "<Figure size 432x288 with 1 Axes>"
      ]
     },
     "metadata": {
      "needs_background": "light"
     },
     "output_type": "display_data"
    }
   ],
   "source": [
    "plt.figure(figsize=(6,4))\n",
    "sns.boxplot(data = gdp_waste_tot_2010, x = 'Continent', y = 'GDP_Per_Capita')\n",
    "plt.ylabel('count')\n",
    "plt.xticks(rotation = 45)\n",
    "plt.title(\"Count of GDP per Capita by Continent\", y=1.02);"
   ]
  },
  {
   "cell_type": "markdown",
   "metadata": {},
   "source": [
    "### 6/ plot total waste disposed"
   ]
  },
  {
   "cell_type": "code",
   "execution_count": 190,
   "metadata": {},
   "outputs": [
    {
     "data": {
      "image/png": "[encoded data removed]",
      "text/plain": [
       "<Figure size 2160x432 with 1 Axes>"
      ]
     },
     "metadata": {
      "needs_background": "light"
     },
     "output_type": "display_data"
    }
   ],
   "source": [
    "plt.figure(figsize=(30,6))\n",
    "sns.barplot(data = gdp_waste_2010, x = 'Country', y = '%_waste_tot_disposed');\n",
    "plt.ylabel('total waste disposed')\n",
    "plt.xticks(rotation = 45)\n",
    "plt.title(\"total waste disposed per country\", y=1.02);"
   ]
  },
  {
   "cell_type": "markdown",
   "metadata": {},
   "source": [
    "### Remark: What is going on with Belgium????"
   ]
  },
  {
   "cell_type": "markdown",
   "metadata": {},
   "source": [
    "### 7/ Run a correlation coefficient "
   ]
  },
  {
   "cell_type": "code",
   "execution_count": 196,
   "metadata": {},
   "outputs": [
    {
     "data": {
      "text/html": [
       "<div>\n",
       "<style scoped>\n",
       "    .dataframe tbody tr th:only-of-type {\n",
       "        vertical-align: middle;\n",
       "    }\n",
       "\n",
       "    .dataframe tbody tr th {\n",
       "        vertical-align: top;\n",
       "    }\n",
       "\n",
       "    .dataframe thead th {\n",
       "        text-align: right;\n",
       "    }\n",
       "</style>\n",
       "<table border=\"1\" class=\"dataframe\">\n",
       "  <thead>\n",
       "    <tr style=\"text-align: right;\">\n",
       "      <th></th>\n",
       "      <th>GDP_Per_Capita</th>\n",
       "      <th>%_waste_landfilled</th>\n",
       "      <th>%_waste_recycled</th>\n",
       "      <th>%_waste_incinerated</th>\n",
       "      <th>%_waste_tot_disposed</th>\n",
       "    </tr>\n",
       "  </thead>\n",
       "  <tbody>\n",
       "    <tr>\n",
       "      <th>GDP_Per_Capita</th>\n",
       "      <td>1.000000</td>\n",
       "      <td>-0.212640</td>\n",
       "      <td>0.089954</td>\n",
       "      <td>0.004992</td>\n",
       "      <td>-0.053454</td>\n",
       "    </tr>\n",
       "    <tr>\n",
       "      <th>%_waste_landfilled</th>\n",
       "      <td>-0.212640</td>\n",
       "      <td>1.000000</td>\n",
       "      <td>-0.246863</td>\n",
       "      <td>-0.189858</td>\n",
       "      <td>0.460983</td>\n",
       "    </tr>\n",
       "    <tr>\n",
       "      <th>%_waste_recycled</th>\n",
       "      <td>0.089954</td>\n",
       "      <td>-0.246863</td>\n",
       "      <td>1.000000</td>\n",
       "      <td>0.085933</td>\n",
       "      <td>0.722222</td>\n",
       "    </tr>\n",
       "    <tr>\n",
       "      <th>%_waste_incinerated</th>\n",
       "      <td>0.004992</td>\n",
       "      <td>-0.189858</td>\n",
       "      <td>0.085933</td>\n",
       "      <td>1.000000</td>\n",
       "      <td>0.151160</td>\n",
       "    </tr>\n",
       "    <tr>\n",
       "      <th>%_waste_tot_disposed</th>\n",
       "      <td>-0.053454</td>\n",
       "      <td>0.460983</td>\n",
       "      <td>0.722222</td>\n",
       "      <td>0.151160</td>\n",
       "      <td>1.000000</td>\n",
       "    </tr>\n",
       "  </tbody>\n",
       "</table>\n",
       "</div>"
      ],
      "text/plain": [
       "                      GDP_Per_Capita  %_waste_landfilled  %_waste_recycled  \\\n",
       "GDP_Per_Capita              1.000000           -0.212640          0.089954   \n",
       "%_waste_landfilled         -0.212640            1.000000         -0.246863   \n",
       "%_waste_recycled            0.089954           -0.246863          1.000000   \n",
       "%_waste_incinerated         0.004992           -0.189858          0.085933   \n",
       "%_waste_tot_disposed       -0.053454            0.460983          0.722222   \n",
       "\n",
       "                      %_waste_incinerated  %_waste_tot_disposed  \n",
       "GDP_Per_Capita                   0.004992             -0.053454  \n",
       "%_waste_landfilled              -0.189858              0.460983  \n",
       "%_waste_recycled                 0.085933              0.722222  \n",
       "%_waste_incinerated              1.000000              0.151160  \n",
       "%_waste_tot_disposed             0.151160              1.000000  "
      ]
     },
     "execution_count": 196,
     "metadata": {},
     "output_type": "execute_result"
    }
   ],
   "source": [
    "gdp_waste_2010[['GDP_Per_Capita','%_waste_landfilled','%_waste_recycled','%_waste_incinerated','%_waste_tot_disposed']].corr()"
   ]
  },
  {
   "cell_type": "code",
   "execution_count": 197,
   "metadata": {},
   "outputs": [
    {
     "data": {
      "image/png": "[encoded data removed]",
      "text/plain": [
       "<Figure size 432x288 with 1 Axes>"
      ]
     },
     "metadata": {
      "needs_background": "light"
     },
     "output_type": "display_data"
    }
   ],
   "source": [
    "sns.scatterplot(data = gdp_waste_2010, x = '%_waste_recycled', y = '%_waste_tot_disposed', hue = 'Continent')\n",
    "plt.title('Waste recycled vs totalwaste disposed',fontweight = 'bold');"
   ]
  },
  {
   "cell_type": "code",
   "execution_count": 198,
   "metadata": {},
   "outputs": [
    {
     "data": {
      "text/html": [
       "<div>\n",
       "<style scoped>\n",
       "    .dataframe tbody tr th:only-of-type {\n",
       "        vertical-align: middle;\n",
       "    }\n",
       "\n",
       "    .dataframe tbody tr th {\n",
       "        vertical-align: top;\n",
       "    }\n",
       "\n",
       "    .dataframe thead th {\n",
       "        text-align: right;\n",
       "    }\n",
       "</style>\n",
       "<table border=\"1\" class=\"dataframe\">\n",
       "  <thead>\n",
       "    <tr style=\"text-align: right;\">\n",
       "      <th></th>\n",
       "      <th>Country</th>\n",
       "      <th>Year</th>\n",
       "      <th>Waste_generated_in_Unit</th>\n",
       "      <th>Continent</th>\n",
       "      <th>GDP_Per_Capita</th>\n",
       "      <th>Waste_recycled_in_Unit</th>\n",
       "      <th>Waste_incinerated_in_Unit</th>\n",
       "      <th>Waste_landfilled_in_Unit</th>\n",
       "      <th>%_waste_landfilled</th>\n",
       "      <th>%_waste_recycled</th>\n",
       "      <th>%_waste_incinerated</th>\n",
       "      <th>%_waste_tot_disposed</th>\n",
       "    </tr>\n",
       "  </thead>\n",
       "  <tbody>\n",
       "    <tr>\n",
       "      <th>57</th>\n",
       "      <td>Belgium</td>\n",
       "      <td>2010</td>\n",
       "      <td>4767299.0</td>\n",
       "      <td>Europe</td>\n",
       "      <td>40787.373216</td>\n",
       "      <td>12610402.0</td>\n",
       "      <td>372737.0</td>\n",
       "      <td>981568.0</td>\n",
       "      <td>20.589604</td>\n",
       "      <td>264.518798</td>\n",
       "      <td>7.81862</td>\n",
       "      <td>292.927022</td>\n",
       "    </tr>\n",
       "  </tbody>\n",
       "</table>\n",
       "</div>"
      ],
      "text/plain": [
       "    Country  Year  Waste_generated_in_Unit Continent  GDP_Per_Capita  \\\n",
       "57  Belgium  2010                4767299.0    Europe    40787.373216   \n",
       "\n",
       "    Waste_recycled_in_Unit  Waste_incinerated_in_Unit  \\\n",
       "57              12610402.0                   372737.0   \n",
       "\n",
       "    Waste_landfilled_in_Unit  %_waste_landfilled  %_waste_recycled  \\\n",
       "57                  981568.0           20.589604        264.518798   \n",
       "\n",
       "    %_waste_incinerated  %_waste_tot_disposed  \n",
       "57              7.81862            292.927022  "
      ]
     },
     "execution_count": 198,
     "metadata": {},
     "output_type": "execute_result"
    }
   ],
   "source": [
    "gdp_waste_2010[(gdp_waste_2010['%_waste_recycled'] > 200)]"
   ]
  },
  {
   "cell_type": "markdown",
   "metadata": {},
   "source": [
    "### 8/ Look at Kazhakstan and waste management"
   ]
  },
  {
   "cell_type": "code",
   "execution_count": 163,
   "metadata": {},
   "outputs": [
    {
     "data": {
      "text/html": [
       "<div>\n",
       "<style scoped>\n",
       "    .dataframe tbody tr th:only-of-type {\n",
       "        vertical-align: middle;\n",
       "    }\n",
       "\n",
       "    .dataframe tbody tr th {\n",
       "        vertical-align: top;\n",
       "    }\n",
       "\n",
       "    .dataframe thead th {\n",
       "        text-align: right;\n",
       "    }\n",
       "</style>\n",
       "<table border=\"1\" class=\"dataframe\">\n",
       "  <thead>\n",
       "    <tr style=\"text-align: right;\">\n",
       "      <th></th>\n",
       "      <th>Country</th>\n",
       "      <th>Year</th>\n",
       "      <th>Waste_generated_in_Unit</th>\n",
       "      <th>Continent</th>\n",
       "      <th>GDP_Per_Capita</th>\n",
       "      <th>Waste_recycled_in_Unit</th>\n",
       "      <th>Waste_incinerated_in_Unit</th>\n",
       "      <th>Waste_landfilled_in_Unit</th>\n",
       "      <th>%_waste_landfilled</th>\n",
       "      <th>%_waste_recycled</th>\n",
       "      <th>%_waste_incinerated</th>\n",
       "      <th>%_waste_tot_disposed</th>\n",
       "    </tr>\n",
       "  </thead>\n",
       "  <tbody>\n",
       "    <tr>\n",
       "      <th>160</th>\n",
       "      <td>Kazakhstan</td>\n",
       "      <td>2010</td>\n",
       "      <td>303116608.0</td>\n",
       "      <td>Asia</td>\n",
       "      <td>20096.559762</td>\n",
       "      <td>19586874.0</td>\n",
       "      <td>648117.5</td>\n",
       "      <td>4484692.0</td>\n",
       "      <td>1.479527</td>\n",
       "      <td>6.461828</td>\n",
       "      <td>0.213818</td>\n",
       "      <td>8.155173</td>\n",
       "    </tr>\n",
       "  </tbody>\n",
       "</table>\n",
       "</div>"
      ],
      "text/plain": [
       "        Country  Year  Waste_generated_in_Unit Continent  GDP_Per_Capita  \\\n",
       "160  Kazakhstan  2010              303116608.0      Asia    20096.559762   \n",
       "\n",
       "     Waste_recycled_in_Unit  Waste_incinerated_in_Unit  \\\n",
       "160              19586874.0                   648117.5   \n",
       "\n",
       "     Waste_landfilled_in_Unit  %_waste_landfilled  %_waste_recycled  \\\n",
       "160                 4484692.0            1.479527          6.461828   \n",
       "\n",
       "     %_waste_incinerated  %_waste_tot_disposed  \n",
       "160             0.213818              8.155173  "
      ]
     },
     "execution_count": 163,
     "metadata": {},
     "output_type": "execute_result"
    }
   ],
   "source": [
    "kazhakstan = gdp_waste_2010.loc[gdp_waste_2010['Country'] == 'Kazakhstan']\n"
   ]
  },
  {
   "cell_type": "code",
   "execution_count": 172,
   "metadata": {},
   "outputs": [],
   "source": [
    "kazhakstan1= kazhakstan.drop(['Year', 'Waste_generated_in_Unit', 'Continent','GDP_Per_Capita','Waste_recycled_in_Unit', 'Waste_incinerated_in_Unit', 'Waste_landfilled_in_Unit'  ], axis=1)"
   ]
  },
  {
   "cell_type": "code",
   "execution_count": 182,
   "metadata": {},
   "outputs": [
    {
     "data": {
      "image/png": "[encoded data removed]",
      "text/plain": [
       "<Figure size 432x288 with 1 Axes>"
      ]
     },
     "metadata": {
      "needs_background": "light"
     },
     "output_type": "display_data"
    }
   ],
   "source": [
    "sns.barplot(data=kazhakstan1)\n",
    "plt.xticks(rotation = 45)\n",
    "plt.ylabel('percentage of waste collected')\n",
    "plt.title('Waste managment in Kazhakstan');"
   ]
  },
  {
   "cell_type": "markdown",
   "metadata": {},
   "source": [
    "### EXTRA: having a look at municipal waste:"
   ]
  },
  {
   "cell_type": "code",
   "execution_count": 137,
   "metadata": {},
   "outputs": [],
   "source": [
    "muni_waste_collect_df = pd.read_csv('../data/muni_waste_collect.csv', skiprows=list(range(1589,1645)))"
   ]
  },
  {
   "cell_type": "code",
   "execution_count": 138,
   "metadata": {},
   "outputs": [],
   "source": [
    "muni_waste_collect_df = muni_waste_collect_df.drop(['Value Footnotes', 'Unit'], axis=1)"
   ]
  },
  {
   "cell_type": "code",
   "execution_count": 139,
   "metadata": {},
   "outputs": [],
   "source": [
    "muni_waste_collect_df.rename(columns = {'Country or Area':'Country', 'Year':'Year', 'Value':'Muni_waste_collect_in_1000_tones'}, inplace = True)\n"
   ]
  },
  {
   "cell_type": "code",
   "execution_count": 140,
   "metadata": {},
   "outputs": [
    {
     "data": {
      "text/html": [
       "<div>\n",
       "<style scoped>\n",
       "    .dataframe tbody tr th:only-of-type {\n",
       "        vertical-align: middle;\n",
       "    }\n",
       "\n",
       "    .dataframe tbody tr th {\n",
       "        vertical-align: top;\n",
       "    }\n",
       "\n",
       "    .dataframe thead th {\n",
       "        text-align: right;\n",
       "    }\n",
       "</style>\n",
       "<table border=\"1\" class=\"dataframe\">\n",
       "  <thead>\n",
       "    <tr style=\"text-align: right;\">\n",
       "      <th></th>\n",
       "      <th>Country</th>\n",
       "      <th>Year</th>\n",
       "      <th>Muni_waste_collect_in_1000_tones</th>\n",
       "    </tr>\n",
       "  </thead>\n",
       "  <tbody>\n",
       "    <tr>\n",
       "      <th>0</th>\n",
       "      <td>Albania</td>\n",
       "      <td>2003</td>\n",
       "      <td>1057.000000</td>\n",
       "    </tr>\n",
       "    <tr>\n",
       "      <th>1</th>\n",
       "      <td>Algeria</td>\n",
       "      <td>2015</td>\n",
       "      <td>5182.157227</td>\n",
       "    </tr>\n",
       "    <tr>\n",
       "      <th>2</th>\n",
       "      <td>Algeria</td>\n",
       "      <td>2014</td>\n",
       "      <td>4816.811035</td>\n",
       "    </tr>\n",
       "    <tr>\n",
       "      <th>3</th>\n",
       "      <td>Andorra</td>\n",
       "      <td>2015</td>\n",
       "      <td>42.070114</td>\n",
       "    </tr>\n",
       "    <tr>\n",
       "      <th>4</th>\n",
       "      <td>Andorra</td>\n",
       "      <td>2014</td>\n",
       "      <td>41.141983</td>\n",
       "    </tr>\n",
       "  </tbody>\n",
       "</table>\n",
       "</div>"
      ],
      "text/plain": [
       "   Country  Year  Muni_waste_collect_in_1000_tones\n",
       "0  Albania  2003                       1057.000000\n",
       "1  Algeria  2015                       5182.157227\n",
       "2  Algeria  2014                       4816.811035\n",
       "3  Andorra  2015                         42.070114\n",
       "4  Andorra  2014                         41.141983"
      ]
     },
     "execution_count": 140,
     "metadata": {},
     "output_type": "execute_result"
    }
   ],
   "source": [
    "muni_waste_collect_df.head()"
   ]
  },
  {
   "cell_type": "code",
   "execution_count": 141,
   "metadata": {},
   "outputs": [],
   "source": [
    "#merge muni_waste_collect_df\n",
    "gdp_waste_total = gdp_waste_generate_recycled_incinerated_landfilled.merge(muni_waste_collect_df, on= ('Country', 'Year'))"
   ]
  },
  {
   "cell_type": "code",
   "execution_count": 142,
   "metadata": {},
   "outputs": [
    {
     "data": {
      "text/html": [
       "<div>\n",
       "<style scoped>\n",
       "    .dataframe tbody tr th:only-of-type {\n",
       "        vertical-align: middle;\n",
       "    }\n",
       "\n",
       "    .dataframe tbody tr th {\n",
       "        vertical-align: top;\n",
       "    }\n",
       "\n",
       "    .dataframe thead th {\n",
       "        text-align: right;\n",
       "    }\n",
       "</style>\n",
       "<table border=\"1\" class=\"dataframe\">\n",
       "  <thead>\n",
       "    <tr style=\"text-align: right;\">\n",
       "      <th></th>\n",
       "      <th>Country</th>\n",
       "      <th>Year</th>\n",
       "      <th>Waste_generated_in_Unit</th>\n",
       "      <th>Continent</th>\n",
       "      <th>GDP_Per_Capita</th>\n",
       "      <th>Waste_recycled_in_Unit</th>\n",
       "      <th>Waste_incinerated_in_Unit</th>\n",
       "      <th>Waste_landfilled_in_Unit</th>\n",
       "      <th>Muni_waste_collect_in_1000_tones</th>\n",
       "    </tr>\n",
       "  </thead>\n",
       "  <tbody>\n",
       "    <tr>\n",
       "      <th>0</th>\n",
       "      <td>Andorra</td>\n",
       "      <td>2015</td>\n",
       "      <td>1788.000</td>\n",
       "      <td>Europe</td>\n",
       "      <td>NaN</td>\n",
       "      <td>0.0</td>\n",
       "      <td>0.0</td>\n",
       "      <td>0.000</td>\n",
       "      <td>42.070114</td>\n",
       "    </tr>\n",
       "    <tr>\n",
       "      <th>1</th>\n",
       "      <td>Andorra</td>\n",
       "      <td>2014</td>\n",
       "      <td>2081.000</td>\n",
       "      <td>Europe</td>\n",
       "      <td>NaN</td>\n",
       "      <td>0.0</td>\n",
       "      <td>0.0</td>\n",
       "      <td>0.000</td>\n",
       "      <td>41.141983</td>\n",
       "    </tr>\n",
       "    <tr>\n",
       "      <th>2</th>\n",
       "      <td>Andorra</td>\n",
       "      <td>2013</td>\n",
       "      <td>976.000</td>\n",
       "      <td>Europe</td>\n",
       "      <td>NaN</td>\n",
       "      <td>0.0</td>\n",
       "      <td>0.0</td>\n",
       "      <td>0.000</td>\n",
       "      <td>41.649109</td>\n",
       "    </tr>\n",
       "    <tr>\n",
       "      <th>3</th>\n",
       "      <td>Armenia</td>\n",
       "      <td>2015</td>\n",
       "      <td>555075.000</td>\n",
       "      <td>Europe</td>\n",
       "      <td>8171.832354</td>\n",
       "      <td>290.0</td>\n",
       "      <td>3767.0</td>\n",
       "      <td>551018.000</td>\n",
       "      <td>492.799988</td>\n",
       "    </tr>\n",
       "    <tr>\n",
       "      <th>4</th>\n",
       "      <td>Armenia</td>\n",
       "      <td>2014</td>\n",
       "      <td>576419.375</td>\n",
       "      <td>Europe</td>\n",
       "      <td>7954.195331</td>\n",
       "      <td>2290.0</td>\n",
       "      <td>2379.0</td>\n",
       "      <td>571750.375</td>\n",
       "      <td>517.099976</td>\n",
       "    </tr>\n",
       "  </tbody>\n",
       "</table>\n",
       "</div>"
      ],
      "text/plain": [
       "   Country  Year  Waste_generated_in_Unit Continent  GDP_Per_Capita  \\\n",
       "0  Andorra  2015                 1788.000    Europe             NaN   \n",
       "1  Andorra  2014                 2081.000    Europe             NaN   \n",
       "2  Andorra  2013                  976.000    Europe             NaN   \n",
       "3  Armenia  2015               555075.000    Europe     8171.832354   \n",
       "4  Armenia  2014               576419.375    Europe     7954.195331   \n",
       "\n",
       "   Waste_recycled_in_Unit  Waste_incinerated_in_Unit  \\\n",
       "0                     0.0                        0.0   \n",
       "1                     0.0                        0.0   \n",
       "2                     0.0                        0.0   \n",
       "3                   290.0                     3767.0   \n",
       "4                  2290.0                     2379.0   \n",
       "\n",
       "   Waste_landfilled_in_Unit  Muni_waste_collect_in_1000_tones  \n",
       "0                     0.000                         42.070114  \n",
       "1                     0.000                         41.141983  \n",
       "2                     0.000                         41.649109  \n",
       "3                551018.000                        492.799988  \n",
       "4                571750.375                        517.099976  "
      ]
     },
     "execution_count": 142,
     "metadata": {},
     "output_type": "execute_result"
    }
   ],
   "source": [
    "gdp_waste_total.head()"
   ]
  },
  {
   "cell_type": "code",
   "execution_count": 143,
   "metadata": {
    "scrolled": true
   },
   "outputs": [
    {
     "data": {
      "image/png": "[encoded data removed]",
      "text/plain": [
       "<Figure size 720x432 with 1 Axes>"
      ]
     },
     "metadata": {
      "needs_background": "light"
     },
     "output_type": "display_data"
    }
   ],
   "source": [
    "fontsize = 16\n",
    "\n",
    "plt.figure(figsize = (10,6))\n",
    "sns.scatterplot(data = gdp_waste_total, x = 'GDP_Per_Capita', y = 'Muni_waste_collect_in_1000_tones', s = 50, hue = 'Continent', alpha = 0.7, edgecolor = 'black')\n",
    "plt.xticks(fontsize = fontsize)\n",
    "plt.xlabel('GDP per capita', fontsize = fontsize)\n",
    "plt.yticks(fontsize = fontsize)\n",
    "plt.ylabel('municipal waste collected in 1000 tones', fontsize = fontsize)\n",
    "plt.title('GDP per capita vs municipal waste collected',fontsize = fontsize, fontweight = 'bold')\n",
    "plt.legend(fontsize = fontsize - 2);"
   ]
  },
  {
   "cell_type": "code",
   "execution_count": 144,
   "metadata": {},
   "outputs": [],
   "source": [
    "gdp_waste_tot_2010 = gdp_waste_total.loc[gdp_waste_total['Year'] == 2010]"
   ]
  },
  {
   "cell_type": "code",
   "execution_count": 145,
   "metadata": {},
   "outputs": [
    {
     "data": {
      "text/html": [
       "<div>\n",
       "<style scoped>\n",
       "    .dataframe tbody tr th:only-of-type {\n",
       "        vertical-align: middle;\n",
       "    }\n",
       "\n",
       "    .dataframe tbody tr th {\n",
       "        vertical-align: top;\n",
       "    }\n",
       "\n",
       "    .dataframe thead th {\n",
       "        text-align: right;\n",
       "    }\n",
       "</style>\n",
       "<table border=\"1\" class=\"dataframe\">\n",
       "  <thead>\n",
       "    <tr style=\"text-align: right;\">\n",
       "      <th></th>\n",
       "      <th>Country</th>\n",
       "      <th>Year</th>\n",
       "      <th>Waste_generated_in_Unit</th>\n",
       "      <th>Continent</th>\n",
       "      <th>GDP_Per_Capita</th>\n",
       "      <th>Waste_recycled_in_Unit</th>\n",
       "      <th>Waste_incinerated_in_Unit</th>\n",
       "      <th>Waste_landfilled_in_Unit</th>\n",
       "      <th>Muni_waste_collect_in_1000_tones</th>\n",
       "    </tr>\n",
       "  </thead>\n",
       "  <tbody>\n",
       "    <tr>\n",
       "      <th>8</th>\n",
       "      <td>Armenia</td>\n",
       "      <td>2010</td>\n",
       "      <td>4.353978e+05</td>\n",
       "      <td>Europe</td>\n",
       "      <td>6702.829370</td>\n",
       "      <td>2.286000e+03</td>\n",
       "      <td>300.000000</td>\n",
       "      <td>432811.781250</td>\n",
       "      <td>387.100006</td>\n",
       "    </tr>\n",
       "    <tr>\n",
       "      <th>23</th>\n",
       "      <td>Austria</td>\n",
       "      <td>2010</td>\n",
       "      <td>1.472864e+06</td>\n",
       "      <td>Europe</td>\n",
       "      <td>43336.198001</td>\n",
       "      <td>1.969560e+05</td>\n",
       "      <td>156167.000000</td>\n",
       "      <td>47959.000000</td>\n",
       "      <td>4701.000000</td>\n",
       "    </tr>\n",
       "    <tr>\n",
       "      <th>29</th>\n",
       "      <td>Azerbaijan</td>\n",
       "      <td>2010</td>\n",
       "      <td>1.399710e+05</td>\n",
       "      <td>Europe</td>\n",
       "      <td>16215.847200</td>\n",
       "      <td>5.548200e+03</td>\n",
       "      <td>58429.101562</td>\n",
       "      <td>87314.601562</td>\n",
       "      <td>1609.000000</td>\n",
       "    </tr>\n",
       "    <tr>\n",
       "      <th>43</th>\n",
       "      <td>Belarus</td>\n",
       "      <td>2010</td>\n",
       "      <td>9.182000e+05</td>\n",
       "      <td>Europe</td>\n",
       "      <td>16260.592680</td>\n",
       "      <td>7.749000e+05</td>\n",
       "      <td>46000.000000</td>\n",
       "      <td>136600.000000</td>\n",
       "      <td>3245.899902</td>\n",
       "    </tr>\n",
       "    <tr>\n",
       "      <th>52</th>\n",
       "      <td>Belgium</td>\n",
       "      <td>2010</td>\n",
       "      <td>4.767299e+06</td>\n",
       "      <td>Europe</td>\n",
       "      <td>40787.373216</td>\n",
       "      <td>1.261040e+07</td>\n",
       "      <td>372737.000000</td>\n",
       "      <td>981568.000000</td>\n",
       "      <td>4973.000000</td>\n",
       "    </tr>\n",
       "  </tbody>\n",
       "</table>\n",
       "</div>"
      ],
      "text/plain": [
       "       Country  Year  Waste_generated_in_Unit Continent  GDP_Per_Capita  \\\n",
       "8      Armenia  2010             4.353978e+05    Europe     6702.829370   \n",
       "23     Austria  2010             1.472864e+06    Europe    43336.198001   \n",
       "29  Azerbaijan  2010             1.399710e+05    Europe    16215.847200   \n",
       "43     Belarus  2010             9.182000e+05    Europe    16260.592680   \n",
       "52     Belgium  2010             4.767299e+06    Europe    40787.373216   \n",
       "\n",
       "    Waste_recycled_in_Unit  Waste_incinerated_in_Unit  \\\n",
       "8             2.286000e+03                 300.000000   \n",
       "23            1.969560e+05              156167.000000   \n",
       "29            5.548200e+03               58429.101562   \n",
       "43            7.749000e+05               46000.000000   \n",
       "52            1.261040e+07              372737.000000   \n",
       "\n",
       "    Waste_landfilled_in_Unit  Muni_waste_collect_in_1000_tones  \n",
       "8              432811.781250                        387.100006  \n",
       "23              47959.000000                       4701.000000  \n",
       "29              87314.601562                       1609.000000  \n",
       "43             136600.000000                       3245.899902  \n",
       "52             981568.000000                       4973.000000  "
      ]
     },
     "execution_count": 145,
     "metadata": {},
     "output_type": "execute_result"
    }
   ],
   "source": [
    "gdp_waste_tot_2010.head()"
   ]
  },
  {
   "cell_type": "code",
   "execution_count": 199,
   "metadata": {
    "scrolled": false
   },
   "outputs": [
    {
     "data": {
      "text/html": [
       "<div>\n",
       "<style scoped>\n",
       "    .dataframe tbody tr th:only-of-type {\n",
       "        vertical-align: middle;\n",
       "    }\n",
       "\n",
       "    .dataframe tbody tr th {\n",
       "        vertical-align: top;\n",
       "    }\n",
       "\n",
       "    .dataframe thead th {\n",
       "        text-align: right;\n",
       "    }\n",
       "</style>\n",
       "<table border=\"1\" class=\"dataframe\">\n",
       "  <thead>\n",
       "    <tr style=\"text-align: right;\">\n",
       "      <th></th>\n",
       "      <th>GDP_Per_Capita</th>\n",
       "      <th>Waste_generated_in_Unit</th>\n",
       "      <th>Waste_recycled_in_Unit</th>\n",
       "      <th>Waste_incinerated_in_Unit</th>\n",
       "      <th>Waste_landfilled_in_Unit</th>\n",
       "      <th>Muni_waste_collect_in_1000_tones</th>\n",
       "    </tr>\n",
       "  </thead>\n",
       "  <tbody>\n",
       "    <tr>\n",
       "      <th>GDP_Per_Capita</th>\n",
       "      <td>1.000000</td>\n",
       "      <td>-0.083040</td>\n",
       "      <td>0.060514</td>\n",
       "      <td>0.197838</td>\n",
       "      <td>-0.174251</td>\n",
       "      <td>0.048163</td>\n",
       "    </tr>\n",
       "    <tr>\n",
       "      <th>Waste_generated_in_Unit</th>\n",
       "      <td>-0.083040</td>\n",
       "      <td>1.000000</td>\n",
       "      <td>0.794113</td>\n",
       "      <td>0.164581</td>\n",
       "      <td>0.242096</td>\n",
       "      <td>0.013017</td>\n",
       "    </tr>\n",
       "    <tr>\n",
       "      <th>Waste_recycled_in_Unit</th>\n",
       "      <td>0.060514</td>\n",
       "      <td>0.794113</td>\n",
       "      <td>1.000000</td>\n",
       "      <td>0.486780</td>\n",
       "      <td>0.204145</td>\n",
       "      <td>0.255677</td>\n",
       "    </tr>\n",
       "    <tr>\n",
       "      <th>Waste_incinerated_in_Unit</th>\n",
       "      <td>0.197838</td>\n",
       "      <td>0.164581</td>\n",
       "      <td>0.486780</td>\n",
       "      <td>1.000000</td>\n",
       "      <td>0.173070</td>\n",
       "      <td>0.728363</td>\n",
       "    </tr>\n",
       "    <tr>\n",
       "      <th>Waste_landfilled_in_Unit</th>\n",
       "      <td>-0.174251</td>\n",
       "      <td>0.242096</td>\n",
       "      <td>0.204145</td>\n",
       "      <td>0.173070</td>\n",
       "      <td>1.000000</td>\n",
       "      <td>0.122822</td>\n",
       "    </tr>\n",
       "    <tr>\n",
       "      <th>Muni_waste_collect_in_1000_tones</th>\n",
       "      <td>0.048163</td>\n",
       "      <td>0.013017</td>\n",
       "      <td>0.255677</td>\n",
       "      <td>0.728363</td>\n",
       "      <td>0.122822</td>\n",
       "      <td>1.000000</td>\n",
       "    </tr>\n",
       "  </tbody>\n",
       "</table>\n",
       "</div>"
      ],
      "text/plain": [
       "                                  GDP_Per_Capita  Waste_generated_in_Unit  \\\n",
       "GDP_Per_Capita                          1.000000                -0.083040   \n",
       "Waste_generated_in_Unit                -0.083040                 1.000000   \n",
       "Waste_recycled_in_Unit                  0.060514                 0.794113   \n",
       "Waste_incinerated_in_Unit               0.197838                 0.164581   \n",
       "Waste_landfilled_in_Unit               -0.174251                 0.242096   \n",
       "Muni_waste_collect_in_1000_tones        0.048163                 0.013017   \n",
       "\n",
       "                                  Waste_recycled_in_Unit  \\\n",
       "GDP_Per_Capita                                  0.060514   \n",
       "Waste_generated_in_Unit                         0.794113   \n",
       "Waste_recycled_in_Unit                          1.000000   \n",
       "Waste_incinerated_in_Unit                       0.486780   \n",
       "Waste_landfilled_in_Unit                        0.204145   \n",
       "Muni_waste_collect_in_1000_tones                0.255677   \n",
       "\n",
       "                                  Waste_incinerated_in_Unit  \\\n",
       "GDP_Per_Capita                                     0.197838   \n",
       "Waste_generated_in_Unit                            0.164581   \n",
       "Waste_recycled_in_Unit                             0.486780   \n",
       "Waste_incinerated_in_Unit                          1.000000   \n",
       "Waste_landfilled_in_Unit                           0.173070   \n",
       "Muni_waste_collect_in_1000_tones                   0.728363   \n",
       "\n",
       "                                  Waste_landfilled_in_Unit  \\\n",
       "GDP_Per_Capita                                   -0.174251   \n",
       "Waste_generated_in_Unit                           0.242096   \n",
       "Waste_recycled_in_Unit                            0.204145   \n",
       "Waste_incinerated_in_Unit                         0.173070   \n",
       "Waste_landfilled_in_Unit                          1.000000   \n",
       "Muni_waste_collect_in_1000_tones                  0.122822   \n",
       "\n",
       "                                  Muni_waste_collect_in_1000_tones  \n",
       "GDP_Per_Capita                                            0.048163  \n",
       "Waste_generated_in_Unit                                   0.013017  \n",
       "Waste_recycled_in_Unit                                    0.255677  \n",
       "Waste_incinerated_in_Unit                                 0.728363  \n",
       "Waste_landfilled_in_Unit                                  0.122822  \n",
       "Muni_waste_collect_in_1000_tones                          1.000000  "
      ]
     },
     "execution_count": 199,
     "metadata": {},
     "output_type": "execute_result"
    }
   ],
   "source": [
    "gdp_waste_tot_2010[['GDP_Per_Capita','Waste_generated_in_Unit', 'Waste_recycled_in_Unit', 'Waste_incinerated_in_Unit', 'Waste_landfilled_in_Unit', 'Muni_waste_collect_in_1000_tones']].corr()"
   ]
  },
  {
   "cell_type": "code",
   "execution_count": 209,
   "metadata": {},
   "outputs": [
    {
     "data": {
      "image/png": "[encoded data removed]",
      "text/plain": [
       "<Figure size 432x288 with 1 Axes>"
      ]
     },
     "metadata": {
      "needs_background": "light"
     },
     "output_type": "display_data"
    }
   ],
   "source": [
    "gdp_muni_waste_large = gdp_waste_total.loc[gdp_waste_total['Country'].isin(['Germany'])]\n",
    "fig, ax =plt.subplots()\n",
    "gdp_muni_waste_large.groupby('Country').plot(x='Year', y='Waste_generated_in_Unit', ax=ax, legend=False)\n",
    "plt.title('Hazardous waste generated in Germany',fontweight = 'bold')\n",
    "plt.ylabel('Waste generated in units');"
   ]
  },
  {
   "cell_type": "code",
   "execution_count": 210,
   "metadata": {},
   "outputs": [
    {
     "data": {
      "image/png": "[encoded data removed]",
      "text/plain": [
       "<Figure size 432x288 with 1 Axes>"
      ]
     },
     "metadata": {
      "needs_background": "light"
     },
     "output_type": "display_data"
    }
   ],
   "source": [
    "gdp_muni_waste_large2 = gdp_waste_total.loc[gdp_waste_total['Country'].isin(['Luxembourg'])]\n",
    "fig, ax =plt.subplots()\n",
    "gdp_muni_waste_large2.groupby('Country').plot(x='Year', y='Waste_generated_in_Unit', ax=ax, legend=False)\n",
    "plt.title('Hazardous waste generated in Luxembourg',fontweight = 'bold')\n",
    "plt.ylabel('Waste generated in units');"
   ]
  },
  {
   "cell_type": "code",
   "execution_count": null,
   "metadata": {},
   "outputs": [],
   "source": []
  }
 ],
 "metadata": {
  "kernelspec": {
   "display_name": "Python 3",
   "language": "python",
   "name": "python3"
  },
  "language_info": {
   "codemirror_mode": {
    "name": "ipython",
    "version": 3
   },
   "file_extension": ".py",
   "mimetype": "text/x-python",
   "name": "python",
   "nbconvert_exporter": "python",
   "pygments_lexer": "ipython3",
   "version": "3.7.3"
  }
 },
 "nbformat": 4,
 "nbformat_minor": 2
}
